{
  "nbformat": 4,
  "nbformat_minor": 0,
  "metadata": {
    "colab": {
      "provenance": []
    },
    "kernelspec": {
      "name": "python3",
      "display_name": "Python 3"
    },
    "language_info": {
      "name": "python"
    }
  },
  "cells": [
    {
      "cell_type": "code",
      "execution_count": 4,
      "metadata": {
        "id": "DGTm040J67Xd"
      },
      "outputs": [],
      "source": [
        "#importing the libraries\n",
        "import pandas as pd\n",
        "import matplotlib.pyplot as plt\n",
        "import seaborn as sns\n",
        "import numpy as np\n",
        "import plotly.express as px\n",
        "from scipy.stats.mstats import winsorize\n",
        "import plotly.express as px\n",
        "\n"
      ]
    },
    {
      "cell_type": "code",
      "source": [
        "missing_value=[\"N/a\",\"na\",np.nan]\n",
        "df1=pd.read_csv('/content/drive/MyDrive/Capstone+Project+1/Credit_card.csv',na_values=missing_value)\n",
        "df2=pd.read_csv('/content/drive/MyDrive/Capstone+Project+1/Credit_card_label.csv')\n",
        "df= pd.merge(df1, df2, on='Ind_ID') # merging the output varibale table with the main dataframe"
      ],
      "metadata": {
        "id": "sG4PmLBF7Znj"
      },
      "execution_count": 5,
      "outputs": []
    },
    {
      "cell_type": "code",
      "source": [
        "df.head(5)##getting an overview"
      ],
      "metadata": {
        "colab": {
          "base_uri": "https://localhost:8080/",
          "height": 309
        },
        "id": "hVqQfwS37oi-",
        "outputId": "36066b0c-77a8-4960-d3a7-64b274179a0e"
      },
      "execution_count": 6,
      "outputs": [
        {
          "output_type": "execute_result",
          "data": {
            "text/plain": [
              "    Ind_ID GENDER Car_Owner Propert_Owner  CHILDREN  Annual_income  \\\n",
              "0  5008827      M         Y             Y         0       180000.0   \n",
              "1  5009744      F         Y             N         0       315000.0   \n",
              "2  5009746      F         Y             N         0       315000.0   \n",
              "3  5009749      F         Y             N         0            NaN   \n",
              "4  5009752      F         Y             N         0       315000.0   \n",
              "\n",
              "            Type_Income         EDUCATION Marital_status       Housing_type  \\\n",
              "0             Pensioner  Higher education        Married  House / apartment   \n",
              "1  Commercial associate  Higher education        Married  House / apartment   \n",
              "2  Commercial associate  Higher education        Married  House / apartment   \n",
              "3  Commercial associate  Higher education        Married  House / apartment   \n",
              "4  Commercial associate  Higher education        Married  House / apartment   \n",
              "\n",
              "   Birthday_count  Employed_days  Mobile_phone  Work_Phone  Phone  EMAIL_ID  \\\n",
              "0        -18772.0         365243             1           0      0         0   \n",
              "1        -13557.0           -586             1           1      1         0   \n",
              "2             NaN           -586             1           1      1         0   \n",
              "3        -13557.0           -586             1           1      1         0   \n",
              "4        -13557.0           -586             1           1      1         0   \n",
              "\n",
              "  Type_Occupation  Family_Members  label  \n",
              "0             NaN               2      1  \n",
              "1             NaN               2      1  \n",
              "2             NaN               2      1  \n",
              "3             NaN               2      1  \n",
              "4             NaN               2      1  "
            ],
            "text/html": [
              "\n",
              "  <div id=\"df-24f853df-d253-477d-a880-e54919854e1d\" class=\"colab-df-container\">\n",
              "    <div>\n",
              "<style scoped>\n",
              "    .dataframe tbody tr th:only-of-type {\n",
              "        vertical-align: middle;\n",
              "    }\n",
              "\n",
              "    .dataframe tbody tr th {\n",
              "        vertical-align: top;\n",
              "    }\n",
              "\n",
              "    .dataframe thead th {\n",
              "        text-align: right;\n",
              "    }\n",
              "</style>\n",
              "<table border=\"1\" class=\"dataframe\">\n",
              "  <thead>\n",
              "    <tr style=\"text-align: right;\">\n",
              "      <th></th>\n",
              "      <th>Ind_ID</th>\n",
              "      <th>GENDER</th>\n",
              "      <th>Car_Owner</th>\n",
              "      <th>Propert_Owner</th>\n",
              "      <th>CHILDREN</th>\n",
              "      <th>Annual_income</th>\n",
              "      <th>Type_Income</th>\n",
              "      <th>EDUCATION</th>\n",
              "      <th>Marital_status</th>\n",
              "      <th>Housing_type</th>\n",
              "      <th>Birthday_count</th>\n",
              "      <th>Employed_days</th>\n",
              "      <th>Mobile_phone</th>\n",
              "      <th>Work_Phone</th>\n",
              "      <th>Phone</th>\n",
              "      <th>EMAIL_ID</th>\n",
              "      <th>Type_Occupation</th>\n",
              "      <th>Family_Members</th>\n",
              "      <th>label</th>\n",
              "    </tr>\n",
              "  </thead>\n",
              "  <tbody>\n",
              "    <tr>\n",
              "      <th>0</th>\n",
              "      <td>5008827</td>\n",
              "      <td>M</td>\n",
              "      <td>Y</td>\n",
              "      <td>Y</td>\n",
              "      <td>0</td>\n",
              "      <td>180000.0</td>\n",
              "      <td>Pensioner</td>\n",
              "      <td>Higher education</td>\n",
              "      <td>Married</td>\n",
              "      <td>House / apartment</td>\n",
              "      <td>-18772.0</td>\n",
              "      <td>365243</td>\n",
              "      <td>1</td>\n",
              "      <td>0</td>\n",
              "      <td>0</td>\n",
              "      <td>0</td>\n",
              "      <td>NaN</td>\n",
              "      <td>2</td>\n",
              "      <td>1</td>\n",
              "    </tr>\n",
              "    <tr>\n",
              "      <th>1</th>\n",
              "      <td>5009744</td>\n",
              "      <td>F</td>\n",
              "      <td>Y</td>\n",
              "      <td>N</td>\n",
              "      <td>0</td>\n",
              "      <td>315000.0</td>\n",
              "      <td>Commercial associate</td>\n",
              "      <td>Higher education</td>\n",
              "      <td>Married</td>\n",
              "      <td>House / apartment</td>\n",
              "      <td>-13557.0</td>\n",
              "      <td>-586</td>\n",
              "      <td>1</td>\n",
              "      <td>1</td>\n",
              "      <td>1</td>\n",
              "      <td>0</td>\n",
              "      <td>NaN</td>\n",
              "      <td>2</td>\n",
              "      <td>1</td>\n",
              "    </tr>\n",
              "    <tr>\n",
              "      <th>2</th>\n",
              "      <td>5009746</td>\n",
              "      <td>F</td>\n",
              "      <td>Y</td>\n",
              "      <td>N</td>\n",
              "      <td>0</td>\n",
              "      <td>315000.0</td>\n",
              "      <td>Commercial associate</td>\n",
              "      <td>Higher education</td>\n",
              "      <td>Married</td>\n",
              "      <td>House / apartment</td>\n",
              "      <td>NaN</td>\n",
              "      <td>-586</td>\n",
              "      <td>1</td>\n",
              "      <td>1</td>\n",
              "      <td>1</td>\n",
              "      <td>0</td>\n",
              "      <td>NaN</td>\n",
              "      <td>2</td>\n",
              "      <td>1</td>\n",
              "    </tr>\n",
              "    <tr>\n",
              "      <th>3</th>\n",
              "      <td>5009749</td>\n",
              "      <td>F</td>\n",
              "      <td>Y</td>\n",
              "      <td>N</td>\n",
              "      <td>0</td>\n",
              "      <td>NaN</td>\n",
              "      <td>Commercial associate</td>\n",
              "      <td>Higher education</td>\n",
              "      <td>Married</td>\n",
              "      <td>House / apartment</td>\n",
              "      <td>-13557.0</td>\n",
              "      <td>-586</td>\n",
              "      <td>1</td>\n",
              "      <td>1</td>\n",
              "      <td>1</td>\n",
              "      <td>0</td>\n",
              "      <td>NaN</td>\n",
              "      <td>2</td>\n",
              "      <td>1</td>\n",
              "    </tr>\n",
              "    <tr>\n",
              "      <th>4</th>\n",
              "      <td>5009752</td>\n",
              "      <td>F</td>\n",
              "      <td>Y</td>\n",
              "      <td>N</td>\n",
              "      <td>0</td>\n",
              "      <td>315000.0</td>\n",
              "      <td>Commercial associate</td>\n",
              "      <td>Higher education</td>\n",
              "      <td>Married</td>\n",
              "      <td>House / apartment</td>\n",
              "      <td>-13557.0</td>\n",
              "      <td>-586</td>\n",
              "      <td>1</td>\n",
              "      <td>1</td>\n",
              "      <td>1</td>\n",
              "      <td>0</td>\n",
              "      <td>NaN</td>\n",
              "      <td>2</td>\n",
              "      <td>1</td>\n",
              "    </tr>\n",
              "  </tbody>\n",
              "</table>\n",
              "</div>\n",
              "    <div class=\"colab-df-buttons\">\n",
              "\n",
              "  <div class=\"colab-df-container\">\n",
              "    <button class=\"colab-df-convert\" onclick=\"convertToInteractive('df-24f853df-d253-477d-a880-e54919854e1d')\"\n",
              "            title=\"Convert this dataframe to an interactive table.\"\n",
              "            style=\"display:none;\">\n",
              "\n",
              "  <svg xmlns=\"http://www.w3.org/2000/svg\" height=\"24px\" viewBox=\"0 -960 960 960\">\n",
              "    <path d=\"M120-120v-720h720v720H120Zm60-500h600v-160H180v160Zm220 220h160v-160H400v160Zm0 220h160v-160H400v160ZM180-400h160v-160H180v160Zm440 0h160v-160H620v160ZM180-180h160v-160H180v160Zm440 0h160v-160H620v160Z\"/>\n",
              "  </svg>\n",
              "    </button>\n",
              "\n",
              "  <style>\n",
              "    .colab-df-container {\n",
              "      display:flex;\n",
              "      gap: 12px;\n",
              "    }\n",
              "\n",
              "    .colab-df-convert {\n",
              "      background-color: #E8F0FE;\n",
              "      border: none;\n",
              "      border-radius: 50%;\n",
              "      cursor: pointer;\n",
              "      display: none;\n",
              "      fill: #1967D2;\n",
              "      height: 32px;\n",
              "      padding: 0 0 0 0;\n",
              "      width: 32px;\n",
              "    }\n",
              "\n",
              "    .colab-df-convert:hover {\n",
              "      background-color: #E2EBFA;\n",
              "      box-shadow: 0px 1px 2px rgba(60, 64, 67, 0.3), 0px 1px 3px 1px rgba(60, 64, 67, 0.15);\n",
              "      fill: #174EA6;\n",
              "    }\n",
              "\n",
              "    .colab-df-buttons div {\n",
              "      margin-bottom: 4px;\n",
              "    }\n",
              "\n",
              "    [theme=dark] .colab-df-convert {\n",
              "      background-color: #3B4455;\n",
              "      fill: #D2E3FC;\n",
              "    }\n",
              "\n",
              "    [theme=dark] .colab-df-convert:hover {\n",
              "      background-color: #434B5C;\n",
              "      box-shadow: 0px 1px 3px 1px rgba(0, 0, 0, 0.15);\n",
              "      filter: drop-shadow(0px 1px 2px rgba(0, 0, 0, 0.3));\n",
              "      fill: #FFFFFF;\n",
              "    }\n",
              "  </style>\n",
              "\n",
              "    <script>\n",
              "      const buttonEl =\n",
              "        document.querySelector('#df-24f853df-d253-477d-a880-e54919854e1d button.colab-df-convert');\n",
              "      buttonEl.style.display =\n",
              "        google.colab.kernel.accessAllowed ? 'block' : 'none';\n",
              "\n",
              "      async function convertToInteractive(key) {\n",
              "        const element = document.querySelector('#df-24f853df-d253-477d-a880-e54919854e1d');\n",
              "        const dataTable =\n",
              "          await google.colab.kernel.invokeFunction('convertToInteractive',\n",
              "                                                    [key], {});\n",
              "        if (!dataTable) return;\n",
              "\n",
              "        const docLinkHtml = 'Like what you see? Visit the ' +\n",
              "          '<a target=\"_blank\" href=https://colab.research.google.com/notebooks/data_table.ipynb>data table notebook</a>'\n",
              "          + ' to learn more about interactive tables.';\n",
              "        element.innerHTML = '';\n",
              "        dataTable['output_type'] = 'display_data';\n",
              "        await google.colab.output.renderOutput(dataTable, element);\n",
              "        const docLink = document.createElement('div');\n",
              "        docLink.innerHTML = docLinkHtml;\n",
              "        element.appendChild(docLink);\n",
              "      }\n",
              "    </script>\n",
              "  </div>\n",
              "\n",
              "\n",
              "<div id=\"df-3508d591-a3e6-468a-92d1-a59a2f89306e\">\n",
              "  <button class=\"colab-df-quickchart\" onclick=\"quickchart('df-3508d591-a3e6-468a-92d1-a59a2f89306e')\"\n",
              "            title=\"Suggest charts\"\n",
              "            style=\"display:none;\">\n",
              "\n",
              "<svg xmlns=\"http://www.w3.org/2000/svg\" height=\"24px\"viewBox=\"0 0 24 24\"\n",
              "     width=\"24px\">\n",
              "    <g>\n",
              "        <path d=\"M19 3H5c-1.1 0-2 .9-2 2v14c0 1.1.9 2 2 2h14c1.1 0 2-.9 2-2V5c0-1.1-.9-2-2-2zM9 17H7v-7h2v7zm4 0h-2V7h2v10zm4 0h-2v-4h2v4z\"/>\n",
              "    </g>\n",
              "</svg>\n",
              "  </button>\n",
              "\n",
              "<style>\n",
              "  .colab-df-quickchart {\n",
              "      --bg-color: #E8F0FE;\n",
              "      --fill-color: #1967D2;\n",
              "      --hover-bg-color: #E2EBFA;\n",
              "      --hover-fill-color: #174EA6;\n",
              "      --disabled-fill-color: #AAA;\n",
              "      --disabled-bg-color: #DDD;\n",
              "  }\n",
              "\n",
              "  [theme=dark] .colab-df-quickchart {\n",
              "      --bg-color: #3B4455;\n",
              "      --fill-color: #D2E3FC;\n",
              "      --hover-bg-color: #434B5C;\n",
              "      --hover-fill-color: #FFFFFF;\n",
              "      --disabled-bg-color: #3B4455;\n",
              "      --disabled-fill-color: #666;\n",
              "  }\n",
              "\n",
              "  .colab-df-quickchart {\n",
              "    background-color: var(--bg-color);\n",
              "    border: none;\n",
              "    border-radius: 50%;\n",
              "    cursor: pointer;\n",
              "    display: none;\n",
              "    fill: var(--fill-color);\n",
              "    height: 32px;\n",
              "    padding: 0;\n",
              "    width: 32px;\n",
              "  }\n",
              "\n",
              "  .colab-df-quickchart:hover {\n",
              "    background-color: var(--hover-bg-color);\n",
              "    box-shadow: 0 1px 2px rgba(60, 64, 67, 0.3), 0 1px 3px 1px rgba(60, 64, 67, 0.15);\n",
              "    fill: var(--button-hover-fill-color);\n",
              "  }\n",
              "\n",
              "  .colab-df-quickchart-complete:disabled,\n",
              "  .colab-df-quickchart-complete:disabled:hover {\n",
              "    background-color: var(--disabled-bg-color);\n",
              "    fill: var(--disabled-fill-color);\n",
              "    box-shadow: none;\n",
              "  }\n",
              "\n",
              "  .colab-df-spinner {\n",
              "    border: 2px solid var(--fill-color);\n",
              "    border-color: transparent;\n",
              "    border-bottom-color: var(--fill-color);\n",
              "    animation:\n",
              "      spin 1s steps(1) infinite;\n",
              "  }\n",
              "\n",
              "  @keyframes spin {\n",
              "    0% {\n",
              "      border-color: transparent;\n",
              "      border-bottom-color: var(--fill-color);\n",
              "      border-left-color: var(--fill-color);\n",
              "    }\n",
              "    20% {\n",
              "      border-color: transparent;\n",
              "      border-left-color: var(--fill-color);\n",
              "      border-top-color: var(--fill-color);\n",
              "    }\n",
              "    30% {\n",
              "      border-color: transparent;\n",
              "      border-left-color: var(--fill-color);\n",
              "      border-top-color: var(--fill-color);\n",
              "      border-right-color: var(--fill-color);\n",
              "    }\n",
              "    40% {\n",
              "      border-color: transparent;\n",
              "      border-right-color: var(--fill-color);\n",
              "      border-top-color: var(--fill-color);\n",
              "    }\n",
              "    60% {\n",
              "      border-color: transparent;\n",
              "      border-right-color: var(--fill-color);\n",
              "    }\n",
              "    80% {\n",
              "      border-color: transparent;\n",
              "      border-right-color: var(--fill-color);\n",
              "      border-bottom-color: var(--fill-color);\n",
              "    }\n",
              "    90% {\n",
              "      border-color: transparent;\n",
              "      border-bottom-color: var(--fill-color);\n",
              "    }\n",
              "  }\n",
              "</style>\n",
              "\n",
              "  <script>\n",
              "    async function quickchart(key) {\n",
              "      const quickchartButtonEl =\n",
              "        document.querySelector('#' + key + ' button');\n",
              "      quickchartButtonEl.disabled = true;  // To prevent multiple clicks.\n",
              "      quickchartButtonEl.classList.add('colab-df-spinner');\n",
              "      try {\n",
              "        const charts = await google.colab.kernel.invokeFunction(\n",
              "            'suggestCharts', [key], {});\n",
              "      } catch (error) {\n",
              "        console.error('Error during call to suggestCharts:', error);\n",
              "      }\n",
              "      quickchartButtonEl.classList.remove('colab-df-spinner');\n",
              "      quickchartButtonEl.classList.add('colab-df-quickchart-complete');\n",
              "    }\n",
              "    (() => {\n",
              "      let quickchartButtonEl =\n",
              "        document.querySelector('#df-3508d591-a3e6-468a-92d1-a59a2f89306e button');\n",
              "      quickchartButtonEl.style.display =\n",
              "        google.colab.kernel.accessAllowed ? 'block' : 'none';\n",
              "    })();\n",
              "  </script>\n",
              "</div>\n",
              "    </div>\n",
              "  </div>\n"
            ]
          },
          "metadata": {},
          "execution_count": 6
        }
      ]
    },
    {
      "cell_type": "code",
      "source": [
        "df.tail()"
      ],
      "metadata": {
        "colab": {
          "base_uri": "https://localhost:8080/",
          "height": 326
        },
        "id": "M9z8ovN4oymf",
        "outputId": "0e4d8f49-e836-4899-e27e-5c501f1d7bf7"
      },
      "execution_count": 10,
      "outputs": [
        {
          "output_type": "execute_result",
          "data": {
            "text/plain": [
              "       Ind_ID GENDER Car_Owner Propert_Owner  CHILDREN  Annual_income  \\\n",
              "1543  5028645      F         N             Y         0            NaN   \n",
              "1544  5023655      F         N             N         0       225000.0   \n",
              "1545  5115992      M         Y             Y         2       180000.0   \n",
              "1546  5118219      M         Y             N         0       270000.0   \n",
              "1547  5053790      F         Y             Y         0       225000.0   \n",
              "\n",
              "               Type_Income                      EDUCATION  \\\n",
              "1543  Commercial associate               Higher education   \n",
              "1544  Commercial associate              Incomplete higher   \n",
              "1545               Working               Higher education   \n",
              "1546               Working  Secondary / secondary special   \n",
              "1547               Working               Higher education   \n",
              "\n",
              "            Marital_status       Housing_type  Birthday_count  Employed_days  \\\n",
              "1543               Married  House / apartment        -11957.0          -2182   \n",
              "1544  Single / not married  House / apartment        -10229.0          -1209   \n",
              "1545               Married  House / apartment        -13174.0          -2477   \n",
              "1546        Civil marriage  House / apartment        -15292.0           -645   \n",
              "1547               Married  House / apartment        -16601.0          -2859   \n",
              "\n",
              "      Mobile_phone  Work_Phone  Phone  EMAIL_ID Type_Occupation  \\\n",
              "1543             1           0      0         0        Managers   \n",
              "1544             1           0      0         0     Accountants   \n",
              "1545             1           0      0         0        Managers   \n",
              "1546             1           1      1         0         Drivers   \n",
              "1547             1           0      0         0             NaN   \n",
              "\n",
              "      Family_Members  label  \n",
              "1543               2      0  \n",
              "1544               1      0  \n",
              "1545               4      0  \n",
              "1546               2      0  \n",
              "1547               2      0  "
            ],
            "text/html": [
              "\n",
              "  <div id=\"df-51ca5955-e65a-49d1-918d-ba13968a56ec\" class=\"colab-df-container\">\n",
              "    <div>\n",
              "<style scoped>\n",
              "    .dataframe tbody tr th:only-of-type {\n",
              "        vertical-align: middle;\n",
              "    }\n",
              "\n",
              "    .dataframe tbody tr th {\n",
              "        vertical-align: top;\n",
              "    }\n",
              "\n",
              "    .dataframe thead th {\n",
              "        text-align: right;\n",
              "    }\n",
              "</style>\n",
              "<table border=\"1\" class=\"dataframe\">\n",
              "  <thead>\n",
              "    <tr style=\"text-align: right;\">\n",
              "      <th></th>\n",
              "      <th>Ind_ID</th>\n",
              "      <th>GENDER</th>\n",
              "      <th>Car_Owner</th>\n",
              "      <th>Propert_Owner</th>\n",
              "      <th>CHILDREN</th>\n",
              "      <th>Annual_income</th>\n",
              "      <th>Type_Income</th>\n",
              "      <th>EDUCATION</th>\n",
              "      <th>Marital_status</th>\n",
              "      <th>Housing_type</th>\n",
              "      <th>Birthday_count</th>\n",
              "      <th>Employed_days</th>\n",
              "      <th>Mobile_phone</th>\n",
              "      <th>Work_Phone</th>\n",
              "      <th>Phone</th>\n",
              "      <th>EMAIL_ID</th>\n",
              "      <th>Type_Occupation</th>\n",
              "      <th>Family_Members</th>\n",
              "      <th>label</th>\n",
              "    </tr>\n",
              "  </thead>\n",
              "  <tbody>\n",
              "    <tr>\n",
              "      <th>1543</th>\n",
              "      <td>5028645</td>\n",
              "      <td>F</td>\n",
              "      <td>N</td>\n",
              "      <td>Y</td>\n",
              "      <td>0</td>\n",
              "      <td>NaN</td>\n",
              "      <td>Commercial associate</td>\n",
              "      <td>Higher education</td>\n",
              "      <td>Married</td>\n",
              "      <td>House / apartment</td>\n",
              "      <td>-11957.0</td>\n",
              "      <td>-2182</td>\n",
              "      <td>1</td>\n",
              "      <td>0</td>\n",
              "      <td>0</td>\n",
              "      <td>0</td>\n",
              "      <td>Managers</td>\n",
              "      <td>2</td>\n",
              "      <td>0</td>\n",
              "    </tr>\n",
              "    <tr>\n",
              "      <th>1544</th>\n",
              "      <td>5023655</td>\n",
              "      <td>F</td>\n",
              "      <td>N</td>\n",
              "      <td>N</td>\n",
              "      <td>0</td>\n",
              "      <td>225000.0</td>\n",
              "      <td>Commercial associate</td>\n",
              "      <td>Incomplete higher</td>\n",
              "      <td>Single / not married</td>\n",
              "      <td>House / apartment</td>\n",
              "      <td>-10229.0</td>\n",
              "      <td>-1209</td>\n",
              "      <td>1</td>\n",
              "      <td>0</td>\n",
              "      <td>0</td>\n",
              "      <td>0</td>\n",
              "      <td>Accountants</td>\n",
              "      <td>1</td>\n",
              "      <td>0</td>\n",
              "    </tr>\n",
              "    <tr>\n",
              "      <th>1545</th>\n",
              "      <td>5115992</td>\n",
              "      <td>M</td>\n",
              "      <td>Y</td>\n",
              "      <td>Y</td>\n",
              "      <td>2</td>\n",
              "      <td>180000.0</td>\n",
              "      <td>Working</td>\n",
              "      <td>Higher education</td>\n",
              "      <td>Married</td>\n",
              "      <td>House / apartment</td>\n",
              "      <td>-13174.0</td>\n",
              "      <td>-2477</td>\n",
              "      <td>1</td>\n",
              "      <td>0</td>\n",
              "      <td>0</td>\n",
              "      <td>0</td>\n",
              "      <td>Managers</td>\n",
              "      <td>4</td>\n",
              "      <td>0</td>\n",
              "    </tr>\n",
              "    <tr>\n",
              "      <th>1546</th>\n",
              "      <td>5118219</td>\n",
              "      <td>M</td>\n",
              "      <td>Y</td>\n",
              "      <td>N</td>\n",
              "      <td>0</td>\n",
              "      <td>270000.0</td>\n",
              "      <td>Working</td>\n",
              "      <td>Secondary / secondary special</td>\n",
              "      <td>Civil marriage</td>\n",
              "      <td>House / apartment</td>\n",
              "      <td>-15292.0</td>\n",
              "      <td>-645</td>\n",
              "      <td>1</td>\n",
              "      <td>1</td>\n",
              "      <td>1</td>\n",
              "      <td>0</td>\n",
              "      <td>Drivers</td>\n",
              "      <td>2</td>\n",
              "      <td>0</td>\n",
              "    </tr>\n",
              "    <tr>\n",
              "      <th>1547</th>\n",
              "      <td>5053790</td>\n",
              "      <td>F</td>\n",
              "      <td>Y</td>\n",
              "      <td>Y</td>\n",
              "      <td>0</td>\n",
              "      <td>225000.0</td>\n",
              "      <td>Working</td>\n",
              "      <td>Higher education</td>\n",
              "      <td>Married</td>\n",
              "      <td>House / apartment</td>\n",
              "      <td>-16601.0</td>\n",
              "      <td>-2859</td>\n",
              "      <td>1</td>\n",
              "      <td>0</td>\n",
              "      <td>0</td>\n",
              "      <td>0</td>\n",
              "      <td>NaN</td>\n",
              "      <td>2</td>\n",
              "      <td>0</td>\n",
              "    </tr>\n",
              "  </tbody>\n",
              "</table>\n",
              "</div>\n",
              "    <div class=\"colab-df-buttons\">\n",
              "\n",
              "  <div class=\"colab-df-container\">\n",
              "    <button class=\"colab-df-convert\" onclick=\"convertToInteractive('df-51ca5955-e65a-49d1-918d-ba13968a56ec')\"\n",
              "            title=\"Convert this dataframe to an interactive table.\"\n",
              "            style=\"display:none;\">\n",
              "\n",
              "  <svg xmlns=\"http://www.w3.org/2000/svg\" height=\"24px\" viewBox=\"0 -960 960 960\">\n",
              "    <path d=\"M120-120v-720h720v720H120Zm60-500h600v-160H180v160Zm220 220h160v-160H400v160Zm0 220h160v-160H400v160ZM180-400h160v-160H180v160Zm440 0h160v-160H620v160ZM180-180h160v-160H180v160Zm440 0h160v-160H620v160Z\"/>\n",
              "  </svg>\n",
              "    </button>\n",
              "\n",
              "  <style>\n",
              "    .colab-df-container {\n",
              "      display:flex;\n",
              "      gap: 12px;\n",
              "    }\n",
              "\n",
              "    .colab-df-convert {\n",
              "      background-color: #E8F0FE;\n",
              "      border: none;\n",
              "      border-radius: 50%;\n",
              "      cursor: pointer;\n",
              "      display: none;\n",
              "      fill: #1967D2;\n",
              "      height: 32px;\n",
              "      padding: 0 0 0 0;\n",
              "      width: 32px;\n",
              "    }\n",
              "\n",
              "    .colab-df-convert:hover {\n",
              "      background-color: #E2EBFA;\n",
              "      box-shadow: 0px 1px 2px rgba(60, 64, 67, 0.3), 0px 1px 3px 1px rgba(60, 64, 67, 0.15);\n",
              "      fill: #174EA6;\n",
              "    }\n",
              "\n",
              "    .colab-df-buttons div {\n",
              "      margin-bottom: 4px;\n",
              "    }\n",
              "\n",
              "    [theme=dark] .colab-df-convert {\n",
              "      background-color: #3B4455;\n",
              "      fill: #D2E3FC;\n",
              "    }\n",
              "\n",
              "    [theme=dark] .colab-df-convert:hover {\n",
              "      background-color: #434B5C;\n",
              "      box-shadow: 0px 1px 3px 1px rgba(0, 0, 0, 0.15);\n",
              "      filter: drop-shadow(0px 1px 2px rgba(0, 0, 0, 0.3));\n",
              "      fill: #FFFFFF;\n",
              "    }\n",
              "  </style>\n",
              "\n",
              "    <script>\n",
              "      const buttonEl =\n",
              "        document.querySelector('#df-51ca5955-e65a-49d1-918d-ba13968a56ec button.colab-df-convert');\n",
              "      buttonEl.style.display =\n",
              "        google.colab.kernel.accessAllowed ? 'block' : 'none';\n",
              "\n",
              "      async function convertToInteractive(key) {\n",
              "        const element = document.querySelector('#df-51ca5955-e65a-49d1-918d-ba13968a56ec');\n",
              "        const dataTable =\n",
              "          await google.colab.kernel.invokeFunction('convertToInteractive',\n",
              "                                                    [key], {});\n",
              "        if (!dataTable) return;\n",
              "\n",
              "        const docLinkHtml = 'Like what you see? Visit the ' +\n",
              "          '<a target=\"_blank\" href=https://colab.research.google.com/notebooks/data_table.ipynb>data table notebook</a>'\n",
              "          + ' to learn more about interactive tables.';\n",
              "        element.innerHTML = '';\n",
              "        dataTable['output_type'] = 'display_data';\n",
              "        await google.colab.output.renderOutput(dataTable, element);\n",
              "        const docLink = document.createElement('div');\n",
              "        docLink.innerHTML = docLinkHtml;\n",
              "        element.appendChild(docLink);\n",
              "      }\n",
              "    </script>\n",
              "  </div>\n",
              "\n",
              "\n",
              "<div id=\"df-da8289e1-6ad2-42df-a4e8-804d5ccf0ba0\">\n",
              "  <button class=\"colab-df-quickchart\" onclick=\"quickchart('df-da8289e1-6ad2-42df-a4e8-804d5ccf0ba0')\"\n",
              "            title=\"Suggest charts\"\n",
              "            style=\"display:none;\">\n",
              "\n",
              "<svg xmlns=\"http://www.w3.org/2000/svg\" height=\"24px\"viewBox=\"0 0 24 24\"\n",
              "     width=\"24px\">\n",
              "    <g>\n",
              "        <path d=\"M19 3H5c-1.1 0-2 .9-2 2v14c0 1.1.9 2 2 2h14c1.1 0 2-.9 2-2V5c0-1.1-.9-2-2-2zM9 17H7v-7h2v7zm4 0h-2V7h2v10zm4 0h-2v-4h2v4z\"/>\n",
              "    </g>\n",
              "</svg>\n",
              "  </button>\n",
              "\n",
              "<style>\n",
              "  .colab-df-quickchart {\n",
              "      --bg-color: #E8F0FE;\n",
              "      --fill-color: #1967D2;\n",
              "      --hover-bg-color: #E2EBFA;\n",
              "      --hover-fill-color: #174EA6;\n",
              "      --disabled-fill-color: #AAA;\n",
              "      --disabled-bg-color: #DDD;\n",
              "  }\n",
              "\n",
              "  [theme=dark] .colab-df-quickchart {\n",
              "      --bg-color: #3B4455;\n",
              "      --fill-color: #D2E3FC;\n",
              "      --hover-bg-color: #434B5C;\n",
              "      --hover-fill-color: #FFFFFF;\n",
              "      --disabled-bg-color: #3B4455;\n",
              "      --disabled-fill-color: #666;\n",
              "  }\n",
              "\n",
              "  .colab-df-quickchart {\n",
              "    background-color: var(--bg-color);\n",
              "    border: none;\n",
              "    border-radius: 50%;\n",
              "    cursor: pointer;\n",
              "    display: none;\n",
              "    fill: var(--fill-color);\n",
              "    height: 32px;\n",
              "    padding: 0;\n",
              "    width: 32px;\n",
              "  }\n",
              "\n",
              "  .colab-df-quickchart:hover {\n",
              "    background-color: var(--hover-bg-color);\n",
              "    box-shadow: 0 1px 2px rgba(60, 64, 67, 0.3), 0 1px 3px 1px rgba(60, 64, 67, 0.15);\n",
              "    fill: var(--button-hover-fill-color);\n",
              "  }\n",
              "\n",
              "  .colab-df-quickchart-complete:disabled,\n",
              "  .colab-df-quickchart-complete:disabled:hover {\n",
              "    background-color: var(--disabled-bg-color);\n",
              "    fill: var(--disabled-fill-color);\n",
              "    box-shadow: none;\n",
              "  }\n",
              "\n",
              "  .colab-df-spinner {\n",
              "    border: 2px solid var(--fill-color);\n",
              "    border-color: transparent;\n",
              "    border-bottom-color: var(--fill-color);\n",
              "    animation:\n",
              "      spin 1s steps(1) infinite;\n",
              "  }\n",
              "\n",
              "  @keyframes spin {\n",
              "    0% {\n",
              "      border-color: transparent;\n",
              "      border-bottom-color: var(--fill-color);\n",
              "      border-left-color: var(--fill-color);\n",
              "    }\n",
              "    20% {\n",
              "      border-color: transparent;\n",
              "      border-left-color: var(--fill-color);\n",
              "      border-top-color: var(--fill-color);\n",
              "    }\n",
              "    30% {\n",
              "      border-color: transparent;\n",
              "      border-left-color: var(--fill-color);\n",
              "      border-top-color: var(--fill-color);\n",
              "      border-right-color: var(--fill-color);\n",
              "    }\n",
              "    40% {\n",
              "      border-color: transparent;\n",
              "      border-right-color: var(--fill-color);\n",
              "      border-top-color: var(--fill-color);\n",
              "    }\n",
              "    60% {\n",
              "      border-color: transparent;\n",
              "      border-right-color: var(--fill-color);\n",
              "    }\n",
              "    80% {\n",
              "      border-color: transparent;\n",
              "      border-right-color: var(--fill-color);\n",
              "      border-bottom-color: var(--fill-color);\n",
              "    }\n",
              "    90% {\n",
              "      border-color: transparent;\n",
              "      border-bottom-color: var(--fill-color);\n",
              "    }\n",
              "  }\n",
              "</style>\n",
              "\n",
              "  <script>\n",
              "    async function quickchart(key) {\n",
              "      const quickchartButtonEl =\n",
              "        document.querySelector('#' + key + ' button');\n",
              "      quickchartButtonEl.disabled = true;  // To prevent multiple clicks.\n",
              "      quickchartButtonEl.classList.add('colab-df-spinner');\n",
              "      try {\n",
              "        const charts = await google.colab.kernel.invokeFunction(\n",
              "            'suggestCharts', [key], {});\n",
              "      } catch (error) {\n",
              "        console.error('Error during call to suggestCharts:', error);\n",
              "      }\n",
              "      quickchartButtonEl.classList.remove('colab-df-spinner');\n",
              "      quickchartButtonEl.classList.add('colab-df-quickchart-complete');\n",
              "    }\n",
              "    (() => {\n",
              "      let quickchartButtonEl =\n",
              "        document.querySelector('#df-da8289e1-6ad2-42df-a4e8-804d5ccf0ba0 button');\n",
              "      quickchartButtonEl.style.display =\n",
              "        google.colab.kernel.accessAllowed ? 'block' : 'none';\n",
              "    })();\n",
              "  </script>\n",
              "</div>\n",
              "    </div>\n",
              "  </div>\n"
            ]
          },
          "metadata": {},
          "execution_count": 10
        }
      ]
    },
    {
      "cell_type": "code",
      "source": [
        "df.info()"
      ],
      "metadata": {
        "colab": {
          "base_uri": "https://localhost:8080/"
        },
        "id": "c7E_Bk0G7w84",
        "outputId": "77259a76-bc02-419a-cd29-bfd3b1ec25fd"
      },
      "execution_count": 7,
      "outputs": [
        {
          "output_type": "stream",
          "name": "stdout",
          "text": [
            "<class 'pandas.core.frame.DataFrame'>\n",
            "Int64Index: 1548 entries, 0 to 1547\n",
            "Data columns (total 19 columns):\n",
            " #   Column           Non-Null Count  Dtype  \n",
            "---  ------           --------------  -----  \n",
            " 0   Ind_ID           1548 non-null   int64  \n",
            " 1   GENDER           1541 non-null   object \n",
            " 2   Car_Owner        1548 non-null   object \n",
            " 3   Propert_Owner    1548 non-null   object \n",
            " 4   CHILDREN         1548 non-null   int64  \n",
            " 5   Annual_income    1525 non-null   float64\n",
            " 6   Type_Income      1548 non-null   object \n",
            " 7   EDUCATION        1548 non-null   object \n",
            " 8   Marital_status   1548 non-null   object \n",
            " 9   Housing_type     1548 non-null   object \n",
            " 10  Birthday_count   1526 non-null   float64\n",
            " 11  Employed_days    1548 non-null   int64  \n",
            " 12  Mobile_phone     1548 non-null   int64  \n",
            " 13  Work_Phone       1548 non-null   int64  \n",
            " 14  Phone            1548 non-null   int64  \n",
            " 15  EMAIL_ID         1548 non-null   int64  \n",
            " 16  Type_Occupation  1060 non-null   object \n",
            " 17  Family_Members   1548 non-null   int64  \n",
            " 18  label            1548 non-null   int64  \n",
            "dtypes: float64(2), int64(9), object(8)\n",
            "memory usage: 241.9+ KB\n"
          ]
        }
      ]
    },
    {
      "cell_type": "code",
      "source": [
        "df.shape"
      ],
      "metadata": {
        "colab": {
          "base_uri": "https://localhost:8080/"
        },
        "id": "zbEeARfmMHHe",
        "outputId": "05eb1df7-8c7e-4447-c78a-96ddb7c93b0b"
      },
      "execution_count": 8,
      "outputs": [
        {
          "output_type": "execute_result",
          "data": {
            "text/plain": [
              "(1548, 19)"
            ]
          },
          "metadata": {},
          "execution_count": 8
        }
      ]
    },
    {
      "cell_type": "code",
      "source": [
        "df.describe()"
      ],
      "metadata": {
        "colab": {
          "base_uri": "https://localhost:8080/",
          "height": 297
        },
        "id": "c54ZDVnfNkri",
        "outputId": "fa29f0f0-abb8-4ce4-ab32-bbeab68114f5"
      },
      "execution_count": 9,
      "outputs": [
        {
          "output_type": "execute_result",
          "data": {
            "text/plain": [
              "             Ind_ID     CHILDREN  Annual_income  Birthday_count  \\\n",
              "count  1.548000e+03  1548.000000   1.525000e+03     1526.000000   \n",
              "mean   5.078920e+06     0.412791   1.913993e+05   -16040.342071   \n",
              "std    4.171759e+04     0.776691   1.132530e+05     4229.503202   \n",
              "min    5.008827e+06     0.000000   3.375000e+04   -24946.000000   \n",
              "25%    5.045070e+06     0.000000   1.215000e+05   -19553.000000   \n",
              "50%    5.078842e+06     0.000000   1.665000e+05   -15661.500000   \n",
              "75%    5.115673e+06     1.000000   2.250000e+05   -12417.000000   \n",
              "max    5.150412e+06    14.000000   1.575000e+06    -7705.000000   \n",
              "\n",
              "       Employed_days  Mobile_phone   Work_Phone        Phone     EMAIL_ID  \\\n",
              "count    1548.000000        1548.0  1548.000000  1548.000000  1548.000000   \n",
              "mean    59364.689922           1.0     0.208010     0.309432     0.092377   \n",
              "std    137808.062701           0.0     0.406015     0.462409     0.289651   \n",
              "min    -14887.000000           1.0     0.000000     0.000000     0.000000   \n",
              "25%     -3174.500000           1.0     0.000000     0.000000     0.000000   \n",
              "50%     -1565.000000           1.0     0.000000     0.000000     0.000000   \n",
              "75%      -431.750000           1.0     0.000000     1.000000     0.000000   \n",
              "max    365243.000000           1.0     1.000000     1.000000     1.000000   \n",
              "\n",
              "       Family_Members        label  \n",
              "count     1548.000000  1548.000000  \n",
              "mean         2.161499     0.113049  \n",
              "std          0.947772     0.316755  \n",
              "min          1.000000     0.000000  \n",
              "25%          2.000000     0.000000  \n",
              "50%          2.000000     0.000000  \n",
              "75%          3.000000     0.000000  \n",
              "max         15.000000     1.000000  "
            ],
            "text/html": [
              "\n",
              "  <div id=\"df-cfdd46f1-1d71-4434-a812-707e3166113c\" class=\"colab-df-container\">\n",
              "    <div>\n",
              "<style scoped>\n",
              "    .dataframe tbody tr th:only-of-type {\n",
              "        vertical-align: middle;\n",
              "    }\n",
              "\n",
              "    .dataframe tbody tr th {\n",
              "        vertical-align: top;\n",
              "    }\n",
              "\n",
              "    .dataframe thead th {\n",
              "        text-align: right;\n",
              "    }\n",
              "</style>\n",
              "<table border=\"1\" class=\"dataframe\">\n",
              "  <thead>\n",
              "    <tr style=\"text-align: right;\">\n",
              "      <th></th>\n",
              "      <th>Ind_ID</th>\n",
              "      <th>CHILDREN</th>\n",
              "      <th>Annual_income</th>\n",
              "      <th>Birthday_count</th>\n",
              "      <th>Employed_days</th>\n",
              "      <th>Mobile_phone</th>\n",
              "      <th>Work_Phone</th>\n",
              "      <th>Phone</th>\n",
              "      <th>EMAIL_ID</th>\n",
              "      <th>Family_Members</th>\n",
              "      <th>label</th>\n",
              "    </tr>\n",
              "  </thead>\n",
              "  <tbody>\n",
              "    <tr>\n",
              "      <th>count</th>\n",
              "      <td>1.548000e+03</td>\n",
              "      <td>1548.000000</td>\n",
              "      <td>1.525000e+03</td>\n",
              "      <td>1526.000000</td>\n",
              "      <td>1548.000000</td>\n",
              "      <td>1548.0</td>\n",
              "      <td>1548.000000</td>\n",
              "      <td>1548.000000</td>\n",
              "      <td>1548.000000</td>\n",
              "      <td>1548.000000</td>\n",
              "      <td>1548.000000</td>\n",
              "    </tr>\n",
              "    <tr>\n",
              "      <th>mean</th>\n",
              "      <td>5.078920e+06</td>\n",
              "      <td>0.412791</td>\n",
              "      <td>1.913993e+05</td>\n",
              "      <td>-16040.342071</td>\n",
              "      <td>59364.689922</td>\n",
              "      <td>1.0</td>\n",
              "      <td>0.208010</td>\n",
              "      <td>0.309432</td>\n",
              "      <td>0.092377</td>\n",
              "      <td>2.161499</td>\n",
              "      <td>0.113049</td>\n",
              "    </tr>\n",
              "    <tr>\n",
              "      <th>std</th>\n",
              "      <td>4.171759e+04</td>\n",
              "      <td>0.776691</td>\n",
              "      <td>1.132530e+05</td>\n",
              "      <td>4229.503202</td>\n",
              "      <td>137808.062701</td>\n",
              "      <td>0.0</td>\n",
              "      <td>0.406015</td>\n",
              "      <td>0.462409</td>\n",
              "      <td>0.289651</td>\n",
              "      <td>0.947772</td>\n",
              "      <td>0.316755</td>\n",
              "    </tr>\n",
              "    <tr>\n",
              "      <th>min</th>\n",
              "      <td>5.008827e+06</td>\n",
              "      <td>0.000000</td>\n",
              "      <td>3.375000e+04</td>\n",
              "      <td>-24946.000000</td>\n",
              "      <td>-14887.000000</td>\n",
              "      <td>1.0</td>\n",
              "      <td>0.000000</td>\n",
              "      <td>0.000000</td>\n",
              "      <td>0.000000</td>\n",
              "      <td>1.000000</td>\n",
              "      <td>0.000000</td>\n",
              "    </tr>\n",
              "    <tr>\n",
              "      <th>25%</th>\n",
              "      <td>5.045070e+06</td>\n",
              "      <td>0.000000</td>\n",
              "      <td>1.215000e+05</td>\n",
              "      <td>-19553.000000</td>\n",
              "      <td>-3174.500000</td>\n",
              "      <td>1.0</td>\n",
              "      <td>0.000000</td>\n",
              "      <td>0.000000</td>\n",
              "      <td>0.000000</td>\n",
              "      <td>2.000000</td>\n",
              "      <td>0.000000</td>\n",
              "    </tr>\n",
              "    <tr>\n",
              "      <th>50%</th>\n",
              "      <td>5.078842e+06</td>\n",
              "      <td>0.000000</td>\n",
              "      <td>1.665000e+05</td>\n",
              "      <td>-15661.500000</td>\n",
              "      <td>-1565.000000</td>\n",
              "      <td>1.0</td>\n",
              "      <td>0.000000</td>\n",
              "      <td>0.000000</td>\n",
              "      <td>0.000000</td>\n",
              "      <td>2.000000</td>\n",
              "      <td>0.000000</td>\n",
              "    </tr>\n",
              "    <tr>\n",
              "      <th>75%</th>\n",
              "      <td>5.115673e+06</td>\n",
              "      <td>1.000000</td>\n",
              "      <td>2.250000e+05</td>\n",
              "      <td>-12417.000000</td>\n",
              "      <td>-431.750000</td>\n",
              "      <td>1.0</td>\n",
              "      <td>0.000000</td>\n",
              "      <td>1.000000</td>\n",
              "      <td>0.000000</td>\n",
              "      <td>3.000000</td>\n",
              "      <td>0.000000</td>\n",
              "    </tr>\n",
              "    <tr>\n",
              "      <th>max</th>\n",
              "      <td>5.150412e+06</td>\n",
              "      <td>14.000000</td>\n",
              "      <td>1.575000e+06</td>\n",
              "      <td>-7705.000000</td>\n",
              "      <td>365243.000000</td>\n",
              "      <td>1.0</td>\n",
              "      <td>1.000000</td>\n",
              "      <td>1.000000</td>\n",
              "      <td>1.000000</td>\n",
              "      <td>15.000000</td>\n",
              "      <td>1.000000</td>\n",
              "    </tr>\n",
              "  </tbody>\n",
              "</table>\n",
              "</div>\n",
              "    <div class=\"colab-df-buttons\">\n",
              "\n",
              "  <div class=\"colab-df-container\">\n",
              "    <button class=\"colab-df-convert\" onclick=\"convertToInteractive('df-cfdd46f1-1d71-4434-a812-707e3166113c')\"\n",
              "            title=\"Convert this dataframe to an interactive table.\"\n",
              "            style=\"display:none;\">\n",
              "\n",
              "  <svg xmlns=\"http://www.w3.org/2000/svg\" height=\"24px\" viewBox=\"0 -960 960 960\">\n",
              "    <path d=\"M120-120v-720h720v720H120Zm60-500h600v-160H180v160Zm220 220h160v-160H400v160Zm0 220h160v-160H400v160ZM180-400h160v-160H180v160Zm440 0h160v-160H620v160ZM180-180h160v-160H180v160Zm440 0h160v-160H620v160Z\"/>\n",
              "  </svg>\n",
              "    </button>\n",
              "\n",
              "  <style>\n",
              "    .colab-df-container {\n",
              "      display:flex;\n",
              "      gap: 12px;\n",
              "    }\n",
              "\n",
              "    .colab-df-convert {\n",
              "      background-color: #E8F0FE;\n",
              "      border: none;\n",
              "      border-radius: 50%;\n",
              "      cursor: pointer;\n",
              "      display: none;\n",
              "      fill: #1967D2;\n",
              "      height: 32px;\n",
              "      padding: 0 0 0 0;\n",
              "      width: 32px;\n",
              "    }\n",
              "\n",
              "    .colab-df-convert:hover {\n",
              "      background-color: #E2EBFA;\n",
              "      box-shadow: 0px 1px 2px rgba(60, 64, 67, 0.3), 0px 1px 3px 1px rgba(60, 64, 67, 0.15);\n",
              "      fill: #174EA6;\n",
              "    }\n",
              "\n",
              "    .colab-df-buttons div {\n",
              "      margin-bottom: 4px;\n",
              "    }\n",
              "\n",
              "    [theme=dark] .colab-df-convert {\n",
              "      background-color: #3B4455;\n",
              "      fill: #D2E3FC;\n",
              "    }\n",
              "\n",
              "    [theme=dark] .colab-df-convert:hover {\n",
              "      background-color: #434B5C;\n",
              "      box-shadow: 0px 1px 3px 1px rgba(0, 0, 0, 0.15);\n",
              "      filter: drop-shadow(0px 1px 2px rgba(0, 0, 0, 0.3));\n",
              "      fill: #FFFFFF;\n",
              "    }\n",
              "  </style>\n",
              "\n",
              "    <script>\n",
              "      const buttonEl =\n",
              "        document.querySelector('#df-cfdd46f1-1d71-4434-a812-707e3166113c button.colab-df-convert');\n",
              "      buttonEl.style.display =\n",
              "        google.colab.kernel.accessAllowed ? 'block' : 'none';\n",
              "\n",
              "      async function convertToInteractive(key) {\n",
              "        const element = document.querySelector('#df-cfdd46f1-1d71-4434-a812-707e3166113c');\n",
              "        const dataTable =\n",
              "          await google.colab.kernel.invokeFunction('convertToInteractive',\n",
              "                                                    [key], {});\n",
              "        if (!dataTable) return;\n",
              "\n",
              "        const docLinkHtml = 'Like what you see? Visit the ' +\n",
              "          '<a target=\"_blank\" href=https://colab.research.google.com/notebooks/data_table.ipynb>data table notebook</a>'\n",
              "          + ' to learn more about interactive tables.';\n",
              "        element.innerHTML = '';\n",
              "        dataTable['output_type'] = 'display_data';\n",
              "        await google.colab.output.renderOutput(dataTable, element);\n",
              "        const docLink = document.createElement('div');\n",
              "        docLink.innerHTML = docLinkHtml;\n",
              "        element.appendChild(docLink);\n",
              "      }\n",
              "    </script>\n",
              "  </div>\n",
              "\n",
              "\n",
              "<div id=\"df-8064ddc6-036d-4f9f-a032-8a5ab808af7f\">\n",
              "  <button class=\"colab-df-quickchart\" onclick=\"quickchart('df-8064ddc6-036d-4f9f-a032-8a5ab808af7f')\"\n",
              "            title=\"Suggest charts\"\n",
              "            style=\"display:none;\">\n",
              "\n",
              "<svg xmlns=\"http://www.w3.org/2000/svg\" height=\"24px\"viewBox=\"0 0 24 24\"\n",
              "     width=\"24px\">\n",
              "    <g>\n",
              "        <path d=\"M19 3H5c-1.1 0-2 .9-2 2v14c0 1.1.9 2 2 2h14c1.1 0 2-.9 2-2V5c0-1.1-.9-2-2-2zM9 17H7v-7h2v7zm4 0h-2V7h2v10zm4 0h-2v-4h2v4z\"/>\n",
              "    </g>\n",
              "</svg>\n",
              "  </button>\n",
              "\n",
              "<style>\n",
              "  .colab-df-quickchart {\n",
              "      --bg-color: #E8F0FE;\n",
              "      --fill-color: #1967D2;\n",
              "      --hover-bg-color: #E2EBFA;\n",
              "      --hover-fill-color: #174EA6;\n",
              "      --disabled-fill-color: #AAA;\n",
              "      --disabled-bg-color: #DDD;\n",
              "  }\n",
              "\n",
              "  [theme=dark] .colab-df-quickchart {\n",
              "      --bg-color: #3B4455;\n",
              "      --fill-color: #D2E3FC;\n",
              "      --hover-bg-color: #434B5C;\n",
              "      --hover-fill-color: #FFFFFF;\n",
              "      --disabled-bg-color: #3B4455;\n",
              "      --disabled-fill-color: #666;\n",
              "  }\n",
              "\n",
              "  .colab-df-quickchart {\n",
              "    background-color: var(--bg-color);\n",
              "    border: none;\n",
              "    border-radius: 50%;\n",
              "    cursor: pointer;\n",
              "    display: none;\n",
              "    fill: var(--fill-color);\n",
              "    height: 32px;\n",
              "    padding: 0;\n",
              "    width: 32px;\n",
              "  }\n",
              "\n",
              "  .colab-df-quickchart:hover {\n",
              "    background-color: var(--hover-bg-color);\n",
              "    box-shadow: 0 1px 2px rgba(60, 64, 67, 0.3), 0 1px 3px 1px rgba(60, 64, 67, 0.15);\n",
              "    fill: var(--button-hover-fill-color);\n",
              "  }\n",
              "\n",
              "  .colab-df-quickchart-complete:disabled,\n",
              "  .colab-df-quickchart-complete:disabled:hover {\n",
              "    background-color: var(--disabled-bg-color);\n",
              "    fill: var(--disabled-fill-color);\n",
              "    box-shadow: none;\n",
              "  }\n",
              "\n",
              "  .colab-df-spinner {\n",
              "    border: 2px solid var(--fill-color);\n",
              "    border-color: transparent;\n",
              "    border-bottom-color: var(--fill-color);\n",
              "    animation:\n",
              "      spin 1s steps(1) infinite;\n",
              "  }\n",
              "\n",
              "  @keyframes spin {\n",
              "    0% {\n",
              "      border-color: transparent;\n",
              "      border-bottom-color: var(--fill-color);\n",
              "      border-left-color: var(--fill-color);\n",
              "    }\n",
              "    20% {\n",
              "      border-color: transparent;\n",
              "      border-left-color: var(--fill-color);\n",
              "      border-top-color: var(--fill-color);\n",
              "    }\n",
              "    30% {\n",
              "      border-color: transparent;\n",
              "      border-left-color: var(--fill-color);\n",
              "      border-top-color: var(--fill-color);\n",
              "      border-right-color: var(--fill-color);\n",
              "    }\n",
              "    40% {\n",
              "      border-color: transparent;\n",
              "      border-right-color: var(--fill-color);\n",
              "      border-top-color: var(--fill-color);\n",
              "    }\n",
              "    60% {\n",
              "      border-color: transparent;\n",
              "      border-right-color: var(--fill-color);\n",
              "    }\n",
              "    80% {\n",
              "      border-color: transparent;\n",
              "      border-right-color: var(--fill-color);\n",
              "      border-bottom-color: var(--fill-color);\n",
              "    }\n",
              "    90% {\n",
              "      border-color: transparent;\n",
              "      border-bottom-color: var(--fill-color);\n",
              "    }\n",
              "  }\n",
              "</style>\n",
              "\n",
              "  <script>\n",
              "    async function quickchart(key) {\n",
              "      const quickchartButtonEl =\n",
              "        document.querySelector('#' + key + ' button');\n",
              "      quickchartButtonEl.disabled = true;  // To prevent multiple clicks.\n",
              "      quickchartButtonEl.classList.add('colab-df-spinner');\n",
              "      try {\n",
              "        const charts = await google.colab.kernel.invokeFunction(\n",
              "            'suggestCharts', [key], {});\n",
              "      } catch (error) {\n",
              "        console.error('Error during call to suggestCharts:', error);\n",
              "      }\n",
              "      quickchartButtonEl.classList.remove('colab-df-spinner');\n",
              "      quickchartButtonEl.classList.add('colab-df-quickchart-complete');\n",
              "    }\n",
              "    (() => {\n",
              "      let quickchartButtonEl =\n",
              "        document.querySelector('#df-8064ddc6-036d-4f9f-a032-8a5ab808af7f button');\n",
              "      quickchartButtonEl.style.display =\n",
              "        google.colab.kernel.accessAllowed ? 'block' : 'none';\n",
              "    })();\n",
              "  </script>\n",
              "</div>\n",
              "    </div>\n",
              "  </div>\n"
            ]
          },
          "metadata": {},
          "execution_count": 9
        }
      ]
    },
    {
      "cell_type": "code",
      "source": [
        "#renaming coloumns to same format\n",
        "column_mapping = { 'GENDER': 'Gender','CHILDREN': 'Children','EDUCATION': 'Education','EMAIL_ID': 'Email_ID'}\n",
        "\n",
        "df.rename(columns=column_mapping, inplace=True)"
      ],
      "metadata": {
        "id": "TLlnqy6SfMSx"
      },
      "execution_count": 7,
      "outputs": []
    },
    {
      "cell_type": "code",
      "source": [
        "df['Gender'].unique()"
      ],
      "metadata": {
        "colab": {
          "base_uri": "https://localhost:8080/"
        },
        "id": "3IHQe_7xfkYv",
        "outputId": "15fff89c-8ae3-4732-afe5-2962fb87ecf8"
      },
      "execution_count": 8,
      "outputs": [
        {
          "output_type": "execute_result",
          "data": {
            "text/plain": [
              "array(['M', 'F', nan], dtype=object)"
            ]
          },
          "metadata": {},
          "execution_count": 8
        }
      ]
    },
    {
      "cell_type": "code",
      "source": [
        "df['Type_Income'].unique()"
      ],
      "metadata": {
        "colab": {
          "base_uri": "https://localhost:8080/"
        },
        "id": "oiehBsXzfkiW",
        "outputId": "bfc82280-df07-4a54-df7a-fbac907039ca"
      },
      "execution_count": 9,
      "outputs": [
        {
          "output_type": "execute_result",
          "data": {
            "text/plain": [
              "array(['Pensioner', 'Commercial associate', 'Working', 'State servant'],\n",
              "      dtype=object)"
            ]
          },
          "metadata": {},
          "execution_count": 9
        }
      ]
    },
    {
      "cell_type": "code",
      "source": [
        "df[\"Type_Occupation\"].unique()"
      ],
      "metadata": {
        "colab": {
          "base_uri": "https://localhost:8080/"
        },
        "id": "fJkz7lbqgEIg",
        "outputId": "636c0fdf-2608-407c-ffa7-771121a47665"
      },
      "execution_count": 10,
      "outputs": [
        {
          "output_type": "execute_result",
          "data": {
            "text/plain": [
              "array([nan, 'Core staff', 'Cooking staff', 'Laborers', 'Sales staff',\n",
              "       'Accountants', 'High skill tech staff', 'Managers',\n",
              "       'Cleaning staff', 'Drivers', 'Low-skill Laborers', 'IT staff',\n",
              "       'Waiters/barmen staff', 'Security staff', 'Medicine staff',\n",
              "       'Private service staff', 'HR staff', 'Secretaries',\n",
              "       'Realty agents'], dtype=object)"
            ]
          },
          "metadata": {},
          "execution_count": 10
        }
      ]
    },
    {
      "cell_type": "code",
      "source": [
        "df['Type_Income'].value_counts()\n"
      ],
      "metadata": {
        "colab": {
          "base_uri": "https://localhost:8080/"
        },
        "id": "GLjlXwB4eWFm",
        "outputId": "0eb2b1a7-fdcd-4c4a-a057-1fe827476da7"
      },
      "execution_count": 11,
      "outputs": [
        {
          "output_type": "execute_result",
          "data": {
            "text/plain": [
              "Working                 798\n",
              "Commercial associate    365\n",
              "Pensioner               269\n",
              "State servant           116\n",
              "Name: Type_Income, dtype: int64"
            ]
          },
          "metadata": {},
          "execution_count": 11
        }
      ]
    },
    {
      "cell_type": "code",
      "source": [
        "df[\"Type_Occupation\"].value_counts()"
      ],
      "metadata": {
        "colab": {
          "base_uri": "https://localhost:8080/"
        },
        "id": "PNJD7HEeef0N",
        "outputId": "ef7f24dc-f011-4301-80a6-5298453b6564"
      },
      "execution_count": 12,
      "outputs": [
        {
          "output_type": "execute_result",
          "data": {
            "text/plain": [
              "Laborers                 268\n",
              "Core staff               174\n",
              "Managers                 136\n",
              "Sales staff              122\n",
              "Drivers                   86\n",
              "High skill tech staff     65\n",
              "Medicine staff            50\n",
              "Accountants               44\n",
              "Security staff            25\n",
              "Cleaning staff            22\n",
              "Cooking staff             21\n",
              "Private service staff     17\n",
              "Secretaries                9\n",
              "Low-skill Laborers         9\n",
              "Waiters/barmen staff       5\n",
              "HR staff                   3\n",
              "IT staff                   2\n",
              "Realty agents              2\n",
              "Name: Type_Occupation, dtype: int64"
            ]
          },
          "metadata": {},
          "execution_count": 12
        }
      ]
    },
    {
      "cell_type": "code",
      "source": [
        "df['Gender'].value_counts()"
      ],
      "metadata": {
        "colab": {
          "base_uri": "https://localhost:8080/"
        },
        "id": "NMmwzzrZepo1",
        "outputId": "c865fa1d-1a53-4812-8043-91506e307c62"
      },
      "execution_count": 13,
      "outputs": [
        {
          "output_type": "execute_result",
          "data": {
            "text/plain": [
              "F    973\n",
              "M    568\n",
              "Name: Gender, dtype: int64"
            ]
          },
          "metadata": {},
          "execution_count": 13
        }
      ]
    },
    {
      "cell_type": "code",
      "source": [
        "df['Education'].value_counts()"
      ],
      "metadata": {
        "colab": {
          "base_uri": "https://localhost:8080/"
        },
        "id": "k39956o0epsL",
        "outputId": "c340d513-13c7-4172-c81f-5399b311629a"
      },
      "execution_count": 14,
      "outputs": [
        {
          "output_type": "execute_result",
          "data": {
            "text/plain": [
              "Secondary / secondary special    1031\n",
              "Higher education                  426\n",
              "Incomplete higher                  68\n",
              "Lower secondary                    21\n",
              "Academic degree                     2\n",
              "Name: Education, dtype: int64"
            ]
          },
          "metadata": {},
          "execution_count": 14
        }
      ]
    },
    {
      "cell_type": "code",
      "source": [
        "df.isnull().sum() ## checking for missing values"
      ],
      "metadata": {
        "colab": {
          "base_uri": "https://localhost:8080/"
        },
        "id": "Lb7xKz7I70Jz",
        "outputId": "676e699c-27e9-4bb6-d675-1f4706b75337"
      },
      "execution_count": 15,
      "outputs": [
        {
          "output_type": "execute_result",
          "data": {
            "text/plain": [
              "Ind_ID               0\n",
              "Gender               7\n",
              "Car_Owner            0\n",
              "Propert_Owner        0\n",
              "Children             0\n",
              "Annual_income       23\n",
              "Type_Income          0\n",
              "Education            0\n",
              "Marital_status       0\n",
              "Housing_type         0\n",
              "Birthday_count      22\n",
              "Employed_days        0\n",
              "Mobile_phone         0\n",
              "Work_Phone           0\n",
              "Phone                0\n",
              "Email_ID             0\n",
              "Type_Occupation    488\n",
              "Family_Members       0\n",
              "label                0\n",
              "dtype: int64"
            ]
          },
          "metadata": {},
          "execution_count": 15
        }
      ]
    },
    {
      "cell_type": "code",
      "source": [
        "df.isnull().sum()/len(df)*100 ##checking the percentage of missing values"
      ],
      "metadata": {
        "id": "ciBHoeMk7HpR",
        "colab": {
          "base_uri": "https://localhost:8080/"
        },
        "outputId": "d8e8ba70-5517-42bb-995c-000bed8c149a"
      },
      "execution_count": 16,
      "outputs": [
        {
          "output_type": "execute_result",
          "data": {
            "text/plain": [
              "Ind_ID              0.000000\n",
              "Gender              0.452196\n",
              "Car_Owner           0.000000\n",
              "Propert_Owner       0.000000\n",
              "Children            0.000000\n",
              "Annual_income       1.485788\n",
              "Type_Income         0.000000\n",
              "Education           0.000000\n",
              "Marital_status      0.000000\n",
              "Housing_type        0.000000\n",
              "Birthday_count      1.421189\n",
              "Employed_days       0.000000\n",
              "Mobile_phone        0.000000\n",
              "Work_Phone          0.000000\n",
              "Phone               0.000000\n",
              "Email_ID            0.000000\n",
              "Type_Occupation    31.524548\n",
              "Family_Members      0.000000\n",
              "label               0.000000\n",
              "dtype: float64"
            ]
          },
          "metadata": {},
          "execution_count": 16
        }
      ]
    },
    {
      "cell_type": "code",
      "source": [
        "sns.boxplot(x=df['Birthday_count']) #checking outliers"
      ],
      "metadata": {
        "colab": {
          "base_uri": "https://localhost:8080/",
          "height": 467
        },
        "id": "A-CnDED12Yyx",
        "outputId": "457918b8-1796-41b7-9b70-fc15da80a508"
      },
      "execution_count": 18,
      "outputs": [
        {
          "output_type": "execute_result",
          "data": {
            "text/plain": [
              "<Axes: xlabel='Birthday_count'>"
            ]
          },
          "metadata": {},
          "execution_count": 18
        },
        {
          "output_type": "display_data",
          "data": {
            "text/plain": [
              "<Figure size 640x480 with 1 Axes>"
            ],
            "image/png": "[encoded data removed]"
          },
          "metadata": {}
        }
      ]
    },
    {
      "cell_type": "code",
      "source": [
        "sns.boxplot(x=df['Annual_income'])"
      ],
      "metadata": {
        "colab": {
          "base_uri": "https://localhost:8080/",
          "height": 467
        },
        "id": "Xt5Ak-Jj-mQu",
        "outputId": "c98a174f-df4f-46e7-e7f4-67248db318a0"
      },
      "execution_count": 19,
      "outputs": [
        {
          "output_type": "execute_result",
          "data": {
            "text/plain": [
              "<Axes: xlabel='Annual_income'>"
            ]
          },
          "metadata": {},
          "execution_count": 19
        },
        {
          "output_type": "display_data",
          "data": {
            "text/plain": [
              "<Figure size 640x480 with 1 Axes>"
            ],
            "image/png": "[encoded data removed]"
          },
          "metadata": {}
        }
      ]
    },
    {
      "cell_type": "code",
      "source": [
        "histplot_AI=sns.histplot(df['Annual_income'], bins=5, kde=True, color='skyblue')\n",
        "ax = histplot_AI.axes\n",
        "ax.grid(True)"
      ],
      "metadata": {
        "colab": {
          "base_uri": "https://localhost:8080/",
          "height": 450
        },
        "id": "Vo9UgnDTR703",
        "outputId": "73318c27-2766-4708-a487-971773f55a0e"
      },
      "execution_count": 20,
      "outputs": [
        {
          "output_type": "display_data",
          "data": {
            "text/plain": [
              "<Figure size 640x480 with 1 Axes>"
            ],
            "image/png": "[encoded data removed]"
          },
          "metadata": {}
        }
      ]
    },
    {
      "cell_type": "markdown",
      "source": [
        "## Data Preprocessing"
      ],
      "metadata": {
        "id": "tp9ter94kU_U"
      }
    },
    {
      "cell_type": "code",
      "source": [
        "df['Gender'].fillna(df['Gender'].mode()[0], inplace=True) #replacing the missing values in Gender column"
      ],
      "metadata": {
        "id": "8SeX-Ss8fuFc"
      },
      "execution_count": 21,
      "outputs": []
    },
    {
      "cell_type": "code",
      "source": [
        "df.info()"
      ],
      "metadata": {
        "colab": {
          "base_uri": "https://localhost:8080/"
        },
        "id": "29Y223GtfuHz",
        "outputId": "13429f63-8e72-46a8-f076-3348bb14a41a"
      },
      "execution_count": 22,
      "outputs": [
        {
          "output_type": "stream",
          "name": "stdout",
          "text": [
            "<class 'pandas.core.frame.DataFrame'>\n",
            "Int64Index: 1548 entries, 0 to 1547\n",
            "Data columns (total 19 columns):\n",
            " #   Column           Non-Null Count  Dtype  \n",
            "---  ------           --------------  -----  \n",
            " 0   Ind_ID           1548 non-null   int64  \n",
            " 1   Gender           1548 non-null   object \n",
            " 2   Car_Owner        1548 non-null   object \n",
            " 3   Propert_Owner    1548 non-null   object \n",
            " 4   Children         1548 non-null   int64  \n",
            " 5   Annual_income    1525 non-null   float64\n",
            " 6   Type_Income      1548 non-null   object \n",
            " 7   Education        1548 non-null   object \n",
            " 8   Marital_status   1548 non-null   object \n",
            " 9   Housing_type     1548 non-null   object \n",
            " 10  Birthday_count   1526 non-null   float64\n",
            " 11  Employed_days    1548 non-null   int64  \n",
            " 12  Mobile_phone     1548 non-null   int64  \n",
            " 13  Work_Phone       1548 non-null   int64  \n",
            " 14  Phone            1548 non-null   int64  \n",
            " 15  Email_ID         1548 non-null   int64  \n",
            " 16  Type_Occupation  1060 non-null   object \n",
            " 17  Family_Members   1548 non-null   int64  \n",
            " 18  label            1548 non-null   int64  \n",
            "dtypes: float64(2), int64(9), object(8)\n",
            "memory usage: 241.9+ KB\n"
          ]
        }
      ]
    },
    {
      "cell_type": "code",
      "source": [
        "df = df.drop(columns='Type_Occupation') ##removing Type_occupation since more than 30% of the data is missing\n"
      ],
      "metadata": {
        "id": "wtWX6UZTfuKp"
      },
      "execution_count": 23,
      "outputs": []
    },
    {
      "cell_type": "code",
      "source": [
        "median_Annual_income = df['Annual_income'].median()\n",
        "df['Annual_income'].fillna(median_Annual_income, inplace=True) #replacing the missing values with median in the Annual_income column"
      ],
      "metadata": {
        "id": "aD48ybJBfuSN"
      },
      "execution_count": 24,
      "outputs": []
    },
    {
      "cell_type": "code",
      "source": [
        "replacement_dict = {'Single / not married': 'Single'}\n",
        "df['Marital_status'] = df['Marital_status'].replace(replacement_dict)\n"
      ],
      "metadata": {
        "id": "pA_TdzEvqyq3"
      },
      "execution_count": 25,
      "outputs": []
    },
    {
      "cell_type": "code",
      "source": [
        "df['Marital_status'].unique()"
      ],
      "metadata": {
        "colab": {
          "base_uri": "https://localhost:8080/"
        },
        "id": "9y5ZvZzhfuVW",
        "outputId": "b8931f0f-c263-4c53-b227-0575678d253b"
      },
      "execution_count": 26,
      "outputs": [
        {
          "output_type": "execute_result",
          "data": {
            "text/plain": [
              "array(['Married', 'Single', 'Civil marriage', 'Separated', 'Widow'],\n",
              "      dtype=object)"
            ]
          },
          "metadata": {},
          "execution_count": 26
        }
      ]
    },
    {
      "cell_type": "code",
      "source": [
        "mean_Birthday_count = df['Birthday_count'].mean()\n",
        "df['Birthday_count'].fillna(mean_Birthday_count, inplace=True)#replacing birthday_count missing values"
      ],
      "metadata": {
        "id": "dGPvlWcsfuX8"
      },
      "execution_count": 27,
      "outputs": []
    },
    {
      "cell_type": "code",
      "source": [
        "df.info()"
      ],
      "metadata": {
        "colab": {
          "base_uri": "https://localhost:8080/"
        },
        "id": "mFwT0_F7fua1",
        "outputId": "f2593889-c703-4fb8-e19c-f2f3f6d503a0"
      },
      "execution_count": 28,
      "outputs": [
        {
          "output_type": "stream",
          "name": "stdout",
          "text": [
            "<class 'pandas.core.frame.DataFrame'>\n",
            "Int64Index: 1548 entries, 0 to 1547\n",
            "Data columns (total 18 columns):\n",
            " #   Column          Non-Null Count  Dtype  \n",
            "---  ------          --------------  -----  \n",
            " 0   Ind_ID          1548 non-null   int64  \n",
            " 1   Gender          1548 non-null   object \n",
            " 2   Car_Owner       1548 non-null   object \n",
            " 3   Propert_Owner   1548 non-null   object \n",
            " 4   Children        1548 non-null   int64  \n",
            " 5   Annual_income   1548 non-null   float64\n",
            " 6   Type_Income     1548 non-null   object \n",
            " 7   Education       1548 non-null   object \n",
            " 8   Marital_status  1548 non-null   object \n",
            " 9   Housing_type    1548 non-null   object \n",
            " 10  Birthday_count  1548 non-null   float64\n",
            " 11  Employed_days   1548 non-null   int64  \n",
            " 12  Mobile_phone    1548 non-null   int64  \n",
            " 13  Work_Phone      1548 non-null   int64  \n",
            " 14  Phone           1548 non-null   int64  \n",
            " 15  Email_ID        1548 non-null   int64  \n",
            " 16  Family_Members  1548 non-null   int64  \n",
            " 17  label           1548 non-null   int64  \n",
            "dtypes: float64(2), int64(9), object(7)\n",
            "memory usage: 229.8+ KB\n"
          ]
        }
      ]
    },
    {
      "cell_type": "code",
      "source": [
        "df.duplicated().sum()#checking for duplicates"
      ],
      "metadata": {
        "colab": {
          "base_uri": "https://localhost:8080/"
        },
        "id": "2bMIorYZfugZ",
        "outputId": "5bcbd191-ab2b-45f1-f75c-38c9dc76462f"
      },
      "execution_count": 29,
      "outputs": [
        {
          "output_type": "execute_result",
          "data": {
            "text/plain": [
              "0"
            ]
          },
          "metadata": {},
          "execution_count": 29
        }
      ]
    },
    {
      "cell_type": "markdown",
      "source": [
        "feature Selection"
      ],
      "metadata": {
        "id": "LuiWoCCaq3kB"
      }
    },
    {
      "cell_type": "code",
      "source": [
        "##replacing output table with Approved or reject to perform feature selection\n",
        "df['label'] = df['label'].replace({1: 'Reject', 0: 'Accept'})\n"
      ],
      "metadata": {
        "id": "Vd-r13h1mRtW"
      },
      "execution_count": 30,
      "outputs": []
    },
    {
      "cell_type": "code",
      "source": [
        "df.info()"
      ],
      "metadata": {
        "colab": {
          "base_uri": "https://localhost:8080/"
        },
        "id": "RNFS9U6Km0Uu",
        "outputId": "fc89f119-b3a3-473a-c377-8a80c63a9b30"
      },
      "execution_count": 31,
      "outputs": [
        {
          "output_type": "stream",
          "name": "stdout",
          "text": [
            "<class 'pandas.core.frame.DataFrame'>\n",
            "Int64Index: 1548 entries, 0 to 1547\n",
            "Data columns (total 18 columns):\n",
            " #   Column          Non-Null Count  Dtype  \n",
            "---  ------          --------------  -----  \n",
            " 0   Ind_ID          1548 non-null   int64  \n",
            " 1   Gender          1548 non-null   object \n",
            " 2   Car_Owner       1548 non-null   object \n",
            " 3   Propert_Owner   1548 non-null   object \n",
            " 4   Children        1548 non-null   int64  \n",
            " 5   Annual_income   1548 non-null   float64\n",
            " 6   Type_Income     1548 non-null   object \n",
            " 7   Education       1548 non-null   object \n",
            " 8   Marital_status  1548 non-null   object \n",
            " 9   Housing_type    1548 non-null   object \n",
            " 10  Birthday_count  1548 non-null   float64\n",
            " 11  Employed_days   1548 non-null   int64  \n",
            " 12  Mobile_phone    1548 non-null   int64  \n",
            " 13  Work_Phone      1548 non-null   int64  \n",
            " 14  Phone           1548 non-null   int64  \n",
            " 15  Email_ID        1548 non-null   int64  \n",
            " 16  Family_Members  1548 non-null   int64  \n",
            " 17  label           1548 non-null   object \n",
            "dtypes: float64(2), int64(8), object(8)\n",
            "memory usage: 229.8+ KB\n"
          ]
        }
      ]
    },
    {
      "cell_type": "code",
      "source": [
        "from scipy.stats import chi2_contingency##removing unimportant features\n",
        "\n",
        "contingency_table = pd.crosstab(df['Gender'], df['label'])#N\n",
        "chi2, p_value, dof, expected = chi2_contingency(contingency_table)\n",
        "print('Chi2Stats:', chi2)\n",
        "print('P_value:', p_value)"
      ],
      "metadata": {
        "colab": {
          "base_uri": "https://localhost:8080/"
        },
        "id": "fCyRc3yic5Eh",
        "outputId": "2b93f7bb-7630-4863-fdc1-072691e51a96"
      },
      "execution_count": 32,
      "outputs": [
        {
          "output_type": "stream",
          "name": "stdout",
          "text": [
            "Chi2Stats: 2.935630436512684\n",
            "P_value: 0.08664483091132888\n"
          ]
        }
      ]
    },
    {
      "cell_type": "code",
      "source": [
        "contingency_table = pd.crosstab(df['Car_Owner'], df['label'])#N\n",
        "chi2, p_value, dof, expected = chi2_contingency(contingency_table)\n",
        "print('Chi2Stats:', chi2)\n",
        "print('P_value:', p_value)"
      ],
      "metadata": {
        "colab": {
          "base_uri": "https://localhost:8080/"
        },
        "id": "QMZPXub0rIki",
        "outputId": "f31704e7-1489-4a79-e387-0b446722086c"
      },
      "execution_count": 33,
      "outputs": [
        {
          "output_type": "stream",
          "name": "stdout",
          "text": [
            "Chi2Stats: 0.24788350240956675\n",
            "P_value: 0.6185693269675412\n"
          ]
        }
      ]
    },
    {
      "cell_type": "code",
      "source": [
        "contingency_table = pd.crosstab(df['Propert_Owner'], df['label'])#N\n",
        "chi2, p_value, dof, expected = chi2_contingency(contingency_table)\n",
        "print('Chi2Stats:', chi2)\n",
        "print('P_value:', p_value)"
      ],
      "metadata": {
        "colab": {
          "base_uri": "https://localhost:8080/"
        },
        "id": "DpE0A3zlrIn6",
        "outputId": "9689e69e-0d45-4086-c07a-b30a5099b946"
      },
      "execution_count": 34,
      "outputs": [
        {
          "output_type": "stream",
          "name": "stdout",
          "text": [
            "Chi2Stats: 0.38467918054883476\n",
            "P_value: 0.5351095955412992\n"
          ]
        }
      ]
    },
    {
      "cell_type": "code",
      "source": [
        "contingency_table = pd.crosstab(df['Children'], df['label'])\n",
        "chi2, p_value, dof, expected = chi2_contingency(contingency_table)\n",
        "print('Chi2Stats:', chi2)\n",
        "print('P_value:', p_value)"
      ],
      "metadata": {
        "colab": {
          "base_uri": "https://localhost:8080/"
        },
        "id": "Ox1vOhKlrIrj",
        "outputId": "a17e5b50-826d-4807-b826-a70951f877a3"
      },
      "execution_count": 35,
      "outputs": [
        {
          "output_type": "stream",
          "name": "stdout",
          "text": [
            "Chi2Stats: 10.890732325835621\n",
            "P_value: 0.05359000063892279\n"
          ]
        }
      ]
    },
    {
      "cell_type": "code",
      "source": [
        "contingency_table = pd.crosstab(df['Annual_income'],df['label'])\n",
        "chi2, p_value, dof, expected = chi2_contingency(contingency_table)\n",
        "print('Chi2Stats:', chi2)\n",
        "print('P_value:', p_value)"
      ],
      "metadata": {
        "colab": {
          "base_uri": "https://localhost:8080/"
        },
        "id": "FGP3bDVTrIvd",
        "outputId": "0e80af1f-23c9-4194-cfa0-004f5f0331ac"
      },
      "execution_count": 36,
      "outputs": [
        {
          "output_type": "stream",
          "name": "stdout",
          "text": [
            "Chi2Stats: 153.7274401307049\n",
            "P_value: 0.007790263351208859\n"
          ]
        }
      ]
    },
    {
      "cell_type": "code",
      "source": [
        "contingency_table = pd.crosstab(df['Type_Income'],df['label'])\n",
        "chi2, p_value, dof, expected = chi2_contingency(contingency_table)\n",
        "print('Chi2Stats:', chi2)\n",
        "print('P_value:', p_value)"
      ],
      "metadata": {
        "colab": {
          "base_uri": "https://localhost:8080/"
        },
        "id": "PcuvTzYTskuy",
        "outputId": "6dbf20e8-1051-43db-aedf-2bfd83a2126f"
      },
      "execution_count": 37,
      "outputs": [
        {
          "output_type": "stream",
          "name": "stdout",
          "text": [
            "Chi2Stats: 13.598555653674126\n",
            "P_value: 0.003505783928580882\n"
          ]
        }
      ]
    },
    {
      "cell_type": "code",
      "source": [
        "contingency_table = pd.crosstab(df['Education'],df['label'])\n",
        "chi2, p_value, dof, expected = chi2_contingency(contingency_table)\n",
        "print('Chi2Stats:', chi2)\n",
        "print('P_value:', p_value)"
      ],
      "metadata": {
        "colab": {
          "base_uri": "https://localhost:8080/"
        },
        "id": "3fzkTf6Esx5w",
        "outputId": "6f5e14cc-c8d9-4771-870e-48011e9331ea"
      },
      "execution_count": 38,
      "outputs": [
        {
          "output_type": "stream",
          "name": "stdout",
          "text": [
            "Chi2Stats: 9.205670423908046\n",
            "P_value: 0.056159329722052835\n"
          ]
        }
      ]
    },
    {
      "cell_type": "code",
      "source": [
        "contingency_table = pd.crosstab(df['Marital_status'],df['label'])\n",
        "chi2, p_value, dof, expected = chi2_contingency(contingency_table)\n",
        "print('Chi2Stats:', chi2)\n",
        "print('P_value:', p_value)"
      ],
      "metadata": {
        "colab": {
          "base_uri": "https://localhost:8080/"
        },
        "id": "CNSSkxhnsyU2",
        "outputId": "1595dda0-a8e7-4eb8-be21-0f3237026af1"
      },
      "execution_count": 39,
      "outputs": [
        {
          "output_type": "stream",
          "name": "stdout",
          "text": [
            "Chi2Stats: 10.524107710165312\n",
            "P_value: 0.03246652787478729\n"
          ]
        }
      ]
    },
    {
      "cell_type": "code",
      "source": [
        "contingency_table = pd.crosstab(df['Housing_type'],df['label'])\n",
        "chi2, p_value, dof, expected = chi2_contingency(contingency_table)\n",
        "print('Chi2Stats:', chi2)\n",
        "print('P_value:', p_value)"
      ],
      "metadata": {
        "colab": {
          "base_uri": "https://localhost:8080/"
        },
        "id": "0liiADHHsywt",
        "outputId": "ca89701e-4196-44f9-e3b3-bd953384962d"
      },
      "execution_count": 40,
      "outputs": [
        {
          "output_type": "stream",
          "name": "stdout",
          "text": [
            "Chi2Stats: 28.04279521603185\n",
            "P_value: 3.570429275146809e-05\n"
          ]
        }
      ]
    },
    {
      "cell_type": "code",
      "source": [
        "contingency_table = pd.crosstab(df['Birthday_count'],df['label'])\n",
        "chi2, p_value, dof, expected = chi2_contingency(contingency_table)\n",
        "print('Chi2Stats:', chi2)\n",
        "print('P_value:', p_value)"
      ],
      "metadata": {
        "colab": {
          "base_uri": "https://localhost:8080/"
        },
        "id": "7NM0QKM8tR2y",
        "outputId": "3753b2cb-ef8e-41ba-8b77-fff54c73b352"
      },
      "execution_count": 41,
      "outputs": [
        {
          "output_type": "stream",
          "name": "stdout",
          "text": [
            "Chi2Stats: 1419.663404167573\n",
            "P_value: 0.00202992854854058\n"
          ]
        }
      ]
    },
    {
      "cell_type": "code",
      "source": [
        "contingency_table = pd.crosstab(df['Employed_days'],df['label'])\n",
        "chi2, p_value, dof, expected = chi2_contingency(contingency_table)\n",
        "print('Chi2Stats:', chi2)\n",
        "print('P_value:', p_value)"
      ],
      "metadata": {
        "colab": {
          "base_uri": "https://localhost:8080/"
        },
        "id": "GYHjp9fwthVa",
        "outputId": "6e80f94a-c8d8-487a-a1cf-83030afe3f0b"
      },
      "execution_count": 42,
      "outputs": [
        {
          "output_type": "stream",
          "name": "stdout",
          "text": [
            "Chi2Stats: 1014.3703168854651\n",
            "P_value: 0.08907335314259698\n"
          ]
        }
      ]
    },
    {
      "cell_type": "code",
      "source": [
        "contingency_table = pd.crosstab(df['Mobile_phone'],df['label'])\n",
        "chi2, p_value, dof, expected = chi2_contingency(contingency_table)\n",
        "print('Chi2Stats:', chi2)\n",
        "print('P_value:', p_value)"
      ],
      "metadata": {
        "colab": {
          "base_uri": "https://localhost:8080/"
        },
        "id": "LXDCIppPtR6K",
        "outputId": "cffdb4dd-f4bd-4dd0-be74-072c969199dd"
      },
      "execution_count": 43,
      "outputs": [
        {
          "output_type": "stream",
          "name": "stdout",
          "text": [
            "Chi2Stats: 0.0\n",
            "P_value: 1.0\n"
          ]
        }
      ]
    },
    {
      "cell_type": "code",
      "source": [
        "contingency_table = pd.crosstab(df['Work_Phone'],df['label'])\n",
        "chi2, p_value, dof, expected = chi2_contingency(contingency_table)\n",
        "print('Chi2Stats:', chi2)\n",
        "print('P_value:', p_value)"
      ],
      "metadata": {
        "colab": {
          "base_uri": "https://localhost:8080/"
        },
        "id": "bh5AxUnRt41T",
        "outputId": "ca2c2edc-b748-48cc-f220-5fb255738c37"
      },
      "execution_count": 44,
      "outputs": [
        {
          "output_type": "stream",
          "name": "stdout",
          "text": [
            "Chi2Stats: 0.03180437497153464\n",
            "P_value: 0.8584576855494042\n"
          ]
        }
      ]
    },
    {
      "cell_type": "code",
      "source": [
        "contingency_table = pd.crosstab(df['Phone'],df['label'])\n",
        "chi2, p_value, dof, expected = chi2_contingency(contingency_table)\n",
        "print('Chi2Stats:', chi2)\n",
        "print('P_value:', p_value)"
      ],
      "metadata": {
        "colab": {
          "base_uri": "https://localhost:8080/"
        },
        "id": "IgqiRKt3t44s",
        "outputId": "78f211bb-0d7f-437a-c8d7-b7e22b3ed52d"
      },
      "execution_count": 45,
      "outputs": [
        {
          "output_type": "stream",
          "name": "stdout",
          "text": [
            "Chi2Stats: 0.0\n",
            "P_value: 1.0\n"
          ]
        }
      ]
    },
    {
      "cell_type": "code",
      "source": [
        "contingency_table = pd.crosstab(df['Family_Members'],df['label'])\n",
        "chi2, p_value, dof, expected = chi2_contingency(contingency_table)\n",
        "print('Chi2Stats:', chi2)\n",
        "print('P_value:', p_value)"
      ],
      "metadata": {
        "colab": {
          "base_uri": "https://localhost:8080/"
        },
        "id": "iBpbo14julJw",
        "outputId": "26c578a4-8ff4-4117-903f-32e6fb70a1c5"
      },
      "execution_count": 46,
      "outputs": [
        {
          "output_type": "stream",
          "name": "stdout",
          "text": [
            "Chi2Stats: 11.838490556228965\n",
            "P_value: 0.06567040599527287\n"
          ]
        }
      ]
    },
    {
      "cell_type": "code",
      "source": [
        "df= df.drop('Ind_ID', axis=1)##removing unimportant feature\n",
        "df=df.drop('Email_ID',axis=1)\n",
        "df=df.drop('Gender',axis=1)\n",
        "df=df.drop('Car_Owner',axis=1)\n",
        "df=df.drop('Housing_type',axis=1)\n",
        "df=df.drop('Employed_days',axis=1)\n",
        "df=df.drop('Mobile_phone',axis=1)\n",
        "df=df.drop('Work_Phone',axis=1)\n",
        "df=df.drop('Phone',axis=1)\n",
        "\n",
        "\n",
        "\n",
        "\n"
      ],
      "metadata": {
        "id": "9hsB-w_QrI6Z"
      },
      "execution_count": 47,
      "outputs": []
    },
    {
      "cell_type": "code",
      "source": [
        "AI=df['Annual_income']"
      ],
      "metadata": {
        "id": "bNa2eai3UFvk"
      },
      "execution_count": 48,
      "outputs": []
    },
    {
      "cell_type": "code",
      "source": [
        "from scipy.stats.mstats import winsorize\n"
      ],
      "metadata": {
        "id": "QVkO35XrfujZ"
      },
      "execution_count": 49,
      "outputs": []
    },
    {
      "cell_type": "code",
      "source": [
        "#calculating outliers for annual income table\n",
        "IQR = 225000\t- 121500\n",
        "IQR"
      ],
      "metadata": {
        "colab": {
          "base_uri": "https://localhost:8080/"
        },
        "id": "_MaIxON5fumA",
        "outputId": "6b8105ae-2b4a-4c98-a8b7-af5b8b72bc12"
      },
      "execution_count": 50,
      "outputs": [
        {
          "output_type": "execute_result",
          "data": {
            "text/plain": [
              "103500"
            ]
          },
          "metadata": {},
          "execution_count": 50
        }
      ]
    },
    {
      "cell_type": "code",
      "source": [
        "#upperlimit\n",
        "ul= (225000 + 1.5*103500)"
      ],
      "metadata": {
        "id": "3DT2cJb9fuo3"
      },
      "execution_count": 51,
      "outputs": []
    },
    {
      "cell_type": "code",
      "source": [
        "ul"
      ],
      "metadata": {
        "colab": {
          "base_uri": "https://localhost:8080/"
        },
        "id": "DZxs18VdXiJd",
        "outputId": "8712d0fd-9477-4277-8b50-01cb0daede41"
      },
      "execution_count": 52,
      "outputs": [
        {
          "output_type": "execute_result",
          "data": {
            "text/plain": [
              "380250.0"
            ]
          },
          "metadata": {},
          "execution_count": 52
        }
      ]
    },
    {
      "cell_type": "code",
      "source": [
        "#lowerlimit\n",
        "ll=(121500\t- 1.5*103500)\n"
      ],
      "metadata": {
        "id": "UJo5mNNZfurO"
      },
      "execution_count": 53,
      "outputs": []
    },
    {
      "cell_type": "code",
      "source": [
        "ll"
      ],
      "metadata": {
        "colab": {
          "base_uri": "https://localhost:8080/"
        },
        "id": "eohdKZksXj2e",
        "outputId": "7cc85613-c144-434a-8648-d84130c84d31"
      },
      "execution_count": 54,
      "outputs": [
        {
          "output_type": "execute_result",
          "data": {
            "text/plain": [
              "-33750.0"
            ]
          },
          "metadata": {},
          "execution_count": 54
        }
      ]
    },
    {
      "cell_type": "code",
      "source": [
        "df[(df['Annual_income']>380250.0) | (df['Annual_income']<-33750.0)].index"
      ],
      "metadata": {
        "colab": {
          "base_uri": "https://localhost:8080/"
        },
        "id": "eu2slVwhfutj",
        "outputId": "30034ce9-1512-47cf-975c-f79aa1909557"
      },
      "execution_count": 55,
      "outputs": [
        {
          "output_type": "execute_result",
          "data": {
            "text/plain": [
              "Int64Index([   8,    9,   10,   14,   25,   29,   39,   68,   69,   70,   95,\n",
              "             150,  151,  153,  154,  169,  170,  171,  188,  204,  211,  233,\n",
              "             242,  274,  278,  340,  355,  378,  385,  388,  393,  412,  515,\n",
              "             554,  557,  568,  573,  587,  622,  653,  684,  686,  769,  777,\n",
              "             811,  884,  885,  908,  912,  962, 1024, 1053, 1055, 1068, 1076,\n",
              "            1111, 1121, 1175, 1190, 1208, 1287, 1325, 1333, 1350, 1355, 1397,\n",
              "            1407, 1430, 1457, 1467, 1479, 1495, 1538],\n",
              "           dtype='int64')"
            ]
          },
          "metadata": {},
          "execution_count": 55
        }
      ]
    },
    {
      "cell_type": "code",
      "source": [
        "df['Annual_income']=df['Annual_income'].clip(lower=-33750.0, upper=380250.0) #replacing outliers\n",
        "fig= px.box(df, y=\"Annual_income\")\n",
        "fig.show()"
      ],
      "metadata": {
        "colab": {
          "base_uri": "https://localhost:8080/",
          "height": 542
        },
        "id": "UHrd1-Mjfuyx",
        "outputId": "e8dc9a46-ee7a-4ed9-c4ae-a12f76ed0fa0"
      },
      "execution_count": 56,
      "outputs": [
        {
          "output_type": "display_data",
          "data": {
            "text/html": [
              "<html>\n",
              "<head><meta charset=\"utf-8\" /></head>\n",
              "<body>\n",
              "    <div>            <script src=\"https://cdnjs.cloudflare.com/ajax/libs/mathjax/2.7.5/MathJax.js?config=TeX-AMS-MML_SVG\"></script><script type=\"text/javascript\">if (window.MathJax && window.MathJax.Hub && window.MathJax.Hub.Config) {window.MathJax.Hub.Config({SVG: {font: \"STIX-Web\"}});}</script>                <script type=\"text/javascript\">window.PlotlyConfig = {MathJaxConfig: 'local'};</script>\n",
              "        <script charset=\"utf-8\" src=\"https://cdn.plot.ly/plotly-2.24.1.min.js\"></script>                <div id=\"aee72840-2f4f-40f0-a26d-38a25ce852ed\" class=\"plotly-graph-div\" style=\"height:525px; width:100%;\"></div>            <script type=\"text/javascript\">                                    window.PLOTLYENV=window.PLOTLYENV || {};                                    if (document.getElementById(\"aee72840-2f4f-40f0-a26d-38a25ce852ed\")) {                    Plotly.newPlot(                        \"aee72840-2f4f-40f0-a26d-38a25ce852ed\",                        [{\"alignmentgroup\":\"True\",\"hovertemplate\":\"Annual_income=%{y}\\u003cextra\\u003e\\u003c\\u002fextra\\u003e\",\"legendgroup\":\"\",\"marker\":{\"color\":\"#636efa\"},\"name\":\"\",\"notched\":false,\"offsetgroup\":\"\",\"orientation\":\"v\",\"showlegend\":false,\"x0\":\" \",\"xaxis\":\"x\",\"y\":[180000.0,315000.0,315000.0,166500.0,315000.0,315000.0,315000.0,180000.0,380250.0,380250.0,380250.0,90000.0,166500.0,90000.0,380250.0,270000.0,270000.0,126000.0,126000.0,90000.0,202500.0,202500.0,157500.0,112500.0,180000.0,380250.0,112500.0,166500.0,292500.0,380250.0,90000.0,112500.0,135000.0,135000.0,180000.0,112500.0,292500.0,76500.0,215100.0,380250.0,270000.0,225000.0,225000.0,225000.0,157500.0,157500.0,67500.0,180000.0,180000.0,157500.0,157500.0,171000.0,135000.0,135000.0,103500.0,103500.0,225000.0,225000.0,225000.0,180000.0,157500.0,157500.0,180000.0,180000.0,99000.0,166500.0,99000.0,99000.0,380250.0,380250.0,380250.0,65250.0,72900.0,225000.0,67500.0,180000.0,166500.0,202500.0,157500.0,202500.0,270000.0,135000.0,360000.0,256500.0,256500.0,157500.0,225000.0,180000.0,180000.0,202500.0,202500.0,202500.0,315000.0,225000.0,126000.0,380250.0,135000.0,135000.0,247500.0,103500.0,85500.0,135000.0,135000.0,180000.0,121500.0,180000.0,225000.0,166500.0,135000.0,225000.0,67500.0,135000.0,130500.0,130500.0,202500.0,202500.0,202500.0,202500.0,202500.0,126000.0,126000.0,180000.0,180000.0,180000.0,180000.0,166500.0,211500.0,157500.0,81000.0,81000.0,112500.0,112500.0,112500.0,112500.0,112500.0,72000.0,202500.0,148500.0,135000.0,135000.0,270000.0,135000.0,135000.0,162000.0,112500.0,112500.0,112500.0,135000.0,135000.0,195750.0,380250.0,380250.0,166500.0,380250.0,380250.0,112500.0,112500.0,67500.0,67500.0,67500.0,216000.0,306000.0,90000.0,225000.0,108000.0,135000.0,135000.0,108000.0,108000.0,380250.0,380250.0,380250.0,315000.0,157500.0,157500.0,81000.0,225000.0,180000.0,135000.0,135000.0,63000.0,135000.0,112500.0,112500.0,45000.0,166500.0,202500.0,180000.0,380250.0,256500.0,90000.0,180000.0,90000.0,135000.0,126000.0,126000.0,337500.0,90000.0,131400.0,180000.0,247500.0,121500.0,117000.0,90000.0,380250.0,157500.0,112500.0,180000.0,157500.0,117000.0,234000.0,380250.0,247500.0,144000.0,180000.0,166500.0,216000.0,90000.0,171000.0,180000.0,225000.0,225000.0,270000.0,67050.0,270000.0,73350.0,112500.0,144000.0,225000.0,112500.0,292500.0,135000.0,157500.0,380250.0,157500.0,157500.0,135000.0,112500.0,202500.0,193500.0,225000.0,108000.0,380250.0,292500.0,270000.0,270000.0,292500.0,292500.0,157500.0,76500.0,157500.0,180000.0,135000.0,112500.0,360000.0,157500.0,225000.0,112500.0,121500.0,202500.0,112500.0,135000.0,103500.0,157500.0,337500.0,180000.0,112500.0,157500.0,360000.0,135000.0,337500.0,135000.0,360000.0,166500.0,380250.0,270000.0,270000.0,270000.0,380250.0,157500.0,112500.0,292500.0,112500.0,247500.0,157500.0,225000.0,94500.0,81000.0,180000.0,198000.0,180000.0,315000.0,67500.0,180000.0,202500.0,112500.0,306000.0,90000.0,270000.0,270000.0,234000.0,171000.0,225000.0,94500.0,117000.0,180000.0,202500.0,54000.0,112500.0,85500.0,135000.0,166500.0,157500.0,247500.0,180000.0,72000.0,202500.0,180000.0,270000.0,202500.0,360000.0,270000.0,270000.0,112500.0,166500.0,157500.0,202500.0,99000.0,162000.0,225000.0,225000.0,72000.0,135000.0,315000.0,167400.0,180000.0,135000.0,99000.0,225000.0,153000.0,380250.0,90000.0,360000.0,247500.0,225000.0,67500.0,112500.0,157500.0,90000.0,90000.0,225000.0,112500.0,112500.0,315000.0,135000.0,380250.0,90000.0,270000.0,180000.0,135000.0,243000.0,225000.0,112500.0,234000.0,180000.0,121500.0,121500.0,270000.0,180000.0,90000.0,135000.0,247500.0,76500.0,85500.0,202500.0,157500.0,225000.0,225000.0,380250.0,283500.0,90000.0,166500.0,252000.0,135000.0,315000.0,380250.0,180000.0,270000.0,380250.0,180000.0,306000.0,157500.0,180000.0,380250.0,36000.0,112500.0,292500.0,180000.0,202500.0,292500.0,315000.0,135000.0,337500.0,157500.0,360000.0,135000.0,270000.0,157500.0,157500.0,139500.0,135000.0,133650.0,380250.0,81000.0,225000.0,126000.0,135000.0,94500.0,180000.0,157500.0,252000.0,202500.0,117000.0,247500.0,180000.0,180000.0,180000.0,157500.0,135000.0,166500.0,202500.0,90000.0,247500.0,99000.0,247500.0,202500.0,90000.0,121500.0,157500.0,121500.0,135000.0,180000.0,144000.0,126000.0,225000.0,157500.0,157500.0,270000.0,261000.0,135000.0,202500.0,157500.0,103500.0,135000.0,135000.0,112500.0,231750.0,202500.0,247500.0,135000.0,135000.0,112500.0,117000.0,112500.0,135000.0,103500.0,315000.0,180000.0,247500.0,135000.0,157500.0,315000.0,247500.0,157500.0,166500.0,247500.0,166500.0,112500.0,90900.0,112500.0,45900.0,126000.0,103500.0,119250.0,202500.0,157500.0,112500.0,315000.0,270000.0,162000.0,270000.0,112500.0,58500.0,94500.0,270000.0,270000.0,99000.0,315000.0,157500.0,180000.0,211500.0,202500.0,180000.0,144000.0,144000.0,270000.0,148500.0,157500.0,90000.0,148500.0,99000.0,315000.0,162000.0,202500.0,225000.0,380250.0,292500.0,67500.0,157500.0,135000.0,67500.0,144000.0,90000.0,112500.0,112500.0,135000.0,360000.0,112500.0,225000.0,112500.0,202500.0,202500.0,225000.0,112500.0,202500.0,328500.0,112500.0,202500.0,135000.0,157500.0,270000.0,157500.0,193500.0,103500.0,90000.0,198000.0,202500.0,225000.0,72000.0,202500.0,247500.0,157500.0,225000.0,112500.0,380250.0,180000.0,108000.0,380250.0,202500.0,157500.0,90000.0,166500.0,225000.0,90000.0,72000.0,225000.0,157500.0,360000.0,380250.0,216000.0,157500.0,315000.0,315000.0,380250.0,135000.0,180000.0,157500.0,234000.0,99000.0,225000.0,292500.0,198000.0,90000.0,247500.0,112500.0,157500.0,112500.0,380250.0,180000.0,225000.0,225000.0,135000.0,112500.0,112500.0,180000.0,112500.0,117000.0,135000.0,270000.0,135000.0,157500.0,243000.0,121500.0,135000.0,225000.0,225000.0,112500.0,157500.0,202500.0,337500.0,103500.0,99000.0,67500.0,112500.0,270000.0,315000.0,135000.0,180000.0,225000.0,85500.0,135000.0,119700.0,380250.0,112500.0,153000.0,216000.0,202500.0,90000.0,108000.0,270000.0,76500.0,69372.0,135000.0,117000.0,202500.0,126000.0,135000.0,180000.0,225000.0,81000.0,157500.0,90000.0,225000.0,157500.0,103500.0,202500.0,37800.0,135000.0,157500.0,180000.0,135000.0,225000.0,157500.0,380250.0,225000.0,225000.0,126000.0,135000.0,202500.0,225000.0,157500.0,202500.0,247500.0,225000.0,112500.0,112500.0,135000.0,207000.0,270000.0,315000.0,315000.0,112500.0,121500.0,225000.0,225000.0,157500.0,225000.0,135000.0,225000.0,270000.0,202500.0,135000.0,112500.0,157500.0,380250.0,202500.0,380250.0,135000.0,337500.0,94500.0,90000.0,157500.0,270000.0,112500.0,135000.0,270000.0,112500.0,225000.0,54000.0,189000.0,135000.0,157500.0,121500.0,180000.0,121500.0,225000.0,180000.0,315000.0,112500.0,90000.0,90000.0,45000.0,180000.0,112500.0,135000.0,360000.0,135000.0,99000.0,270000.0,157500.0,166500.0,180000.0,315000.0,112500.0,108000.0,180000.0,225000.0,90000.0,292500.0,157500.0,135000.0,315000.0,225000.0,333000.0,171000.0,130500.0,112500.0,202500.0,126000.0,225000.0,135000.0,112500.0,105750.0,135000.0,180000.0,360000.0,157500.0,90000.0,112500.0,180000.0,225000.0,67500.0,270000.0,202500.0,144000.0,207000.0,180000.0,202500.0,202500.0,180000.0,126000.0,157500.0,225000.0,202500.0,103500.0,90000.0,135000.0,67500.0,135000.0,380250.0,270000.0,202500.0,292500.0,225000.0,135000.0,76500.0,180000.0,380250.0,90000.0,157500.0,306000.0,90000.0,135000.0,193500.0,180000.0,270000.0,112500.0,202500.0,180000.0,139500.0,135000.0,202500.0,112500.0,126000.0,193500.0,112500.0,337500.0,157500.0,193500.0,180000.0,315000.0,180000.0,90000.0,180000.0,112500.0,157500.0,135000.0,315000.0,112500.0,135000.0,99000.0,380250.0,270000.0,112500.0,180000.0,141750.0,180000.0,112500.0,225000.0,270000.0,202500.0,135000.0,292500.0,202500.0,99000.0,202500.0,306000.0,148500.0,135000.0,180000.0,180000.0,157500.0,247500.0,112500.0,180000.0,103500.0,198000.0,135000.0,67500.0,202500.0,315000.0,292500.0,148500.0,202500.0,180000.0,90000.0,135000.0,135000.0,261000.0,135000.0,112500.0,135000.0,135000.0,360000.0,171000.0,40500.0,130500.0,306000.0,202500.0,112500.0,112500.0,90000.0,153000.0,135000.0,180000.0,112500.0,90000.0,157500.0,247500.0,112500.0,67500.0,360000.0,360000.0,315000.0,157500.0,135000.0,166500.0,180000.0,225000.0,135000.0,135000.0,193500.0,247500.0,315000.0,380250.0,380250.0,90000.0,270000.0,243000.0,180000.0,112500.0,337500.0,135000.0,117000.0,202500.0,270000.0,202500.0,135000.0,216000.0,135000.0,225000.0,81000.0,180000.0,292500.0,225000.0,157500.0,157500.0,166500.0,380250.0,180000.0,45000.0,315000.0,380250.0,180000.0,90000.0,166500.0,148500.0,135000.0,144000.0,135000.0,360000.0,90000.0,157500.0,135000.0,292500.0,112500.0,216000.0,126000.0,135000.0,189000.0,337500.0,44550.0,112500.0,157500.0,112500.0,135000.0,135000.0,301500.0,112500.0,90000.0,67500.0,292500.0,315000.0,117000.0,157500.0,67500.0,189000.0,202500.0,157500.0,225000.0,112500.0,202500.0,180000.0,225000.0,157500.0,180000.0,112500.0,81000.0,90000.0,180000.0,94500.0,180000.0,380250.0,315000.0,54000.0,112500.0,157500.0,180000.0,225000.0,360000.0,112500.0,292500.0,360000.0,225000.0,126000.0,135000.0,270000.0,157500.0,216000.0,337500.0,225000.0,108000.0,225000.0,180000.0,180000.0,135000.0,180000.0,112500.0,270000.0,270000.0,270000.0,135000.0,351000.0,202500.0,189000.0,270000.0,144000.0,67500.0,247500.0,157500.0,157500.0,157500.0,180000.0,315000.0,99000.0,351000.0,175500.0,306000.0,157500.0,58500.0,292500.0,166500.0,225000.0,247500.0,189000.0,247500.0,90000.0,148500.0,180000.0,180000.0,121900.5,112500.0,180000.0,225000.0,380250.0,225000.0,135000.0,157500.0,238500.0,261000.0,180000.0,225000.0,135000.0,112500.0,180000.0,171000.0,135000.0,202500.0,33750.0,135000.0,135000.0,157500.0,67500.0,135000.0,153000.0,180000.0,180000.0,121500.0,112500.0,270000.0,360000.0,116100.0,225000.0,380250.0,225000.0,380250.0,112500.0,157500.0,202500.0,297000.0,315000.0,202500.0,180000.0,202500.0,360000.0,112500.0,121500.0,112500.0,380250.0,112500.0,135000.0,261000.0,121500.0,202500.0,94500.0,225000.0,380250.0,202500.0,360000.0,157500.0,247500.0,81000.0,360000.0,315000.0,126000.0,225000.0,135000.0,225000.0,112500.0,40500.0,157500.0,67500.0,315000.0,270000.0,180000.0,157500.0,252000.0,270000.0,157500.0,270000.0,162000.0,315000.0,202500.0,180000.0,112500.0,135000.0,225000.0,157500.0,112500.0,202500.0,162000.0,380250.0,157500.0,270000.0,90000.0,67500.0,225000.0,135000.0,135000.0,157500.0,180000.0,380250.0,225000.0,135000.0,360000.0,135000.0,112500.0,225000.0,180000.0,202500.0,315000.0,315000.0,112500.0,83250.0,261000.0,247500.0,360000.0,135000.0,225000.0,270000.0,112500.0,112500.0,225000.0,173250.0,148500.0,315000.0,135000.0,157500.0,76500.0,225000.0,157500.0,216000.0,90000.0,211500.0,202500.0,112500.0,112500.0,166500.0,72000.0,135000.0,157500.0,67500.0,135000.0,207000.0,148500.0,112500.0,112500.0,202500.0,67500.0,67500.0,306000.0,90000.0,360000.0,112500.0,270000.0,380250.0,67500.0,180000.0,270000.0,315000.0,247500.0,72000.0,81000.0,171000.0,135000.0,135000.0,202500.0,292500.0,360000.0,315000.0,380250.0,225000.0,198000.0,202500.0,90000.0,166500.0,73350.0,135000.0,103500.0,202500.0,76500.0,225000.0,126000.0,211500.0,157500.0,112500.0,225000.0,135000.0,380250.0,135000.0,112500.0,247500.0,270000.0,225000.0,90000.0,135000.0,67500.0,135000.0,193500.0,135000.0,202500.0,135000.0,180000.0,112500.0,247500.0,360000.0,193500.0,67500.0,306000.0,153000.0,171000.0,112500.0,360000.0,157500.0,112500.0,292500.0,315000.0,135000.0,180000.0,180000.0,292500.0,135000.0,225000.0,225000.0,135000.0,292500.0,180000.0,274500.0,225000.0,180000.0,225000.0,360000.0,126000.0,180000.0,54000.0,76500.0,247500.0,112500.0,81000.0,135000.0,135000.0,99000.0,67500.0,166500.0,202500.0,58500.0,135000.0,135000.0,180000.0,112500.0,144000.0,112500.0,135000.0,81000.0,193500.0,144000.0,292500.0,157500.0,315000.0,135000.0,202500.0,180000.0,112500.0,112500.0,270000.0,76500.0,292500.0,380250.0,193500.0,180000.0,115200.0,56250.0,180000.0,157500.0,202500.0,135000.0,202500.0,157500.0,225000.0,166500.0,202500.0,85500.0,157500.0,270000.0,157500.0,360000.0,90000.0,90000.0,135000.0,112500.0,225000.0,225000.0,202500.0,202500.0,225000.0,108000.0,225000.0,180000.0,135000.0,112500.0,90000.0,90000.0,103500.0,72000.0,135000.0,380250.0,135000.0,360000.0,135000.0,225000.0,135000.0,81000.0,90000.0,380250.0,360000.0,225000.0,202500.0,202500.0,95850.0,112500.0,126000.0,99000.0,112500.0,180000.0,225000.0,225000.0,202500.0,180000.0,135000.0,315000.0,380250.0,45000.0,185400.0,76500.0,225000.0,380250.0,126000.0,135000.0,90000.0,157500.0,180000.0,112500.0,270000.0,135000.0,103500.0,130500.0,90000.0,112500.0,157500.0,202500.0,67500.0,189000.0,180000.0,135000.0,135000.0,166500.0,90000.0,337500.0,90000.0,157500.0,112500.0,180000.0,112500.0,135000.0,135000.0,135000.0,166500.0,126000.0,247500.0,184500.0,165600.0,315000.0,112500.0,112500.0,202500.0,72000.0,202500.0,380250.0,112500.0,157500.0,112500.0,270000.0,270000.0,247500.0,360000.0,189000.0,157500.0,380250.0,157500.0,130500.0,135000.0,90000.0,67500.0,135000.0,247500.0,157500.0,135000.0,126000.0,180000.0,112500.0,247500.0,112500.0,315000.0,67500.0,337500.0,337500.0,112500.0,157500.0,292500.0,135000.0,380250.0,180000.0,135000.0,180000.0,202500.0,180000.0,112500.0,135000.0,81000.0,135000.0,270000.0,247500.0,202500.0,225000.0,157500.0,216000.0,202500.0,135000.0,247500.0,180000.0,67500.0,130500.0,99000.0,112500.0,247500.0,180000.0,225000.0,380250.0,247500.0,171000.0,180000.0,337500.0,315000.0,247500.0,180000.0,83250.0,202500.0,380250.0,135000.0,225000.0,157500.0,270000.0,216000.0,114750.0,99000.0,47250.0,49500.0,135000.0,225000.0,380250.0,225000.0,90000.0,180000.0,103500.0,135000.0,225000.0,112500.0,270000.0,270000.0,202500.0,180000.0,180000.0,108000.0,225000.0,157500.0,380250.0,225000.0,216000.0,135000.0,112500.0,135000.0,157500.0,45000.0,157500.0,198000.0,234000.0,157500.0,207000.0,198000.0,157500.0,180000.0,216000.0,112500.0,94500.0,69750.0,103500.0,157500.0,112500.0,67500.0,112500.0,157500.0,270000.0,135000.0,112500.0,126000.0,175500.0,148500.0,126000.0,180000.0,225000.0,126000.0,157500.0,157500.0,270000.0,180000.0,144000.0,112500.0,225000.0,380250.0,180000.0,144000.0,225000.0,360000.0,166500.0,225000.0,180000.0,270000.0,225000.0],\"y0\":\" \",\"yaxis\":\"y\",\"type\":\"box\"}],                        {\"template\":{\"data\":{\"histogram2dcontour\":[{\"type\":\"histogram2dcontour\",\"colorbar\":{\"outlinewidth\":0,\"ticks\":\"\"},\"colorscale\":[[0.0,\"#0d0887\"],[0.1111111111111111,\"#46039f\"],[0.2222222222222222,\"#7201a8\"],[0.3333333333333333,\"#9c179e\"],[0.4444444444444444,\"#bd3786\"],[0.5555555555555556,\"#d8576b\"],[0.6666666666666666,\"#ed7953\"],[0.7777777777777778,\"#fb9f3a\"],[0.8888888888888888,\"#fdca26\"],[1.0,\"#f0f921\"]]}],\"choropleth\":[{\"type\":\"choropleth\",\"colorbar\":{\"outlinewidth\":0,\"ticks\":\"\"}}],\"histogram2d\":[{\"type\":\"histogram2d\",\"colorbar\":{\"outlinewidth\":0,\"ticks\":\"\"},\"colorscale\":[[0.0,\"#0d0887\"],[0.1111111111111111,\"#46039f\"],[0.2222222222222222,\"#7201a8\"],[0.3333333333333333,\"#9c179e\"],[0.4444444444444444,\"#bd3786\"],[0.5555555555555556,\"#d8576b\"],[0.6666666666666666,\"#ed7953\"],[0.7777777777777778,\"#fb9f3a\"],[0.8888888888888888,\"#fdca26\"],[1.0,\"#f0f921\"]]}],\"heatmap\":[{\"type\":\"heatmap\",\"colorbar\":{\"outlinewidth\":0,\"ticks\":\"\"},\"colorscale\":[[0.0,\"#0d0887\"],[0.1111111111111111,\"#46039f\"],[0.2222222222222222,\"#7201a8\"],[0.3333333333333333,\"#9c179e\"],[0.4444444444444444,\"#bd3786\"],[0.5555555555555556,\"#d8576b\"],[0.6666666666666666,\"#ed7953\"],[0.7777777777777778,\"#fb9f3a\"],[0.8888888888888888,\"#fdca26\"],[1.0,\"#f0f921\"]]}],\"heatmapgl\":[{\"type\":\"heatmapgl\",\"colorbar\":{\"outlinewidth\":0,\"ticks\":\"\"},\"colorscale\":[[0.0,\"#0d0887\"],[0.1111111111111111,\"#46039f\"],[0.2222222222222222,\"#7201a8\"],[0.3333333333333333,\"#9c179e\"],[0.4444444444444444,\"#bd3786\"],[0.5555555555555556,\"#d8576b\"],[0.6666666666666666,\"#ed7953\"],[0.7777777777777778,\"#fb9f3a\"],[0.8888888888888888,\"#fdca26\"],[1.0,\"#f0f921\"]]}],\"contourcarpet\":[{\"type\":\"contourcarpet\",\"colorbar\":{\"outlinewidth\":0,\"ticks\":\"\"}}],\"contour\":[{\"type\":\"contour\",\"colorbar\":{\"outlinewidth\":0,\"ticks\":\"\"},\"colorscale\":[[0.0,\"#0d0887\"],[0.1111111111111111,\"#46039f\"],[0.2222222222222222,\"#7201a8\"],[0.3333333333333333,\"#9c179e\"],[0.4444444444444444,\"#bd3786\"],[0.5555555555555556,\"#d8576b\"],[0.6666666666666666,\"#ed7953\"],[0.7777777777777778,\"#fb9f3a\"],[0.8888888888888888,\"#fdca26\"],[1.0,\"#f0f921\"]]}],\"surface\":[{\"type\":\"surface\",\"colorbar\":{\"outlinewidth\":0,\"ticks\":\"\"},\"colorscale\":[[0.0,\"#0d0887\"],[0.1111111111111111,\"#46039f\"],[0.2222222222222222,\"#7201a8\"],[0.3333333333333333,\"#9c179e\"],[0.4444444444444444,\"#bd3786\"],[0.5555555555555556,\"#d8576b\"],[0.6666666666666666,\"#ed7953\"],[0.7777777777777778,\"#fb9f3a\"],[0.8888888888888888,\"#fdca26\"],[1.0,\"#f0f921\"]]}],\"mesh3d\":[{\"type\":\"mesh3d\",\"colorbar\":{\"outlinewidth\":0,\"ticks\":\"\"}}],\"scatter\":[{\"fillpattern\":{\"fillmode\":\"overlay\",\"size\":10,\"solidity\":0.2},\"type\":\"scatter\"}],\"parcoords\":[{\"type\":\"parcoords\",\"line\":{\"colorbar\":{\"outlinewidth\":0,\"ticks\":\"\"}}}],\"scatterpolargl\":[{\"type\":\"scatterpolargl\",\"marker\":{\"colorbar\":{\"outlinewidth\":0,\"ticks\":\"\"}}}],\"bar\":[{\"error_x\":{\"color\":\"#2a3f5f\"},\"error_y\":{\"color\":\"#2a3f5f\"},\"marker\":{\"line\":{\"color\":\"#E5ECF6\",\"width\":0.5},\"pattern\":{\"fillmode\":\"overlay\",\"size\":10,\"solidity\":0.2}},\"type\":\"bar\"}],\"scattergeo\":[{\"type\":\"scattergeo\",\"marker\":{\"colorbar\":{\"outlinewidth\":0,\"ticks\":\"\"}}}],\"scatterpolar\":[{\"type\":\"scatterpolar\",\"marker\":{\"colorbar\":{\"outlinewidth\":0,\"ticks\":\"\"}}}],\"histogram\":[{\"marker\":{\"pattern\":{\"fillmode\":\"overlay\",\"size\":10,\"solidity\":0.2}},\"type\":\"histogram\"}],\"scattergl\":[{\"type\":\"scattergl\",\"marker\":{\"colorbar\":{\"outlinewidth\":0,\"ticks\":\"\"}}}],\"scatter3d\":[{\"type\":\"scatter3d\",\"line\":{\"colorbar\":{\"outlinewidth\":0,\"ticks\":\"\"}},\"marker\":{\"colorbar\":{\"outlinewidth\":0,\"ticks\":\"\"}}}],\"scattermapbox\":[{\"type\":\"scattermapbox\",\"marker\":{\"colorbar\":{\"outlinewidth\":0,\"ticks\":\"\"}}}],\"scatterternary\":[{\"type\":\"scatterternary\",\"marker\":{\"colorbar\":{\"outlinewidth\":0,\"ticks\":\"\"}}}],\"scattercarpet\":[{\"type\":\"scattercarpet\",\"marker\":{\"colorbar\":{\"outlinewidth\":0,\"ticks\":\"\"}}}],\"carpet\":[{\"aaxis\":{\"endlinecolor\":\"#2a3f5f\",\"gridcolor\":\"white\",\"linecolor\":\"white\",\"minorgridcolor\":\"white\",\"startlinecolor\":\"#2a3f5f\"},\"baxis\":{\"endlinecolor\":\"#2a3f5f\",\"gridcolor\":\"white\",\"linecolor\":\"white\",\"minorgridcolor\":\"white\",\"startlinecolor\":\"#2a3f5f\"},\"type\":\"carpet\"}],\"table\":[{\"cells\":{\"fill\":{\"color\":\"#EBF0F8\"},\"line\":{\"color\":\"white\"}},\"header\":{\"fill\":{\"color\":\"#C8D4E3\"},\"line\":{\"color\":\"white\"}},\"type\":\"table\"}],\"barpolar\":[{\"marker\":{\"line\":{\"color\":\"#E5ECF6\",\"width\":0.5},\"pattern\":{\"fillmode\":\"overlay\",\"size\":10,\"solidity\":0.2}},\"type\":\"barpolar\"}],\"pie\":[{\"automargin\":true,\"type\":\"pie\"}]},\"layout\":{\"autotypenumbers\":\"strict\",\"colorway\":[\"#636efa\",\"#EF553B\",\"#00cc96\",\"#ab63fa\",\"#FFA15A\",\"#19d3f3\",\"#FF6692\",\"#B6E880\",\"#FF97FF\",\"#FECB52\"],\"font\":{\"color\":\"#2a3f5f\"},\"hovermode\":\"closest\",\"hoverlabel\":{\"align\":\"left\"},\"paper_bgcolor\":\"white\",\"plot_bgcolor\":\"#E5ECF6\",\"polar\":{\"bgcolor\":\"#E5ECF6\",\"angularaxis\":{\"gridcolor\":\"white\",\"linecolor\":\"white\",\"ticks\":\"\"},\"radialaxis\":{\"gridcolor\":\"white\",\"linecolor\":\"white\",\"ticks\":\"\"}},\"ternary\":{\"bgcolor\":\"#E5ECF6\",\"aaxis\":{\"gridcolor\":\"white\",\"linecolor\":\"white\",\"ticks\":\"\"},\"baxis\":{\"gridcolor\":\"white\",\"linecolor\":\"white\",\"ticks\":\"\"},\"caxis\":{\"gridcolor\":\"white\",\"linecolor\":\"white\",\"ticks\":\"\"}},\"coloraxis\":{\"colorbar\":{\"outlinewidth\":0,\"ticks\":\"\"}},\"colorscale\":{\"sequential\":[[0.0,\"#0d0887\"],[0.1111111111111111,\"#46039f\"],[0.2222222222222222,\"#7201a8\"],[0.3333333333333333,\"#9c179e\"],[0.4444444444444444,\"#bd3786\"],[0.5555555555555556,\"#d8576b\"],[0.6666666666666666,\"#ed7953\"],[0.7777777777777778,\"#fb9f3a\"],[0.8888888888888888,\"#fdca26\"],[1.0,\"#f0f921\"]],\"sequentialminus\":[[0.0,\"#0d0887\"],[0.1111111111111111,\"#46039f\"],[0.2222222222222222,\"#7201a8\"],[0.3333333333333333,\"#9c179e\"],[0.4444444444444444,\"#bd3786\"],[0.5555555555555556,\"#d8576b\"],[0.6666666666666666,\"#ed7953\"],[0.7777777777777778,\"#fb9f3a\"],[0.8888888888888888,\"#fdca26\"],[1.0,\"#f0f921\"]],\"diverging\":[[0,\"#8e0152\"],[0.1,\"#c51b7d\"],[0.2,\"#de77ae\"],[0.3,\"#f1b6da\"],[0.4,\"#fde0ef\"],[0.5,\"#f7f7f7\"],[0.6,\"#e6f5d0\"],[0.7,\"#b8e186\"],[0.8,\"#7fbc41\"],[0.9,\"#4d9221\"],[1,\"#276419\"]]},\"xaxis\":{\"gridcolor\":\"white\",\"linecolor\":\"white\",\"ticks\":\"\",\"title\":{\"standoff\":15},\"zerolinecolor\":\"white\",\"automargin\":true,\"zerolinewidth\":2},\"yaxis\":{\"gridcolor\":\"white\",\"linecolor\":\"white\",\"ticks\":\"\",\"title\":{\"standoff\":15},\"zerolinecolor\":\"white\",\"automargin\":true,\"zerolinewidth\":2},\"scene\":{\"xaxis\":{\"backgroundcolor\":\"#E5ECF6\",\"gridcolor\":\"white\",\"linecolor\":\"white\",\"showbackground\":true,\"ticks\":\"\",\"zerolinecolor\":\"white\",\"gridwidth\":2},\"yaxis\":{\"backgroundcolor\":\"#E5ECF6\",\"gridcolor\":\"white\",\"linecolor\":\"white\",\"showbackground\":true,\"ticks\":\"\",\"zerolinecolor\":\"white\",\"gridwidth\":2},\"zaxis\":{\"backgroundcolor\":\"#E5ECF6\",\"gridcolor\":\"white\",\"linecolor\":\"white\",\"showbackground\":true,\"ticks\":\"\",\"zerolinecolor\":\"white\",\"gridwidth\":2}},\"shapedefaults\":{\"line\":{\"color\":\"#2a3f5f\"}},\"annotationdefaults\":{\"arrowcolor\":\"#2a3f5f\",\"arrowhead\":0,\"arrowwidth\":1},\"geo\":{\"bgcolor\":\"white\",\"landcolor\":\"#E5ECF6\",\"subunitcolor\":\"white\",\"showland\":true,\"showlakes\":true,\"lakecolor\":\"white\"},\"title\":{\"x\":0.05},\"mapbox\":{\"style\":\"light\"}}},\"xaxis\":{\"anchor\":\"y\",\"domain\":[0.0,1.0]},\"yaxis\":{\"anchor\":\"x\",\"domain\":[0.0,1.0],\"title\":{\"text\":\"Annual_income\"}},\"legend\":{\"tracegroupgap\":0},\"margin\":{\"t\":60},\"boxmode\":\"group\"},                        {\"responsive\": true}                    ).then(function(){\n",
              "                            \n",
              "var gd = document.getElementById('aee72840-2f4f-40f0-a26d-38a25ce852ed');\n",
              "var x = new MutationObserver(function (mutations, observer) {{\n",
              "        var display = window.getComputedStyle(gd).display;\n",
              "        if (!display || display === 'none') {{\n",
              "            console.log([gd, 'removed!']);\n",
              "            Plotly.purge(gd);\n",
              "            observer.disconnect();\n",
              "        }}\n",
              "}});\n",
              "\n",
              "// Listen for the removal of the full notebook cells\n",
              "var notebookContainer = gd.closest('#notebook-container');\n",
              "if (notebookContainer) {{\n",
              "    x.observe(notebookContainer, {childList: true});\n",
              "}}\n",
              "\n",
              "// Listen for the clearing of the current output cell\n",
              "var outputEl = gd.closest('.output');\n",
              "if (outputEl) {{\n",
              "    x.observe(outputEl, {childList: true});\n",
              "}}\n",
              "\n",
              "                        })                };                            </script>        </div>\n",
              "</body>\n",
              "</html>"
            ]
          },
          "metadata": {}
        }
      ]
    },
    {
      "cell_type": "code",
      "source": [
        "df['Annual_income'].hist()\n"
      ],
      "metadata": {
        "colab": {
          "base_uri": "https://localhost:8080/",
          "height": 447
        },
        "id": "xWR2H3nDfu2L",
        "outputId": "64bfb244-9b8f-4853-81a6-a79a4cdacce4"
      },
      "execution_count": 57,
      "outputs": [
        {
          "output_type": "execute_result",
          "data": {
            "text/plain": [
              "<Axes: >"
            ]
          },
          "metadata": {},
          "execution_count": 57
        },
        {
          "output_type": "display_data",
          "data": {
            "text/plain": [
              "<Figure size 640x480 with 1 Axes>"
            ],
            "image/png": "[encoded data removed]"
          },
          "metadata": {}
        }
      ]
    },
    {
      "cell_type": "markdown",
      "source": [
        "*Data Wrangling*"
      ],
      "metadata": {
        "id": "TXBTrPGYm_0d"
      }
    },
    {
      "cell_type": "code",
      "source": [
        "df[\"Education\"].unique()"
      ],
      "metadata": {
        "colab": {
          "base_uri": "https://localhost:8080/"
        },
        "id": "ZoZkKNz4fu_A",
        "outputId": "6d1e5156-e095-4d8b-bbfd-c8f7570f7c27"
      },
      "execution_count": 58,
      "outputs": [
        {
          "output_type": "execute_result",
          "data": {
            "text/plain": [
              "array(['Higher education', 'Secondary / secondary special',\n",
              "       'Lower secondary', 'Incomplete higher', 'Academic degree'],\n",
              "      dtype=object)"
            ]
          },
          "metadata": {},
          "execution_count": 58
        }
      ]
    },
    {
      "cell_type": "code",
      "source": [
        "from sklearn.preprocessing import OrdinalEncoder\n",
        "from sklearn.preprocessing import LabelEncoder\n",
        "from sklearn.preprocessing import OneHotEncoder"
      ],
      "metadata": {
        "id": "fiBVGkIrfvB4"
      },
      "execution_count": 59,
      "outputs": []
    },
    {
      "cell_type": "code",
      "source": [
        "#used ordinal encoder to encode the columns Marital status and Education\n",
        "oe=OrdinalEncoder(categories=[[\"Single\",\"Married\",\"Civil marriage\",\"Separated\",\"Widow\"]])\n",
        "df[\"Marital_status\"]=oe.fit_transform(df[[\"Marital_status\"]])\n",
        "Eoe=OrdinalEncoder(categories=[[\"Lower secondary\",\"Secondary / secondary special\",\"Incomplete higher\",\"Higher education\",\"Academic degree\"]])\n",
        "df[\"Education\"]=Eoe.fit_transform(df[[\"Education\"]])\n"
      ],
      "metadata": {
        "id": "4snWQnhzfvEg"
      },
      "execution_count": 60,
      "outputs": []
    },
    {
      "cell_type": "code",
      "source": [
        "df.head()"
      ],
      "metadata": {
        "colab": {
          "base_uri": "https://localhost:8080/",
          "height": 204
        },
        "id": "6PDhmmV0fvJt",
        "outputId": "9c23afd7-e4f9-4694-e35f-662351bd239d"
      },
      "execution_count": 61,
      "outputs": [
        {
          "output_type": "execute_result",
          "data": {
            "text/plain": [
              "  Propert_Owner  Children  Annual_income           Type_Income  Education  \\\n",
              "0             Y         0       180000.0             Pensioner        3.0   \n",
              "1             N         0       315000.0  Commercial associate        3.0   \n",
              "2             N         0       315000.0  Commercial associate        3.0   \n",
              "3             N         0       166500.0  Commercial associate        3.0   \n",
              "4             N         0       315000.0  Commercial associate        3.0   \n",
              "\n",
              "   Marital_status  Birthday_count  Family_Members   label  \n",
              "0             1.0   -18772.000000               2  Reject  \n",
              "1             1.0   -13557.000000               2  Reject  \n",
              "2             1.0   -16040.342071               2  Reject  \n",
              "3             1.0   -13557.000000               2  Reject  \n",
              "4             1.0   -13557.000000               2  Reject  "
            ],
            "text/html": [
              "\n",
              "  <div id=\"df-4bbfa277-642d-4061-886a-cd41ef5a1e16\" class=\"colab-df-container\">\n",
              "    <div>\n",
              "<style scoped>\n",
              "    .dataframe tbody tr th:only-of-type {\n",
              "        vertical-align: middle;\n",
              "    }\n",
              "\n",
              "    .dataframe tbody tr th {\n",
              "        vertical-align: top;\n",
              "    }\n",
              "\n",
              "    .dataframe thead th {\n",
              "        text-align: right;\n",
              "    }\n",
              "</style>\n",
              "<table border=\"1\" class=\"dataframe\">\n",
              "  <thead>\n",
              "    <tr style=\"text-align: right;\">\n",
              "      <th></th>\n",
              "      <th>Propert_Owner</th>\n",
              "      <th>Children</th>\n",
              "      <th>Annual_income</th>\n",
              "      <th>Type_Income</th>\n",
              "      <th>Education</th>\n",
              "      <th>Marital_status</th>\n",
              "      <th>Birthday_count</th>\n",
              "      <th>Family_Members</th>\n",
              "      <th>label</th>\n",
              "    </tr>\n",
              "  </thead>\n",
              "  <tbody>\n",
              "    <tr>\n",
              "      <th>0</th>\n",
              "      <td>Y</td>\n",
              "      <td>0</td>\n",
              "      <td>180000.0</td>\n",
              "      <td>Pensioner</td>\n",
              "      <td>3.0</td>\n",
              "      <td>1.0</td>\n",
              "      <td>-18772.000000</td>\n",
              "      <td>2</td>\n",
              "      <td>Reject</td>\n",
              "    </tr>\n",
              "    <tr>\n",
              "      <th>1</th>\n",
              "      <td>N</td>\n",
              "      <td>0</td>\n",
              "      <td>315000.0</td>\n",
              "      <td>Commercial associate</td>\n",
              "      <td>3.0</td>\n",
              "      <td>1.0</td>\n",
              "      <td>-13557.000000</td>\n",
              "      <td>2</td>\n",
              "      <td>Reject</td>\n",
              "    </tr>\n",
              "    <tr>\n",
              "      <th>2</th>\n",
              "      <td>N</td>\n",
              "      <td>0</td>\n",
              "      <td>315000.0</td>\n",
              "      <td>Commercial associate</td>\n",
              "      <td>3.0</td>\n",
              "      <td>1.0</td>\n",
              "      <td>-16040.342071</td>\n",
              "      <td>2</td>\n",
              "      <td>Reject</td>\n",
              "    </tr>\n",
              "    <tr>\n",
              "      <th>3</th>\n",
              "      <td>N</td>\n",
              "      <td>0</td>\n",
              "      <td>166500.0</td>\n",
              "      <td>Commercial associate</td>\n",
              "      <td>3.0</td>\n",
              "      <td>1.0</td>\n",
              "      <td>-13557.000000</td>\n",
              "      <td>2</td>\n",
              "      <td>Reject</td>\n",
              "    </tr>\n",
              "    <tr>\n",
              "      <th>4</th>\n",
              "      <td>N</td>\n",
              "      <td>0</td>\n",
              "      <td>315000.0</td>\n",
              "      <td>Commercial associate</td>\n",
              "      <td>3.0</td>\n",
              "      <td>1.0</td>\n",
              "      <td>-13557.000000</td>\n",
              "      <td>2</td>\n",
              "      <td>Reject</td>\n",
              "    </tr>\n",
              "  </tbody>\n",
              "</table>\n",
              "</div>\n",
              "    <div class=\"colab-df-buttons\">\n",
              "\n",
              "  <div class=\"colab-df-container\">\n",
              "    <button class=\"colab-df-convert\" onclick=\"convertToInteractive('df-4bbfa277-642d-4061-886a-cd41ef5a1e16')\"\n",
              "            title=\"Convert this dataframe to an interactive table.\"\n",
              "            style=\"display:none;\">\n",
              "\n",
              "  <svg xmlns=\"http://www.w3.org/2000/svg\" height=\"24px\" viewBox=\"0 -960 960 960\">\n",
              "    <path d=\"M120-120v-720h720v720H120Zm60-500h600v-160H180v160Zm220 220h160v-160H400v160Zm0 220h160v-160H400v160ZM180-400h160v-160H180v160Zm440 0h160v-160H620v160ZM180-180h160v-160H180v160Zm440 0h160v-160H620v160Z\"/>\n",
              "  </svg>\n",
              "    </button>\n",
              "\n",
              "  <style>\n",
              "    .colab-df-container {\n",
              "      display:flex;\n",
              "      gap: 12px;\n",
              "    }\n",
              "\n",
              "    .colab-df-convert {\n",
              "      background-color: #E8F0FE;\n",
              "      border: none;\n",
              "      border-radius: 50%;\n",
              "      cursor: pointer;\n",
              "      display: none;\n",
              "      fill: #1967D2;\n",
              "      height: 32px;\n",
              "      padding: 0 0 0 0;\n",
              "      width: 32px;\n",
              "    }\n",
              "\n",
              "    .colab-df-convert:hover {\n",
              "      background-color: #E2EBFA;\n",
              "      box-shadow: 0px 1px 2px rgba(60, 64, 67, 0.3), 0px 1px 3px 1px rgba(60, 64, 67, 0.15);\n",
              "      fill: #174EA6;\n",
              "    }\n",
              "\n",
              "    .colab-df-buttons div {\n",
              "      margin-bottom: 4px;\n",
              "    }\n",
              "\n",
              "    [theme=dark] .colab-df-convert {\n",
              "      background-color: #3B4455;\n",
              "      fill: #D2E3FC;\n",
              "    }\n",
              "\n",
              "    [theme=dark] .colab-df-convert:hover {\n",
              "      background-color: #434B5C;\n",
              "      box-shadow: 0px 1px 3px 1px rgba(0, 0, 0, 0.15);\n",
              "      filter: drop-shadow(0px 1px 2px rgba(0, 0, 0, 0.3));\n",
              "      fill: #FFFFFF;\n",
              "    }\n",
              "  </style>\n",
              "\n",
              "    <script>\n",
              "      const buttonEl =\n",
              "        document.querySelector('#df-4bbfa277-642d-4061-886a-cd41ef5a1e16 button.colab-df-convert');\n",
              "      buttonEl.style.display =\n",
              "        google.colab.kernel.accessAllowed ? 'block' : 'none';\n",
              "\n",
              "      async function convertToInteractive(key) {\n",
              "        const element = document.querySelector('#df-4bbfa277-642d-4061-886a-cd41ef5a1e16');\n",
              "        const dataTable =\n",
              "          await google.colab.kernel.invokeFunction('convertToInteractive',\n",
              "                                                    [key], {});\n",
              "        if (!dataTable) return;\n",
              "\n",
              "        const docLinkHtml = 'Like what you see? Visit the ' +\n",
              "          '<a target=\"_blank\" href=https://colab.research.google.com/notebooks/data_table.ipynb>data table notebook</a>'\n",
              "          + ' to learn more about interactive tables.';\n",
              "        element.innerHTML = '';\n",
              "        dataTable['output_type'] = 'display_data';\n",
              "        await google.colab.output.renderOutput(dataTable, element);\n",
              "        const docLink = document.createElement('div');\n",
              "        docLink.innerHTML = docLinkHtml;\n",
              "        element.appendChild(docLink);\n",
              "      }\n",
              "    </script>\n",
              "  </div>\n",
              "\n",
              "\n",
              "<div id=\"df-89e0a680-f7a9-45be-b0fc-8c8a75291ad2\">\n",
              "  <button class=\"colab-df-quickchart\" onclick=\"quickchart('df-89e0a680-f7a9-45be-b0fc-8c8a75291ad2')\"\n",
              "            title=\"Suggest charts\"\n",
              "            style=\"display:none;\">\n",
              "\n",
              "<svg xmlns=\"http://www.w3.org/2000/svg\" height=\"24px\"viewBox=\"0 0 24 24\"\n",
              "     width=\"24px\">\n",
              "    <g>\n",
              "        <path d=\"M19 3H5c-1.1 0-2 .9-2 2v14c0 1.1.9 2 2 2h14c1.1 0 2-.9 2-2V5c0-1.1-.9-2-2-2zM9 17H7v-7h2v7zm4 0h-2V7h2v10zm4 0h-2v-4h2v4z\"/>\n",
              "    </g>\n",
              "</svg>\n",
              "  </button>\n",
              "\n",
              "<style>\n",
              "  .colab-df-quickchart {\n",
              "      --bg-color: #E8F0FE;\n",
              "      --fill-color: #1967D2;\n",
              "      --hover-bg-color: #E2EBFA;\n",
              "      --hover-fill-color: #174EA6;\n",
              "      --disabled-fill-color: #AAA;\n",
              "      --disabled-bg-color: #DDD;\n",
              "  }\n",
              "\n",
              "  [theme=dark] .colab-df-quickchart {\n",
              "      --bg-color: #3B4455;\n",
              "      --fill-color: #D2E3FC;\n",
              "      --hover-bg-color: #434B5C;\n",
              "      --hover-fill-color: #FFFFFF;\n",
              "      --disabled-bg-color: #3B4455;\n",
              "      --disabled-fill-color: #666;\n",
              "  }\n",
              "\n",
              "  .colab-df-quickchart {\n",
              "    background-color: var(--bg-color);\n",
              "    border: none;\n",
              "    border-radius: 50%;\n",
              "    cursor: pointer;\n",
              "    display: none;\n",
              "    fill: var(--fill-color);\n",
              "    height: 32px;\n",
              "    padding: 0;\n",
              "    width: 32px;\n",
              "  }\n",
              "\n",
              "  .colab-df-quickchart:hover {\n",
              "    background-color: var(--hover-bg-color);\n",
              "    box-shadow: 0 1px 2px rgba(60, 64, 67, 0.3), 0 1px 3px 1px rgba(60, 64, 67, 0.15);\n",
              "    fill: var(--button-hover-fill-color);\n",
              "  }\n",
              "\n",
              "  .colab-df-quickchart-complete:disabled,\n",
              "  .colab-df-quickchart-complete:disabled:hover {\n",
              "    background-color: var(--disabled-bg-color);\n",
              "    fill: var(--disabled-fill-color);\n",
              "    box-shadow: none;\n",
              "  }\n",
              "\n",
              "  .colab-df-spinner {\n",
              "    border: 2px solid var(--fill-color);\n",
              "    border-color: transparent;\n",
              "    border-bottom-color: var(--fill-color);\n",
              "    animation:\n",
              "      spin 1s steps(1) infinite;\n",
              "  }\n",
              "\n",
              "  @keyframes spin {\n",
              "    0% {\n",
              "      border-color: transparent;\n",
              "      border-bottom-color: var(--fill-color);\n",
              "      border-left-color: var(--fill-color);\n",
              "    }\n",
              "    20% {\n",
              "      border-color: transparent;\n",
              "      border-left-color: var(--fill-color);\n",
              "      border-top-color: var(--fill-color);\n",
              "    }\n",
              "    30% {\n",
              "      border-color: transparent;\n",
              "      border-left-color: var(--fill-color);\n",
              "      border-top-color: var(--fill-color);\n",
              "      border-right-color: var(--fill-color);\n",
              "    }\n",
              "    40% {\n",
              "      border-color: transparent;\n",
              "      border-right-color: var(--fill-color);\n",
              "      border-top-color: var(--fill-color);\n",
              "    }\n",
              "    60% {\n",
              "      border-color: transparent;\n",
              "      border-right-color: var(--fill-color);\n",
              "    }\n",
              "    80% {\n",
              "      border-color: transparent;\n",
              "      border-right-color: var(--fill-color);\n",
              "      border-bottom-color: var(--fill-color);\n",
              "    }\n",
              "    90% {\n",
              "      border-color: transparent;\n",
              "      border-bottom-color: var(--fill-color);\n",
              "    }\n",
              "  }\n",
              "</style>\n",
              "\n",
              "  <script>\n",
              "    async function quickchart(key) {\n",
              "      const quickchartButtonEl =\n",
              "        document.querySelector('#' + key + ' button');\n",
              "      quickchartButtonEl.disabled = true;  // To prevent multiple clicks.\n",
              "      quickchartButtonEl.classList.add('colab-df-spinner');\n",
              "      try {\n",
              "        const charts = await google.colab.kernel.invokeFunction(\n",
              "            'suggestCharts', [key], {});\n",
              "      } catch (error) {\n",
              "        console.error('Error during call to suggestCharts:', error);\n",
              "      }\n",
              "      quickchartButtonEl.classList.remove('colab-df-spinner');\n",
              "      quickchartButtonEl.classList.add('colab-df-quickchart-complete');\n",
              "    }\n",
              "    (() => {\n",
              "      let quickchartButtonEl =\n",
              "        document.querySelector('#df-89e0a680-f7a9-45be-b0fc-8c8a75291ad2 button');\n",
              "      quickchartButtonEl.style.display =\n",
              "        google.colab.kernel.accessAllowed ? 'block' : 'none';\n",
              "    })();\n",
              "  </script>\n",
              "</div>\n",
              "    </div>\n",
              "  </div>\n"
            ]
          },
          "metadata": {},
          "execution_count": 61
        }
      ]
    },
    {
      "cell_type": "code",
      "source": [
        "#one_hot_encoded _categorical_columns\n",
        "dfn = pd.get_dummies(df,columns=['Type_Income','Propert_Owner','Education','Marital_status'],drop_first=True)\n",
        "dfn\n",
        "\n",
        "\n"
      ],
      "metadata": {
        "colab": {
          "base_uri": "https://localhost:8080/",
          "height": 456
        },
        "id": "IpI6oW1TLnWN",
        "outputId": "51bb551d-cd92-4cb6-a24e-2e89e2807d48"
      },
      "execution_count": 62,
      "outputs": [
        {
          "output_type": "execute_result",
          "data": {
            "text/plain": [
              "      Children  Annual_income  Birthday_count  Family_Members   label  \\\n",
              "0            0       180000.0   -18772.000000               2  Reject   \n",
              "1            0       315000.0   -13557.000000               2  Reject   \n",
              "2            0       315000.0   -16040.342071               2  Reject   \n",
              "3            0       166500.0   -13557.000000               2  Reject   \n",
              "4            0       315000.0   -13557.000000               2  Reject   \n",
              "...        ...            ...             ...             ...     ...   \n",
              "1543         0       166500.0   -11957.000000               2  Accept   \n",
              "1544         0       225000.0   -10229.000000               1  Accept   \n",
              "1545         2       180000.0   -13174.000000               4  Accept   \n",
              "1546         0       270000.0   -15292.000000               2  Accept   \n",
              "1547         0       225000.0   -16601.000000               2  Accept   \n",
              "\n",
              "      Type_Income_Pensioner  Type_Income_State servant  Type_Income_Working  \\\n",
              "0                         1                          0                    0   \n",
              "1                         0                          0                    0   \n",
              "2                         0                          0                    0   \n",
              "3                         0                          0                    0   \n",
              "4                         0                          0                    0   \n",
              "...                     ...                        ...                  ...   \n",
              "1543                      0                          0                    0   \n",
              "1544                      0                          0                    0   \n",
              "1545                      0                          0                    1   \n",
              "1546                      0                          0                    1   \n",
              "1547                      0                          0                    1   \n",
              "\n",
              "      Propert_Owner_Y  Education_1.0  Education_2.0  Education_3.0  \\\n",
              "0                   1              0              0              1   \n",
              "1                   0              0              0              1   \n",
              "2                   0              0              0              1   \n",
              "3                   0              0              0              1   \n",
              "4                   0              0              0              1   \n",
              "...               ...            ...            ...            ...   \n",
              "1543                1              0              0              1   \n",
              "1544                0              0              1              0   \n",
              "1545                1              0              0              1   \n",
              "1546                0              1              0              0   \n",
              "1547                1              0              0              1   \n",
              "\n",
              "      Education_4.0  Marital_status_1.0  Marital_status_2.0  \\\n",
              "0                 0                   1                   0   \n",
              "1                 0                   1                   0   \n",
              "2                 0                   1                   0   \n",
              "3                 0                   1                   0   \n",
              "4                 0                   1                   0   \n",
              "...             ...                 ...                 ...   \n",
              "1543              0                   1                   0   \n",
              "1544              0                   0                   0   \n",
              "1545              0                   1                   0   \n",
              "1546              0                   0                   1   \n",
              "1547              0                   1                   0   \n",
              "\n",
              "      Marital_status_3.0  Marital_status_4.0  \n",
              "0                      0                   0  \n",
              "1                      0                   0  \n",
              "2                      0                   0  \n",
              "3                      0                   0  \n",
              "4                      0                   0  \n",
              "...                  ...                 ...  \n",
              "1543                   0                   0  \n",
              "1544                   0                   0  \n",
              "1545                   0                   0  \n",
              "1546                   0                   0  \n",
              "1547                   0                   0  \n",
              "\n",
              "[1548 rows x 17 columns]"
            ],
            "text/html": [
              "\n",
              "  <div id=\"df-0fe9f3dc-e144-4435-9148-caf9f05a64f7\" class=\"colab-df-container\">\n",
              "    <div>\n",
              "<style scoped>\n",
              "    .dataframe tbody tr th:only-of-type {\n",
              "        vertical-align: middle;\n",
              "    }\n",
              "\n",
              "    .dataframe tbody tr th {\n",
              "        vertical-align: top;\n",
              "    }\n",
              "\n",
              "    .dataframe thead th {\n",
              "        text-align: right;\n",
              "    }\n",
              "</style>\n",
              "<table border=\"1\" class=\"dataframe\">\n",
              "  <thead>\n",
              "    <tr style=\"text-align: right;\">\n",
              "      <th></th>\n",
              "      <th>Children</th>\n",
              "      <th>Annual_income</th>\n",
              "      <th>Birthday_count</th>\n",
              "      <th>Family_Members</th>\n",
              "      <th>label</th>\n",
              "      <th>Type_Income_Pensioner</th>\n",
              "      <th>Type_Income_State servant</th>\n",
              "      <th>Type_Income_Working</th>\n",
              "      <th>Propert_Owner_Y</th>\n",
              "      <th>Education_1.0</th>\n",
              "      <th>Education_2.0</th>\n",
              "      <th>Education_3.0</th>\n",
              "      <th>Education_4.0</th>\n",
              "      <th>Marital_status_1.0</th>\n",
              "      <th>Marital_status_2.0</th>\n",
              "      <th>Marital_status_3.0</th>\n",
              "      <th>Marital_status_4.0</th>\n",
              "    </tr>\n",
              "  </thead>\n",
              "  <tbody>\n",
              "    <tr>\n",
              "      <th>0</th>\n",
              "      <td>0</td>\n",
              "      <td>180000.0</td>\n",
              "      <td>-18772.000000</td>\n",
              "      <td>2</td>\n",
              "      <td>Reject</td>\n",
              "      <td>1</td>\n",
              "      <td>0</td>\n",
              "      <td>0</td>\n",
              "      <td>1</td>\n",
              "      <td>0</td>\n",
              "      <td>0</td>\n",
              "      <td>1</td>\n",
              "      <td>0</td>\n",
              "      <td>1</td>\n",
              "      <td>0</td>\n",
              "      <td>0</td>\n",
              "      <td>0</td>\n",
              "    </tr>\n",
              "    <tr>\n",
              "      <th>1</th>\n",
              "      <td>0</td>\n",
              "      <td>315000.0</td>\n",
              "      <td>-13557.000000</td>\n",
              "      <td>2</td>\n",
              "      <td>Reject</td>\n",
              "      <td>0</td>\n",
              "      <td>0</td>\n",
              "      <td>0</td>\n",
              "      <td>0</td>\n",
              "      <td>0</td>\n",
              "      <td>0</td>\n",
              "      <td>1</td>\n",
              "      <td>0</td>\n",
              "      <td>1</td>\n",
              "      <td>0</td>\n",
              "      <td>0</td>\n",
              "      <td>0</td>\n",
              "    </tr>\n",
              "    <tr>\n",
              "      <th>2</th>\n",
              "      <td>0</td>\n",
              "      <td>315000.0</td>\n",
              "      <td>-16040.342071</td>\n",
              "      <td>2</td>\n",
              "      <td>Reject</td>\n",
              "      <td>0</td>\n",
              "      <td>0</td>\n",
              "      <td>0</td>\n",
              "      <td>0</td>\n",
              "      <td>0</td>\n",
              "      <td>0</td>\n",
              "      <td>1</td>\n",
              "      <td>0</td>\n",
              "      <td>1</td>\n",
              "      <td>0</td>\n",
              "      <td>0</td>\n",
              "      <td>0</td>\n",
              "    </tr>\n",
              "    <tr>\n",
              "      <th>3</th>\n",
              "      <td>0</td>\n",
              "      <td>166500.0</td>\n",
              "      <td>-13557.000000</td>\n",
              "      <td>2</td>\n",
              "      <td>Reject</td>\n",
              "      <td>0</td>\n",
              "      <td>0</td>\n",
              "      <td>0</td>\n",
              "      <td>0</td>\n",
              "      <td>0</td>\n",
              "      <td>0</td>\n",
              "      <td>1</td>\n",
              "      <td>0</td>\n",
              "      <td>1</td>\n",
              "      <td>0</td>\n",
              "      <td>0</td>\n",
              "      <td>0</td>\n",
              "    </tr>\n",
              "    <tr>\n",
              "      <th>4</th>\n",
              "      <td>0</td>\n",
              "      <td>315000.0</td>\n",
              "      <td>-13557.000000</td>\n",
              "      <td>2</td>\n",
              "      <td>Reject</td>\n",
              "      <td>0</td>\n",
              "      <td>0</td>\n",
              "      <td>0</td>\n",
              "      <td>0</td>\n",
              "      <td>0</td>\n",
              "      <td>0</td>\n",
              "      <td>1</td>\n",
              "      <td>0</td>\n",
              "      <td>1</td>\n",
              "      <td>0</td>\n",
              "      <td>0</td>\n",
              "      <td>0</td>\n",
              "    </tr>\n",
              "    <tr>\n",
              "      <th>...</th>\n",
              "      <td>...</td>\n",
              "      <td>...</td>\n",
              "      <td>...</td>\n",
              "      <td>...</td>\n",
              "      <td>...</td>\n",
              "      <td>...</td>\n",
              "      <td>...</td>\n",
              "      <td>...</td>\n",
              "      <td>...</td>\n",
              "      <td>...</td>\n",
              "      <td>...</td>\n",
              "      <td>...</td>\n",
              "      <td>...</td>\n",
              "      <td>...</td>\n",
              "      <td>...</td>\n",
              "      <td>...</td>\n",
              "      <td>...</td>\n",
              "    </tr>\n",
              "    <tr>\n",
              "      <th>1543</th>\n",
              "      <td>0</td>\n",
              "      <td>166500.0</td>\n",
              "      <td>-11957.000000</td>\n",
              "      <td>2</td>\n",
              "      <td>Accept</td>\n",
              "      <td>0</td>\n",
              "      <td>0</td>\n",
              "      <td>0</td>\n",
              "      <td>1</td>\n",
              "      <td>0</td>\n",
              "      <td>0</td>\n",
              "      <td>1</td>\n",
              "      <td>0</td>\n",
              "      <td>1</td>\n",
              "      <td>0</td>\n",
              "      <td>0</td>\n",
              "      <td>0</td>\n",
              "    </tr>\n",
              "    <tr>\n",
              "      <th>1544</th>\n",
              "      <td>0</td>\n",
              "      <td>225000.0</td>\n",
              "      <td>-10229.000000</td>\n",
              "      <td>1</td>\n",
              "      <td>Accept</td>\n",
              "      <td>0</td>\n",
              "      <td>0</td>\n",
              "      <td>0</td>\n",
              "      <td>0</td>\n",
              "      <td>0</td>\n",
              "      <td>1</td>\n",
              "      <td>0</td>\n",
              "      <td>0</td>\n",
              "      <td>0</td>\n",
              "      <td>0</td>\n",
              "      <td>0</td>\n",
              "      <td>0</td>\n",
              "    </tr>\n",
              "    <tr>\n",
              "      <th>1545</th>\n",
              "      <td>2</td>\n",
              "      <td>180000.0</td>\n",
              "      <td>-13174.000000</td>\n",
              "      <td>4</td>\n",
              "      <td>Accept</td>\n",
              "      <td>0</td>\n",
              "      <td>0</td>\n",
              "      <td>1</td>\n",
              "      <td>1</td>\n",
              "      <td>0</td>\n",
              "      <td>0</td>\n",
              "      <td>1</td>\n",
              "      <td>0</td>\n",
              "      <td>1</td>\n",
              "      <td>0</td>\n",
              "      <td>0</td>\n",
              "      <td>0</td>\n",
              "    </tr>\n",
              "    <tr>\n",
              "      <th>1546</th>\n",
              "      <td>0</td>\n",
              "      <td>270000.0</td>\n",
              "      <td>-15292.000000</td>\n",
              "      <td>2</td>\n",
              "      <td>Accept</td>\n",
              "      <td>0</td>\n",
              "      <td>0</td>\n",
              "      <td>1</td>\n",
              "      <td>0</td>\n",
              "      <td>1</td>\n",
              "      <td>0</td>\n",
              "      <td>0</td>\n",
              "      <td>0</td>\n",
              "      <td>0</td>\n",
              "      <td>1</td>\n",
              "      <td>0</td>\n",
              "      <td>0</td>\n",
              "    </tr>\n",
              "    <tr>\n",
              "      <th>1547</th>\n",
              "      <td>0</td>\n",
              "      <td>225000.0</td>\n",
              "      <td>-16601.000000</td>\n",
              "      <td>2</td>\n",
              "      <td>Accept</td>\n",
              "      <td>0</td>\n",
              "      <td>0</td>\n",
              "      <td>1</td>\n",
              "      <td>1</td>\n",
              "      <td>0</td>\n",
              "      <td>0</td>\n",
              "      <td>1</td>\n",
              "      <td>0</td>\n",
              "      <td>1</td>\n",
              "      <td>0</td>\n",
              "      <td>0</td>\n",
              "      <td>0</td>\n",
              "    </tr>\n",
              "  </tbody>\n",
              "</table>\n",
              "<p>1548 rows × 17 columns</p>\n",
              "</div>\n",
              "    <div class=\"colab-df-buttons\">\n",
              "\n",
              "  <div class=\"colab-df-container\">\n",
              "    <button class=\"colab-df-convert\" onclick=\"convertToInteractive('df-0fe9f3dc-e144-4435-9148-caf9f05a64f7')\"\n",
              "            title=\"Convert this dataframe to an interactive table.\"\n",
              "            style=\"display:none;\">\n",
              "\n",
              "  <svg xmlns=\"http://www.w3.org/2000/svg\" height=\"24px\" viewBox=\"0 -960 960 960\">\n",
              "    <path d=\"M120-120v-720h720v720H120Zm60-500h600v-160H180v160Zm220 220h160v-160H400v160Zm0 220h160v-160H400v160ZM180-400h160v-160H180v160Zm440 0h160v-160H620v160ZM180-180h160v-160H180v160Zm440 0h160v-160H620v160Z\"/>\n",
              "  </svg>\n",
              "    </button>\n",
              "\n",
              "  <style>\n",
              "    .colab-df-container {\n",
              "      display:flex;\n",
              "      gap: 12px;\n",
              "    }\n",
              "\n",
              "    .colab-df-convert {\n",
              "      background-color: #E8F0FE;\n",
              "      border: none;\n",
              "      border-radius: 50%;\n",
              "      cursor: pointer;\n",
              "      display: none;\n",
              "      fill: #1967D2;\n",
              "      height: 32px;\n",
              "      padding: 0 0 0 0;\n",
              "      width: 32px;\n",
              "    }\n",
              "\n",
              "    .colab-df-convert:hover {\n",
              "      background-color: #E2EBFA;\n",
              "      box-shadow: 0px 1px 2px rgba(60, 64, 67, 0.3), 0px 1px 3px 1px rgba(60, 64, 67, 0.15);\n",
              "      fill: #174EA6;\n",
              "    }\n",
              "\n",
              "    .colab-df-buttons div {\n",
              "      margin-bottom: 4px;\n",
              "    }\n",
              "\n",
              "    [theme=dark] .colab-df-convert {\n",
              "      background-color: #3B4455;\n",
              "      fill: #D2E3FC;\n",
              "    }\n",
              "\n",
              "    [theme=dark] .colab-df-convert:hover {\n",
              "      background-color: #434B5C;\n",
              "      box-shadow: 0px 1px 3px 1px rgba(0, 0, 0, 0.15);\n",
              "      filter: drop-shadow(0px 1px 2px rgba(0, 0, 0, 0.3));\n",
              "      fill: #FFFFFF;\n",
              "    }\n",
              "  </style>\n",
              "\n",
              "    <script>\n",
              "      const buttonEl =\n",
              "        document.querySelector('#df-0fe9f3dc-e144-4435-9148-caf9f05a64f7 button.colab-df-convert');\n",
              "      buttonEl.style.display =\n",
              "        google.colab.kernel.accessAllowed ? 'block' : 'none';\n",
              "\n",
              "      async function convertToInteractive(key) {\n",
              "        const element = document.querySelector('#df-0fe9f3dc-e144-4435-9148-caf9f05a64f7');\n",
              "        const dataTable =\n",
              "          await google.colab.kernel.invokeFunction('convertToInteractive',\n",
              "                                                    [key], {});\n",
              "        if (!dataTable) return;\n",
              "\n",
              "        const docLinkHtml = 'Like what you see? Visit the ' +\n",
              "          '<a target=\"_blank\" href=https://colab.research.google.com/notebooks/data_table.ipynb>data table notebook</a>'\n",
              "          + ' to learn more about interactive tables.';\n",
              "        element.innerHTML = '';\n",
              "        dataTable['output_type'] = 'display_data';\n",
              "        await google.colab.output.renderOutput(dataTable, element);\n",
              "        const docLink = document.createElement('div');\n",
              "        docLink.innerHTML = docLinkHtml;\n",
              "        element.appendChild(docLink);\n",
              "      }\n",
              "    </script>\n",
              "  </div>\n",
              "\n",
              "\n",
              "<div id=\"df-22b454de-aea9-477d-875d-e92b653bfe83\">\n",
              "  <button class=\"colab-df-quickchart\" onclick=\"quickchart('df-22b454de-aea9-477d-875d-e92b653bfe83')\"\n",
              "            title=\"Suggest charts\"\n",
              "            style=\"display:none;\">\n",
              "\n",
              "<svg xmlns=\"http://www.w3.org/2000/svg\" height=\"24px\"viewBox=\"0 0 24 24\"\n",
              "     width=\"24px\">\n",
              "    <g>\n",
              "        <path d=\"M19 3H5c-1.1 0-2 .9-2 2v14c0 1.1.9 2 2 2h14c1.1 0 2-.9 2-2V5c0-1.1-.9-2-2-2zM9 17H7v-7h2v7zm4 0h-2V7h2v10zm4 0h-2v-4h2v4z\"/>\n",
              "    </g>\n",
              "</svg>\n",
              "  </button>\n",
              "\n",
              "<style>\n",
              "  .colab-df-quickchart {\n",
              "      --bg-color: #E8F0FE;\n",
              "      --fill-color: #1967D2;\n",
              "      --hover-bg-color: #E2EBFA;\n",
              "      --hover-fill-color: #174EA6;\n",
              "      --disabled-fill-color: #AAA;\n",
              "      --disabled-bg-color: #DDD;\n",
              "  }\n",
              "\n",
              "  [theme=dark] .colab-df-quickchart {\n",
              "      --bg-color: #3B4455;\n",
              "      --fill-color: #D2E3FC;\n",
              "      --hover-bg-color: #434B5C;\n",
              "      --hover-fill-color: #FFFFFF;\n",
              "      --disabled-bg-color: #3B4455;\n",
              "      --disabled-fill-color: #666;\n",
              "  }\n",
              "\n",
              "  .colab-df-quickchart {\n",
              "    background-color: var(--bg-color);\n",
              "    border: none;\n",
              "    border-radius: 50%;\n",
              "    cursor: pointer;\n",
              "    display: none;\n",
              "    fill: var(--fill-color);\n",
              "    height: 32px;\n",
              "    padding: 0;\n",
              "    width: 32px;\n",
              "  }\n",
              "\n",
              "  .colab-df-quickchart:hover {\n",
              "    background-color: var(--hover-bg-color);\n",
              "    box-shadow: 0 1px 2px rgba(60, 64, 67, 0.3), 0 1px 3px 1px rgba(60, 64, 67, 0.15);\n",
              "    fill: var(--button-hover-fill-color);\n",
              "  }\n",
              "\n",
              "  .colab-df-quickchart-complete:disabled,\n",
              "  .colab-df-quickchart-complete:disabled:hover {\n",
              "    background-color: var(--disabled-bg-color);\n",
              "    fill: var(--disabled-fill-color);\n",
              "    box-shadow: none;\n",
              "  }\n",
              "\n",
              "  .colab-df-spinner {\n",
              "    border: 2px solid var(--fill-color);\n",
              "    border-color: transparent;\n",
              "    border-bottom-color: var(--fill-color);\n",
              "    animation:\n",
              "      spin 1s steps(1) infinite;\n",
              "  }\n",
              "\n",
              "  @keyframes spin {\n",
              "    0% {\n",
              "      border-color: transparent;\n",
              "      border-bottom-color: var(--fill-color);\n",
              "      border-left-color: var(--fill-color);\n",
              "    }\n",
              "    20% {\n",
              "      border-color: transparent;\n",
              "      border-left-color: var(--fill-color);\n",
              "      border-top-color: var(--fill-color);\n",
              "    }\n",
              "    30% {\n",
              "      border-color: transparent;\n",
              "      border-left-color: var(--fill-color);\n",
              "      border-top-color: var(--fill-color);\n",
              "      border-right-color: var(--fill-color);\n",
              "    }\n",
              "    40% {\n",
              "      border-color: transparent;\n",
              "      border-right-color: var(--fill-color);\n",
              "      border-top-color: var(--fill-color);\n",
              "    }\n",
              "    60% {\n",
              "      border-color: transparent;\n",
              "      border-right-color: var(--fill-color);\n",
              "    }\n",
              "    80% {\n",
              "      border-color: transparent;\n",
              "      border-right-color: var(--fill-color);\n",
              "      border-bottom-color: var(--fill-color);\n",
              "    }\n",
              "    90% {\n",
              "      border-color: transparent;\n",
              "      border-bottom-color: var(--fill-color);\n",
              "    }\n",
              "  }\n",
              "</style>\n",
              "\n",
              "  <script>\n",
              "    async function quickchart(key) {\n",
              "      const quickchartButtonEl =\n",
              "        document.querySelector('#' + key + ' button');\n",
              "      quickchartButtonEl.disabled = true;  // To prevent multiple clicks.\n",
              "      quickchartButtonEl.classList.add('colab-df-spinner');\n",
              "      try {\n",
              "        const charts = await google.colab.kernel.invokeFunction(\n",
              "            'suggestCharts', [key], {});\n",
              "      } catch (error) {\n",
              "        console.error('Error during call to suggestCharts:', error);\n",
              "      }\n",
              "      quickchartButtonEl.classList.remove('colab-df-spinner');\n",
              "      quickchartButtonEl.classList.add('colab-df-quickchart-complete');\n",
              "    }\n",
              "    (() => {\n",
              "      let quickchartButtonEl =\n",
              "        document.querySelector('#df-22b454de-aea9-477d-875d-e92b653bfe83 button');\n",
              "      quickchartButtonEl.style.display =\n",
              "        google.colab.kernel.accessAllowed ? 'block' : 'none';\n",
              "    })();\n",
              "  </script>\n",
              "</div>\n",
              "    </div>\n",
              "  </div>\n"
            ]
          },
          "metadata": {},
          "execution_count": 62
        }
      ]
    },
    {
      "cell_type": "code",
      "source": [
        "dfn['Annual_income']=dfn['Annual_income'].clip(lower=-33750.0, upper=360250.0) #replacing outliers\n",
        "\n",
        "fig= px.box(dfn, y=\"Annual_income\")\n",
        "fig.show()"
      ],
      "metadata": {
        "colab": {
          "base_uri": "https://localhost:8080/",
          "height": 542
        },
        "id": "zwlchNdLLpvl",
        "outputId": "55322590-b237-42ab-ae2d-83e3f567f86c"
      },
      "execution_count": 63,
      "outputs": [
        {
          "output_type": "display_data",
          "data": {
            "text/html": [
              "<html>\n",
              "<head><meta charset=\"utf-8\" /></head>\n",
              "<body>\n",
              "    <div>            <script src=\"https://cdnjs.cloudflare.com/ajax/libs/mathjax/2.7.5/MathJax.js?config=TeX-AMS-MML_SVG\"></script><script type=\"text/javascript\">if (window.MathJax && window.MathJax.Hub && window.MathJax.Hub.Config) {window.MathJax.Hub.Config({SVG: {font: \"STIX-Web\"}});}</script>                <script type=\"text/javascript\">window.PlotlyConfig = {MathJaxConfig: 'local'};</script>\n",
              "        <script charset=\"utf-8\" src=\"https://cdn.plot.ly/plotly-2.24.1.min.js\"></script>                <div id=\"8ec4a0a2-09c2-4015-9847-133d018d8f9b\" class=\"plotly-graph-div\" style=\"height:525px; width:100%;\"></div>            <script type=\"text/javascript\">                                    window.PLOTLYENV=window.PLOTLYENV || {};                                    if (document.getElementById(\"8ec4a0a2-09c2-4015-9847-133d018d8f9b\")) {                    Plotly.newPlot(                        \"8ec4a0a2-09c2-4015-9847-133d018d8f9b\",                        [{\"alignmentgroup\":\"True\",\"hovertemplate\":\"Annual_income=%{y}\\u003cextra\\u003e\\u003c\\u002fextra\\u003e\",\"legendgroup\":\"\",\"marker\":{\"color\":\"#636efa\"},\"name\":\"\",\"notched\":false,\"offsetgroup\":\"\",\"orientation\":\"v\",\"showlegend\":false,\"x0\":\" \",\"xaxis\":\"x\",\"y\":[180000.0,315000.0,315000.0,166500.0,315000.0,315000.0,315000.0,180000.0,360250.0,360250.0,360250.0,90000.0,166500.0,90000.0,360250.0,270000.0,270000.0,126000.0,126000.0,90000.0,202500.0,202500.0,157500.0,112500.0,180000.0,360250.0,112500.0,166500.0,292500.0,360250.0,90000.0,112500.0,135000.0,135000.0,180000.0,112500.0,292500.0,76500.0,215100.0,360250.0,270000.0,225000.0,225000.0,225000.0,157500.0,157500.0,67500.0,180000.0,180000.0,157500.0,157500.0,171000.0,135000.0,135000.0,103500.0,103500.0,225000.0,225000.0,225000.0,180000.0,157500.0,157500.0,180000.0,180000.0,99000.0,166500.0,99000.0,99000.0,360250.0,360250.0,360250.0,65250.0,72900.0,225000.0,67500.0,180000.0,166500.0,202500.0,157500.0,202500.0,270000.0,135000.0,360000.0,256500.0,256500.0,157500.0,225000.0,180000.0,180000.0,202500.0,202500.0,202500.0,315000.0,225000.0,126000.0,360250.0,135000.0,135000.0,247500.0,103500.0,85500.0,135000.0,135000.0,180000.0,121500.0,180000.0,225000.0,166500.0,135000.0,225000.0,67500.0,135000.0,130500.0,130500.0,202500.0,202500.0,202500.0,202500.0,202500.0,126000.0,126000.0,180000.0,180000.0,180000.0,180000.0,166500.0,211500.0,157500.0,81000.0,81000.0,112500.0,112500.0,112500.0,112500.0,112500.0,72000.0,202500.0,148500.0,135000.0,135000.0,270000.0,135000.0,135000.0,162000.0,112500.0,112500.0,112500.0,135000.0,135000.0,195750.0,360250.0,360250.0,166500.0,360250.0,360250.0,112500.0,112500.0,67500.0,67500.0,67500.0,216000.0,306000.0,90000.0,225000.0,108000.0,135000.0,135000.0,108000.0,108000.0,360250.0,360250.0,360250.0,315000.0,157500.0,157500.0,81000.0,225000.0,180000.0,135000.0,135000.0,63000.0,135000.0,112500.0,112500.0,45000.0,166500.0,202500.0,180000.0,360250.0,256500.0,90000.0,180000.0,90000.0,135000.0,126000.0,126000.0,337500.0,90000.0,131400.0,180000.0,247500.0,121500.0,117000.0,90000.0,360250.0,157500.0,112500.0,180000.0,157500.0,117000.0,234000.0,360250.0,247500.0,144000.0,180000.0,166500.0,216000.0,90000.0,171000.0,180000.0,225000.0,225000.0,270000.0,67050.0,270000.0,73350.0,112500.0,144000.0,225000.0,112500.0,292500.0,135000.0,157500.0,360250.0,157500.0,157500.0,135000.0,112500.0,202500.0,193500.0,225000.0,108000.0,360250.0,292500.0,270000.0,270000.0,292500.0,292500.0,157500.0,76500.0,157500.0,180000.0,135000.0,112500.0,360000.0,157500.0,225000.0,112500.0,121500.0,202500.0,112500.0,135000.0,103500.0,157500.0,337500.0,180000.0,112500.0,157500.0,360000.0,135000.0,337500.0,135000.0,360000.0,166500.0,360250.0,270000.0,270000.0,270000.0,360250.0,157500.0,112500.0,292500.0,112500.0,247500.0,157500.0,225000.0,94500.0,81000.0,180000.0,198000.0,180000.0,315000.0,67500.0,180000.0,202500.0,112500.0,306000.0,90000.0,270000.0,270000.0,234000.0,171000.0,225000.0,94500.0,117000.0,180000.0,202500.0,54000.0,112500.0,85500.0,135000.0,166500.0,157500.0,247500.0,180000.0,72000.0,202500.0,180000.0,270000.0,202500.0,360000.0,270000.0,270000.0,112500.0,166500.0,157500.0,202500.0,99000.0,162000.0,225000.0,225000.0,72000.0,135000.0,315000.0,167400.0,180000.0,135000.0,99000.0,225000.0,153000.0,360250.0,90000.0,360000.0,247500.0,225000.0,67500.0,112500.0,157500.0,90000.0,90000.0,225000.0,112500.0,112500.0,315000.0,135000.0,360250.0,90000.0,270000.0,180000.0,135000.0,243000.0,225000.0,112500.0,234000.0,180000.0,121500.0,121500.0,270000.0,180000.0,90000.0,135000.0,247500.0,76500.0,85500.0,202500.0,157500.0,225000.0,225000.0,360250.0,283500.0,90000.0,166500.0,252000.0,135000.0,315000.0,360250.0,180000.0,270000.0,360250.0,180000.0,306000.0,157500.0,180000.0,360250.0,36000.0,112500.0,292500.0,180000.0,202500.0,292500.0,315000.0,135000.0,337500.0,157500.0,360000.0,135000.0,270000.0,157500.0,157500.0,139500.0,135000.0,133650.0,360250.0,81000.0,225000.0,126000.0,135000.0,94500.0,180000.0,157500.0,252000.0,202500.0,117000.0,247500.0,180000.0,180000.0,180000.0,157500.0,135000.0,166500.0,202500.0,90000.0,247500.0,99000.0,247500.0,202500.0,90000.0,121500.0,157500.0,121500.0,135000.0,180000.0,144000.0,126000.0,225000.0,157500.0,157500.0,270000.0,261000.0,135000.0,202500.0,157500.0,103500.0,135000.0,135000.0,112500.0,231750.0,202500.0,247500.0,135000.0,135000.0,112500.0,117000.0,112500.0,135000.0,103500.0,315000.0,180000.0,247500.0,135000.0,157500.0,315000.0,247500.0,157500.0,166500.0,247500.0,166500.0,112500.0,90900.0,112500.0,45900.0,126000.0,103500.0,119250.0,202500.0,157500.0,112500.0,315000.0,270000.0,162000.0,270000.0,112500.0,58500.0,94500.0,270000.0,270000.0,99000.0,315000.0,157500.0,180000.0,211500.0,202500.0,180000.0,144000.0,144000.0,270000.0,148500.0,157500.0,90000.0,148500.0,99000.0,315000.0,162000.0,202500.0,225000.0,360250.0,292500.0,67500.0,157500.0,135000.0,67500.0,144000.0,90000.0,112500.0,112500.0,135000.0,360000.0,112500.0,225000.0,112500.0,202500.0,202500.0,225000.0,112500.0,202500.0,328500.0,112500.0,202500.0,135000.0,157500.0,270000.0,157500.0,193500.0,103500.0,90000.0,198000.0,202500.0,225000.0,72000.0,202500.0,247500.0,157500.0,225000.0,112500.0,360250.0,180000.0,108000.0,360250.0,202500.0,157500.0,90000.0,166500.0,225000.0,90000.0,72000.0,225000.0,157500.0,360000.0,360250.0,216000.0,157500.0,315000.0,315000.0,360250.0,135000.0,180000.0,157500.0,234000.0,99000.0,225000.0,292500.0,198000.0,90000.0,247500.0,112500.0,157500.0,112500.0,360250.0,180000.0,225000.0,225000.0,135000.0,112500.0,112500.0,180000.0,112500.0,117000.0,135000.0,270000.0,135000.0,157500.0,243000.0,121500.0,135000.0,225000.0,225000.0,112500.0,157500.0,202500.0,337500.0,103500.0,99000.0,67500.0,112500.0,270000.0,315000.0,135000.0,180000.0,225000.0,85500.0,135000.0,119700.0,360250.0,112500.0,153000.0,216000.0,202500.0,90000.0,108000.0,270000.0,76500.0,69372.0,135000.0,117000.0,202500.0,126000.0,135000.0,180000.0,225000.0,81000.0,157500.0,90000.0,225000.0,157500.0,103500.0,202500.0,37800.0,135000.0,157500.0,180000.0,135000.0,225000.0,157500.0,360250.0,225000.0,225000.0,126000.0,135000.0,202500.0,225000.0,157500.0,202500.0,247500.0,225000.0,112500.0,112500.0,135000.0,207000.0,270000.0,315000.0,315000.0,112500.0,121500.0,225000.0,225000.0,157500.0,225000.0,135000.0,225000.0,270000.0,202500.0,135000.0,112500.0,157500.0,360250.0,202500.0,360250.0,135000.0,337500.0,94500.0,90000.0,157500.0,270000.0,112500.0,135000.0,270000.0,112500.0,225000.0,54000.0,189000.0,135000.0,157500.0,121500.0,180000.0,121500.0,225000.0,180000.0,315000.0,112500.0,90000.0,90000.0,45000.0,180000.0,112500.0,135000.0,360000.0,135000.0,99000.0,270000.0,157500.0,166500.0,180000.0,315000.0,112500.0,108000.0,180000.0,225000.0,90000.0,292500.0,157500.0,135000.0,315000.0,225000.0,333000.0,171000.0,130500.0,112500.0,202500.0,126000.0,225000.0,135000.0,112500.0,105750.0,135000.0,180000.0,360000.0,157500.0,90000.0,112500.0,180000.0,225000.0,67500.0,270000.0,202500.0,144000.0,207000.0,180000.0,202500.0,202500.0,180000.0,126000.0,157500.0,225000.0,202500.0,103500.0,90000.0,135000.0,67500.0,135000.0,360250.0,270000.0,202500.0,292500.0,225000.0,135000.0,76500.0,180000.0,360250.0,90000.0,157500.0,306000.0,90000.0,135000.0,193500.0,180000.0,270000.0,112500.0,202500.0,180000.0,139500.0,135000.0,202500.0,112500.0,126000.0,193500.0,112500.0,337500.0,157500.0,193500.0,180000.0,315000.0,180000.0,90000.0,180000.0,112500.0,157500.0,135000.0,315000.0,112500.0,135000.0,99000.0,360250.0,270000.0,112500.0,180000.0,141750.0,180000.0,112500.0,225000.0,270000.0,202500.0,135000.0,292500.0,202500.0,99000.0,202500.0,306000.0,148500.0,135000.0,180000.0,180000.0,157500.0,247500.0,112500.0,180000.0,103500.0,198000.0,135000.0,67500.0,202500.0,315000.0,292500.0,148500.0,202500.0,180000.0,90000.0,135000.0,135000.0,261000.0,135000.0,112500.0,135000.0,135000.0,360000.0,171000.0,40500.0,130500.0,306000.0,202500.0,112500.0,112500.0,90000.0,153000.0,135000.0,180000.0,112500.0,90000.0,157500.0,247500.0,112500.0,67500.0,360000.0,360000.0,315000.0,157500.0,135000.0,166500.0,180000.0,225000.0,135000.0,135000.0,193500.0,247500.0,315000.0,360250.0,360250.0,90000.0,270000.0,243000.0,180000.0,112500.0,337500.0,135000.0,117000.0,202500.0,270000.0,202500.0,135000.0,216000.0,135000.0,225000.0,81000.0,180000.0,292500.0,225000.0,157500.0,157500.0,166500.0,360250.0,180000.0,45000.0,315000.0,360250.0,180000.0,90000.0,166500.0,148500.0,135000.0,144000.0,135000.0,360000.0,90000.0,157500.0,135000.0,292500.0,112500.0,216000.0,126000.0,135000.0,189000.0,337500.0,44550.0,112500.0,157500.0,112500.0,135000.0,135000.0,301500.0,112500.0,90000.0,67500.0,292500.0,315000.0,117000.0,157500.0,67500.0,189000.0,202500.0,157500.0,225000.0,112500.0,202500.0,180000.0,225000.0,157500.0,180000.0,112500.0,81000.0,90000.0,180000.0,94500.0,180000.0,360250.0,315000.0,54000.0,112500.0,157500.0,180000.0,225000.0,360000.0,112500.0,292500.0,360000.0,225000.0,126000.0,135000.0,270000.0,157500.0,216000.0,337500.0,225000.0,108000.0,225000.0,180000.0,180000.0,135000.0,180000.0,112500.0,270000.0,270000.0,270000.0,135000.0,351000.0,202500.0,189000.0,270000.0,144000.0,67500.0,247500.0,157500.0,157500.0,157500.0,180000.0,315000.0,99000.0,351000.0,175500.0,306000.0,157500.0,58500.0,292500.0,166500.0,225000.0,247500.0,189000.0,247500.0,90000.0,148500.0,180000.0,180000.0,121900.5,112500.0,180000.0,225000.0,360250.0,225000.0,135000.0,157500.0,238500.0,261000.0,180000.0,225000.0,135000.0,112500.0,180000.0,171000.0,135000.0,202500.0,33750.0,135000.0,135000.0,157500.0,67500.0,135000.0,153000.0,180000.0,180000.0,121500.0,112500.0,270000.0,360000.0,116100.0,225000.0,360250.0,225000.0,360250.0,112500.0,157500.0,202500.0,297000.0,315000.0,202500.0,180000.0,202500.0,360000.0,112500.0,121500.0,112500.0,360250.0,112500.0,135000.0,261000.0,121500.0,202500.0,94500.0,225000.0,360250.0,202500.0,360000.0,157500.0,247500.0,81000.0,360000.0,315000.0,126000.0,225000.0,135000.0,225000.0,112500.0,40500.0,157500.0,67500.0,315000.0,270000.0,180000.0,157500.0,252000.0,270000.0,157500.0,270000.0,162000.0,315000.0,202500.0,180000.0,112500.0,135000.0,225000.0,157500.0,112500.0,202500.0,162000.0,360250.0,157500.0,270000.0,90000.0,67500.0,225000.0,135000.0,135000.0,157500.0,180000.0,360250.0,225000.0,135000.0,360000.0,135000.0,112500.0,225000.0,180000.0,202500.0,315000.0,315000.0,112500.0,83250.0,261000.0,247500.0,360000.0,135000.0,225000.0,270000.0,112500.0,112500.0,225000.0,173250.0,148500.0,315000.0,135000.0,157500.0,76500.0,225000.0,157500.0,216000.0,90000.0,211500.0,202500.0,112500.0,112500.0,166500.0,72000.0,135000.0,157500.0,67500.0,135000.0,207000.0,148500.0,112500.0,112500.0,202500.0,67500.0,67500.0,306000.0,90000.0,360000.0,112500.0,270000.0,360250.0,67500.0,180000.0,270000.0,315000.0,247500.0,72000.0,81000.0,171000.0,135000.0,135000.0,202500.0,292500.0,360000.0,315000.0,360250.0,225000.0,198000.0,202500.0,90000.0,166500.0,73350.0,135000.0,103500.0,202500.0,76500.0,225000.0,126000.0,211500.0,157500.0,112500.0,225000.0,135000.0,360250.0,135000.0,112500.0,247500.0,270000.0,225000.0,90000.0,135000.0,67500.0,135000.0,193500.0,135000.0,202500.0,135000.0,180000.0,112500.0,247500.0,360000.0,193500.0,67500.0,306000.0,153000.0,171000.0,112500.0,360000.0,157500.0,112500.0,292500.0,315000.0,135000.0,180000.0,180000.0,292500.0,135000.0,225000.0,225000.0,135000.0,292500.0,180000.0,274500.0,225000.0,180000.0,225000.0,360000.0,126000.0,180000.0,54000.0,76500.0,247500.0,112500.0,81000.0,135000.0,135000.0,99000.0,67500.0,166500.0,202500.0,58500.0,135000.0,135000.0,180000.0,112500.0,144000.0,112500.0,135000.0,81000.0,193500.0,144000.0,292500.0,157500.0,315000.0,135000.0,202500.0,180000.0,112500.0,112500.0,270000.0,76500.0,292500.0,360250.0,193500.0,180000.0,115200.0,56250.0,180000.0,157500.0,202500.0,135000.0,202500.0,157500.0,225000.0,166500.0,202500.0,85500.0,157500.0,270000.0,157500.0,360000.0,90000.0,90000.0,135000.0,112500.0,225000.0,225000.0,202500.0,202500.0,225000.0,108000.0,225000.0,180000.0,135000.0,112500.0,90000.0,90000.0,103500.0,72000.0,135000.0,360250.0,135000.0,360000.0,135000.0,225000.0,135000.0,81000.0,90000.0,360250.0,360000.0,225000.0,202500.0,202500.0,95850.0,112500.0,126000.0,99000.0,112500.0,180000.0,225000.0,225000.0,202500.0,180000.0,135000.0,315000.0,360250.0,45000.0,185400.0,76500.0,225000.0,360250.0,126000.0,135000.0,90000.0,157500.0,180000.0,112500.0,270000.0,135000.0,103500.0,130500.0,90000.0,112500.0,157500.0,202500.0,67500.0,189000.0,180000.0,135000.0,135000.0,166500.0,90000.0,337500.0,90000.0,157500.0,112500.0,180000.0,112500.0,135000.0,135000.0,135000.0,166500.0,126000.0,247500.0,184500.0,165600.0,315000.0,112500.0,112500.0,202500.0,72000.0,202500.0,360250.0,112500.0,157500.0,112500.0,270000.0,270000.0,247500.0,360000.0,189000.0,157500.0,360250.0,157500.0,130500.0,135000.0,90000.0,67500.0,135000.0,247500.0,157500.0,135000.0,126000.0,180000.0,112500.0,247500.0,112500.0,315000.0,67500.0,337500.0,337500.0,112500.0,157500.0,292500.0,135000.0,360250.0,180000.0,135000.0,180000.0,202500.0,180000.0,112500.0,135000.0,81000.0,135000.0,270000.0,247500.0,202500.0,225000.0,157500.0,216000.0,202500.0,135000.0,247500.0,180000.0,67500.0,130500.0,99000.0,112500.0,247500.0,180000.0,225000.0,360250.0,247500.0,171000.0,180000.0,337500.0,315000.0,247500.0,180000.0,83250.0,202500.0,360250.0,135000.0,225000.0,157500.0,270000.0,216000.0,114750.0,99000.0,47250.0,49500.0,135000.0,225000.0,360250.0,225000.0,90000.0,180000.0,103500.0,135000.0,225000.0,112500.0,270000.0,270000.0,202500.0,180000.0,180000.0,108000.0,225000.0,157500.0,360250.0,225000.0,216000.0,135000.0,112500.0,135000.0,157500.0,45000.0,157500.0,198000.0,234000.0,157500.0,207000.0,198000.0,157500.0,180000.0,216000.0,112500.0,94500.0,69750.0,103500.0,157500.0,112500.0,67500.0,112500.0,157500.0,270000.0,135000.0,112500.0,126000.0,175500.0,148500.0,126000.0,180000.0,225000.0,126000.0,157500.0,157500.0,270000.0,180000.0,144000.0,112500.0,225000.0,360250.0,180000.0,144000.0,225000.0,360000.0,166500.0,225000.0,180000.0,270000.0,225000.0],\"y0\":\" \",\"yaxis\":\"y\",\"type\":\"box\"}],                        {\"template\":{\"data\":{\"histogram2dcontour\":[{\"type\":\"histogram2dcontour\",\"colorbar\":{\"outlinewidth\":0,\"ticks\":\"\"},\"colorscale\":[[0.0,\"#0d0887\"],[0.1111111111111111,\"#46039f\"],[0.2222222222222222,\"#7201a8\"],[0.3333333333333333,\"#9c179e\"],[0.4444444444444444,\"#bd3786\"],[0.5555555555555556,\"#d8576b\"],[0.6666666666666666,\"#ed7953\"],[0.7777777777777778,\"#fb9f3a\"],[0.8888888888888888,\"#fdca26\"],[1.0,\"#f0f921\"]]}],\"choropleth\":[{\"type\":\"choropleth\",\"colorbar\":{\"outlinewidth\":0,\"ticks\":\"\"}}],\"histogram2d\":[{\"type\":\"histogram2d\",\"colorbar\":{\"outlinewidth\":0,\"ticks\":\"\"},\"colorscale\":[[0.0,\"#0d0887\"],[0.1111111111111111,\"#46039f\"],[0.2222222222222222,\"#7201a8\"],[0.3333333333333333,\"#9c179e\"],[0.4444444444444444,\"#bd3786\"],[0.5555555555555556,\"#d8576b\"],[0.6666666666666666,\"#ed7953\"],[0.7777777777777778,\"#fb9f3a\"],[0.8888888888888888,\"#fdca26\"],[1.0,\"#f0f921\"]]}],\"heatmap\":[{\"type\":\"heatmap\",\"colorbar\":{\"outlinewidth\":0,\"ticks\":\"\"},\"colorscale\":[[0.0,\"#0d0887\"],[0.1111111111111111,\"#46039f\"],[0.2222222222222222,\"#7201a8\"],[0.3333333333333333,\"#9c179e\"],[0.4444444444444444,\"#bd3786\"],[0.5555555555555556,\"#d8576b\"],[0.6666666666666666,\"#ed7953\"],[0.7777777777777778,\"#fb9f3a\"],[0.8888888888888888,\"#fdca26\"],[1.0,\"#f0f921\"]]}],\"heatmapgl\":[{\"type\":\"heatmapgl\",\"colorbar\":{\"outlinewidth\":0,\"ticks\":\"\"},\"colorscale\":[[0.0,\"#0d0887\"],[0.1111111111111111,\"#46039f\"],[0.2222222222222222,\"#7201a8\"],[0.3333333333333333,\"#9c179e\"],[0.4444444444444444,\"#bd3786\"],[0.5555555555555556,\"#d8576b\"],[0.6666666666666666,\"#ed7953\"],[0.7777777777777778,\"#fb9f3a\"],[0.8888888888888888,\"#fdca26\"],[1.0,\"#f0f921\"]]}],\"contourcarpet\":[{\"type\":\"contourcarpet\",\"colorbar\":{\"outlinewidth\":0,\"ticks\":\"\"}}],\"contour\":[{\"type\":\"contour\",\"colorbar\":{\"outlinewidth\":0,\"ticks\":\"\"},\"colorscale\":[[0.0,\"#0d0887\"],[0.1111111111111111,\"#46039f\"],[0.2222222222222222,\"#7201a8\"],[0.3333333333333333,\"#9c179e\"],[0.4444444444444444,\"#bd3786\"],[0.5555555555555556,\"#d8576b\"],[0.6666666666666666,\"#ed7953\"],[0.7777777777777778,\"#fb9f3a\"],[0.8888888888888888,\"#fdca26\"],[1.0,\"#f0f921\"]]}],\"surface\":[{\"type\":\"surface\",\"colorbar\":{\"outlinewidth\":0,\"ticks\":\"\"},\"colorscale\":[[0.0,\"#0d0887\"],[0.1111111111111111,\"#46039f\"],[0.2222222222222222,\"#7201a8\"],[0.3333333333333333,\"#9c179e\"],[0.4444444444444444,\"#bd3786\"],[0.5555555555555556,\"#d8576b\"],[0.6666666666666666,\"#ed7953\"],[0.7777777777777778,\"#fb9f3a\"],[0.8888888888888888,\"#fdca26\"],[1.0,\"#f0f921\"]]}],\"mesh3d\":[{\"type\":\"mesh3d\",\"colorbar\":{\"outlinewidth\":0,\"ticks\":\"\"}}],\"scatter\":[{\"fillpattern\":{\"fillmode\":\"overlay\",\"size\":10,\"solidity\":0.2},\"type\":\"scatter\"}],\"parcoords\":[{\"type\":\"parcoords\",\"line\":{\"colorbar\":{\"outlinewidth\":0,\"ticks\":\"\"}}}],\"scatterpolargl\":[{\"type\":\"scatterpolargl\",\"marker\":{\"colorbar\":{\"outlinewidth\":0,\"ticks\":\"\"}}}],\"bar\":[{\"error_x\":{\"color\":\"#2a3f5f\"},\"error_y\":{\"color\":\"#2a3f5f\"},\"marker\":{\"line\":{\"color\":\"#E5ECF6\",\"width\":0.5},\"pattern\":{\"fillmode\":\"overlay\",\"size\":10,\"solidity\":0.2}},\"type\":\"bar\"}],\"scattergeo\":[{\"type\":\"scattergeo\",\"marker\":{\"colorbar\":{\"outlinewidth\":0,\"ticks\":\"\"}}}],\"scatterpolar\":[{\"type\":\"scatterpolar\",\"marker\":{\"colorbar\":{\"outlinewidth\":0,\"ticks\":\"\"}}}],\"histogram\":[{\"marker\":{\"pattern\":{\"fillmode\":\"overlay\",\"size\":10,\"solidity\":0.2}},\"type\":\"histogram\"}],\"scattergl\":[{\"type\":\"scattergl\",\"marker\":{\"colorbar\":{\"outlinewidth\":0,\"ticks\":\"\"}}}],\"scatter3d\":[{\"type\":\"scatter3d\",\"line\":{\"colorbar\":{\"outlinewidth\":0,\"ticks\":\"\"}},\"marker\":{\"colorbar\":{\"outlinewidth\":0,\"ticks\":\"\"}}}],\"scattermapbox\":[{\"type\":\"scattermapbox\",\"marker\":{\"colorbar\":{\"outlinewidth\":0,\"ticks\":\"\"}}}],\"scatterternary\":[{\"type\":\"scatterternary\",\"marker\":{\"colorbar\":{\"outlinewidth\":0,\"ticks\":\"\"}}}],\"scattercarpet\":[{\"type\":\"scattercarpet\",\"marker\":{\"colorbar\":{\"outlinewidth\":0,\"ticks\":\"\"}}}],\"carpet\":[{\"aaxis\":{\"endlinecolor\":\"#2a3f5f\",\"gridcolor\":\"white\",\"linecolor\":\"white\",\"minorgridcolor\":\"white\",\"startlinecolor\":\"#2a3f5f\"},\"baxis\":{\"endlinecolor\":\"#2a3f5f\",\"gridcolor\":\"white\",\"linecolor\":\"white\",\"minorgridcolor\":\"white\",\"startlinecolor\":\"#2a3f5f\"},\"type\":\"carpet\"}],\"table\":[{\"cells\":{\"fill\":{\"color\":\"#EBF0F8\"},\"line\":{\"color\":\"white\"}},\"header\":{\"fill\":{\"color\":\"#C8D4E3\"},\"line\":{\"color\":\"white\"}},\"type\":\"table\"}],\"barpolar\":[{\"marker\":{\"line\":{\"color\":\"#E5ECF6\",\"width\":0.5},\"pattern\":{\"fillmode\":\"overlay\",\"size\":10,\"solidity\":0.2}},\"type\":\"barpolar\"}],\"pie\":[{\"automargin\":true,\"type\":\"pie\"}]},\"layout\":{\"autotypenumbers\":\"strict\",\"colorway\":[\"#636efa\",\"#EF553B\",\"#00cc96\",\"#ab63fa\",\"#FFA15A\",\"#19d3f3\",\"#FF6692\",\"#B6E880\",\"#FF97FF\",\"#FECB52\"],\"font\":{\"color\":\"#2a3f5f\"},\"hovermode\":\"closest\",\"hoverlabel\":{\"align\":\"left\"},\"paper_bgcolor\":\"white\",\"plot_bgcolor\":\"#E5ECF6\",\"polar\":{\"bgcolor\":\"#E5ECF6\",\"angularaxis\":{\"gridcolor\":\"white\",\"linecolor\":\"white\",\"ticks\":\"\"},\"radialaxis\":{\"gridcolor\":\"white\",\"linecolor\":\"white\",\"ticks\":\"\"}},\"ternary\":{\"bgcolor\":\"#E5ECF6\",\"aaxis\":{\"gridcolor\":\"white\",\"linecolor\":\"white\",\"ticks\":\"\"},\"baxis\":{\"gridcolor\":\"white\",\"linecolor\":\"white\",\"ticks\":\"\"},\"caxis\":{\"gridcolor\":\"white\",\"linecolor\":\"white\",\"ticks\":\"\"}},\"coloraxis\":{\"colorbar\":{\"outlinewidth\":0,\"ticks\":\"\"}},\"colorscale\":{\"sequential\":[[0.0,\"#0d0887\"],[0.1111111111111111,\"#46039f\"],[0.2222222222222222,\"#7201a8\"],[0.3333333333333333,\"#9c179e\"],[0.4444444444444444,\"#bd3786\"],[0.5555555555555556,\"#d8576b\"],[0.6666666666666666,\"#ed7953\"],[0.7777777777777778,\"#fb9f3a\"],[0.8888888888888888,\"#fdca26\"],[1.0,\"#f0f921\"]],\"sequentialminus\":[[0.0,\"#0d0887\"],[0.1111111111111111,\"#46039f\"],[0.2222222222222222,\"#7201a8\"],[0.3333333333333333,\"#9c179e\"],[0.4444444444444444,\"#bd3786\"],[0.5555555555555556,\"#d8576b\"],[0.6666666666666666,\"#ed7953\"],[0.7777777777777778,\"#fb9f3a\"],[0.8888888888888888,\"#fdca26\"],[1.0,\"#f0f921\"]],\"diverging\":[[0,\"#8e0152\"],[0.1,\"#c51b7d\"],[0.2,\"#de77ae\"],[0.3,\"#f1b6da\"],[0.4,\"#fde0ef\"],[0.5,\"#f7f7f7\"],[0.6,\"#e6f5d0\"],[0.7,\"#b8e186\"],[0.8,\"#7fbc41\"],[0.9,\"#4d9221\"],[1,\"#276419\"]]},\"xaxis\":{\"gridcolor\":\"white\",\"linecolor\":\"white\",\"ticks\":\"\",\"title\":{\"standoff\":15},\"zerolinecolor\":\"white\",\"automargin\":true,\"zerolinewidth\":2},\"yaxis\":{\"gridcolor\":\"white\",\"linecolor\":\"white\",\"ticks\":\"\",\"title\":{\"standoff\":15},\"zerolinecolor\":\"white\",\"automargin\":true,\"zerolinewidth\":2},\"scene\":{\"xaxis\":{\"backgroundcolor\":\"#E5ECF6\",\"gridcolor\":\"white\",\"linecolor\":\"white\",\"showbackground\":true,\"ticks\":\"\",\"zerolinecolor\":\"white\",\"gridwidth\":2},\"yaxis\":{\"backgroundcolor\":\"#E5ECF6\",\"gridcolor\":\"white\",\"linecolor\":\"white\",\"showbackground\":true,\"ticks\":\"\",\"zerolinecolor\":\"white\",\"gridwidth\":2},\"zaxis\":{\"backgroundcolor\":\"#E5ECF6\",\"gridcolor\":\"white\",\"linecolor\":\"white\",\"showbackground\":true,\"ticks\":\"\",\"zerolinecolor\":\"white\",\"gridwidth\":2}},\"shapedefaults\":{\"line\":{\"color\":\"#2a3f5f\"}},\"annotationdefaults\":{\"arrowcolor\":\"#2a3f5f\",\"arrowhead\":0,\"arrowwidth\":1},\"geo\":{\"bgcolor\":\"white\",\"landcolor\":\"#E5ECF6\",\"subunitcolor\":\"white\",\"showland\":true,\"showlakes\":true,\"lakecolor\":\"white\"},\"title\":{\"x\":0.05},\"mapbox\":{\"style\":\"light\"}}},\"xaxis\":{\"anchor\":\"y\",\"domain\":[0.0,1.0]},\"yaxis\":{\"anchor\":\"x\",\"domain\":[0.0,1.0],\"title\":{\"text\":\"Annual_income\"}},\"legend\":{\"tracegroupgap\":0},\"margin\":{\"t\":60},\"boxmode\":\"group\"},                        {\"responsive\": true}                    ).then(function(){\n",
              "                            \n",
              "var gd = document.getElementById('8ec4a0a2-09c2-4015-9847-133d018d8f9b');\n",
              "var x = new MutationObserver(function (mutations, observer) {{\n",
              "        var display = window.getComputedStyle(gd).display;\n",
              "        if (!display || display === 'none') {{\n",
              "            console.log([gd, 'removed!']);\n",
              "            Plotly.purge(gd);\n",
              "            observer.disconnect();\n",
              "        }}\n",
              "}});\n",
              "\n",
              "// Listen for the removal of the full notebook cells\n",
              "var notebookContainer = gd.closest('#notebook-container');\n",
              "if (notebookContainer) {{\n",
              "    x.observe(notebookContainer, {childList: true});\n",
              "}}\n",
              "\n",
              "// Listen for the clearing of the current output cell\n",
              "var outputEl = gd.closest('.output');\n",
              "if (outputEl) {{\n",
              "    x.observe(outputEl, {childList: true});\n",
              "}}\n",
              "\n",
              "                        })                };                            </script>        </div>\n",
              "</body>\n",
              "</html>"
            ]
          },
          "metadata": {}
        }
      ]
    },
    {
      "cell_type": "code",
      "source": [
        "dfn['Annual_income'].skew()#checkig the skewness"
      ],
      "metadata": {
        "colab": {
          "base_uri": "https://localhost:8080/"
        },
        "id": "scZRXBApLpys",
        "outputId": "532ca22f-1a17-48d9-b92c-a3789bde16e1"
      },
      "execution_count": 64,
      "outputs": [
        {
          "output_type": "execute_result",
          "data": {
            "text/plain": [
              "0.7077766379642701"
            ]
          },
          "metadata": {},
          "execution_count": 64
        }
      ]
    },
    {
      "cell_type": "code",
      "source": [
        "##convertinhg to positive values\n",
        "\n",
        "dfn['Birthday_count']=dfn['Birthday_count'].abs()\n",
        "\n"
      ],
      "metadata": {
        "id": "aj30CAo0LSs8"
      },
      "execution_count": 65,
      "outputs": []
    },
    {
      "cell_type": "code",
      "source": [
        "dfn['Family_Members1']=dfn['Family_Members']**(0.6/8)##root_transformation to handle skewness\n",
        "dfn['Family_Members1'].skew()\n",
        "dfn = dfn.drop('Family_Members', axis=1)"
      ],
      "metadata": {
        "id": "kBtOllYCtoj7"
      },
      "execution_count": 66,
      "outputs": []
    },
    {
      "cell_type": "code",
      "source": [
        "dfn.info()"
      ],
      "metadata": {
        "colab": {
          "base_uri": "https://localhost:8080/"
        },
        "id": "00uaWhxIbcCZ",
        "outputId": "59fc3a2e-6dd0-49ae-957d-1639ea0adb2e"
      },
      "execution_count": 67,
      "outputs": [
        {
          "output_type": "stream",
          "name": "stdout",
          "text": [
            "<class 'pandas.core.frame.DataFrame'>\n",
            "Int64Index: 1548 entries, 0 to 1547\n",
            "Data columns (total 17 columns):\n",
            " #   Column                     Non-Null Count  Dtype  \n",
            "---  ------                     --------------  -----  \n",
            " 0   Children                   1548 non-null   int64  \n",
            " 1   Annual_income              1548 non-null   float64\n",
            " 2   Birthday_count             1548 non-null   float64\n",
            " 3   label                      1548 non-null   object \n",
            " 4   Type_Income_Pensioner      1548 non-null   uint8  \n",
            " 5   Type_Income_State servant  1548 non-null   uint8  \n",
            " 6   Type_Income_Working        1548 non-null   uint8  \n",
            " 7   Propert_Owner_Y            1548 non-null   uint8  \n",
            " 8   Education_1.0              1548 non-null   uint8  \n",
            " 9   Education_2.0              1548 non-null   uint8  \n",
            " 10  Education_3.0              1548 non-null   uint8  \n",
            " 11  Education_4.0              1548 non-null   uint8  \n",
            " 12  Marital_status_1.0         1548 non-null   uint8  \n",
            " 13  Marital_status_2.0         1548 non-null   uint8  \n",
            " 14  Marital_status_3.0         1548 non-null   uint8  \n",
            " 15  Marital_status_4.0         1548 non-null   uint8  \n",
            " 16  Family_Members1            1548 non-null   float64\n",
            "dtypes: float64(3), int64(1), object(1), uint8(12)\n",
            "memory usage: 90.7+ KB\n"
          ]
        }
      ]
    },
    {
      "cell_type": "markdown",
      "source": [],
      "metadata": {
        "id": "dVp9-8VZauKM"
      }
    },
    {
      "cell_type": "code",
      "source": [
        "##feature scaling\n",
        "\n",
        "from sklearn.preprocessing import StandardScaler\n",
        "\n",
        "sc=StandardScaler()\n",
        "\n",
        "dfn['Ainsc']= sc.fit_transform(dfn[['Annual_income']])\n",
        "dfn['Birthday_count']=sc.fit_transform(dfn[['Birthday_count']])\n",
        "dfn = dfn.drop('Annual_income', axis=1)\n"
      ],
      "metadata": {
        "id": "GfmZqjs1ASPp"
      },
      "execution_count": 68,
      "outputs": []
    },
    {
      "cell_type": "code",
      "source": [
        "dfn.info()"
      ],
      "metadata": {
        "colab": {
          "base_uri": "https://localhost:8080/"
        },
        "id": "lWZCRrTV95Co",
        "outputId": "05e60183-6a0b-452c-a90d-4407a4f82945"
      },
      "execution_count": 69,
      "outputs": [
        {
          "output_type": "stream",
          "name": "stdout",
          "text": [
            "<class 'pandas.core.frame.DataFrame'>\n",
            "Int64Index: 1548 entries, 0 to 1547\n",
            "Data columns (total 17 columns):\n",
            " #   Column                     Non-Null Count  Dtype  \n",
            "---  ------                     --------------  -----  \n",
            " 0   Children                   1548 non-null   int64  \n",
            " 1   Birthday_count             1548 non-null   float64\n",
            " 2   label                      1548 non-null   object \n",
            " 3   Type_Income_Pensioner      1548 non-null   uint8  \n",
            " 4   Type_Income_State servant  1548 non-null   uint8  \n",
            " 5   Type_Income_Working        1548 non-null   uint8  \n",
            " 6   Propert_Owner_Y            1548 non-null   uint8  \n",
            " 7   Education_1.0              1548 non-null   uint8  \n",
            " 8   Education_2.0              1548 non-null   uint8  \n",
            " 9   Education_3.0              1548 non-null   uint8  \n",
            " 10  Education_4.0              1548 non-null   uint8  \n",
            " 11  Marital_status_1.0         1548 non-null   uint8  \n",
            " 12  Marital_status_2.0         1548 non-null   uint8  \n",
            " 13  Marital_status_3.0         1548 non-null   uint8  \n",
            " 14  Marital_status_4.0         1548 non-null   uint8  \n",
            " 15  Family_Members1            1548 non-null   float64\n",
            " 16  Ainsc                      1548 non-null   float64\n",
            "dtypes: float64(3), int64(1), object(1), uint8(12)\n",
            "memory usage: 90.7+ KB\n"
          ]
        }
      ]
    },
    {
      "cell_type": "code",
      "source": [
        "dfn"
      ],
      "metadata": {
        "colab": {
          "base_uri": "https://localhost:8080/",
          "height": 456
        },
        "id": "ut9qVO5qIjJR",
        "outputId": "1ae52e1b-f2c3-4c94-eb13-d7525a75ed38"
      },
      "execution_count": 70,
      "outputs": [
        {
          "output_type": "execute_result",
          "data": {
            "text/plain": [
              "      Children  Birthday_count   label  Type_Income_Pensioner  \\\n",
              "0            0        0.650710  Reject                      1   \n",
              "1            0       -0.591559  Reject                      0   \n",
              "2            0        0.000000  Reject                      0   \n",
              "3            0       -0.591559  Reject                      0   \n",
              "4            0       -0.591559  Reject                      0   \n",
              "...        ...             ...     ...                    ...   \n",
              "1543         0       -0.972696  Accept                      0   \n",
              "1544         0       -1.384324  Accept                      0   \n",
              "1545         2       -0.682793  Accept                      0   \n",
              "1546         0       -0.178263  Accept                      0   \n",
              "1547         0        0.133555  Accept                      0   \n",
              "\n",
              "      Type_Income_State servant  Type_Income_Working  Propert_Owner_Y  \\\n",
              "0                             0                    0                1   \n",
              "1                             0                    0                0   \n",
              "2                             0                    0                0   \n",
              "3                             0                    0                0   \n",
              "4                             0                    0                0   \n",
              "...                         ...                  ...              ...   \n",
              "1543                          0                    0                1   \n",
              "1544                          0                    0                0   \n",
              "1545                          0                    1                1   \n",
              "1546                          0                    1                0   \n",
              "1547                          0                    1                1   \n",
              "\n",
              "      Education_1.0  Education_2.0  Education_3.0  Education_4.0  \\\n",
              "0                 0              0              1              0   \n",
              "1                 0              0              1              0   \n",
              "2                 0              0              1              0   \n",
              "3                 0              0              1              0   \n",
              "4                 0              0              1              0   \n",
              "...             ...            ...            ...            ...   \n",
              "1543              0              0              1              0   \n",
              "1544              0              1              0              0   \n",
              "1545              0              0              1              0   \n",
              "1546              1              0              0              0   \n",
              "1547              0              0              1              0   \n",
              "\n",
              "      Marital_status_1.0  Marital_status_2.0  Marital_status_3.0  \\\n",
              "0                      1                   0                   0   \n",
              "1                      1                   0                   0   \n",
              "2                      1                   0                   0   \n",
              "3                      1                   0                   0   \n",
              "4                      1                   0                   0   \n",
              "...                  ...                 ...                 ...   \n",
              "1543                   1                   0                   0   \n",
              "1544                   0                   0                   0   \n",
              "1545                   1                   0                   0   \n",
              "1546                   0                   1                   0   \n",
              "1547                   1                   0                   0   \n",
              "\n",
              "      Marital_status_4.0  Family_Members1     Ainsc  \n",
              "0                      0         1.053361 -0.040270  \n",
              "1                      0         1.053361  1.645816  \n",
              "2                      0         1.053361  1.645816  \n",
              "3                      0         1.053361 -0.208879  \n",
              "4                      0         1.053361  1.645816  \n",
              "...                  ...              ...       ...  \n",
              "1543                   0         1.053361 -0.208879  \n",
              "1544                   0         1.000000  0.521759  \n",
              "1545                   0         1.109569 -0.040270  \n",
              "1546                   0         1.053361  1.083787  \n",
              "1547                   0         1.053361  0.521759  \n",
              "\n",
              "[1548 rows x 17 columns]"
            ],
            "text/html": [
              "\n",
              "  <div id=\"df-431aa5fa-2cbc-468c-b55b-3c4bcaf57866\" class=\"colab-df-container\">\n",
              "    <div>\n",
              "<style scoped>\n",
              "    .dataframe tbody tr th:only-of-type {\n",
              "        vertical-align: middle;\n",
              "    }\n",
              "\n",
              "    .dataframe tbody tr th {\n",
              "        vertical-align: top;\n",
              "    }\n",
              "\n",
              "    .dataframe thead th {\n",
              "        text-align: right;\n",
              "    }\n",
              "</style>\n",
              "<table border=\"1\" class=\"dataframe\">\n",
              "  <thead>\n",
              "    <tr style=\"text-align: right;\">\n",
              "      <th></th>\n",
              "      <th>Children</th>\n",
              "      <th>Birthday_count</th>\n",
              "      <th>label</th>\n",
              "      <th>Type_Income_Pensioner</th>\n",
              "      <th>Type_Income_State servant</th>\n",
              "      <th>Type_Income_Working</th>\n",
              "      <th>Propert_Owner_Y</th>\n",
              "      <th>Education_1.0</th>\n",
              "      <th>Education_2.0</th>\n",
              "      <th>Education_3.0</th>\n",
              "      <th>Education_4.0</th>\n",
              "      <th>Marital_status_1.0</th>\n",
              "      <th>Marital_status_2.0</th>\n",
              "      <th>Marital_status_3.0</th>\n",
              "      <th>Marital_status_4.0</th>\n",
              "      <th>Family_Members1</th>\n",
              "      <th>Ainsc</th>\n",
              "    </tr>\n",
              "  </thead>\n",
              "  <tbody>\n",
              "    <tr>\n",
              "      <th>0</th>\n",
              "      <td>0</td>\n",
              "      <td>0.650710</td>\n",
              "      <td>Reject</td>\n",
              "      <td>1</td>\n",
              "      <td>0</td>\n",
              "      <td>0</td>\n",
              "      <td>1</td>\n",
              "      <td>0</td>\n",
              "      <td>0</td>\n",
              "      <td>1</td>\n",
              "      <td>0</td>\n",
              "      <td>1</td>\n",
              "      <td>0</td>\n",
              "      <td>0</td>\n",
              "      <td>0</td>\n",
              "      <td>1.053361</td>\n",
              "      <td>-0.040270</td>\n",
              "    </tr>\n",
              "    <tr>\n",
              "      <th>1</th>\n",
              "      <td>0</td>\n",
              "      <td>-0.591559</td>\n",
              "      <td>Reject</td>\n",
              "      <td>0</td>\n",
              "      <td>0</td>\n",
              "      <td>0</td>\n",
              "      <td>0</td>\n",
              "      <td>0</td>\n",
              "      <td>0</td>\n",
              "      <td>1</td>\n",
              "      <td>0</td>\n",
              "      <td>1</td>\n",
              "      <td>0</td>\n",
              "      <td>0</td>\n",
              "      <td>0</td>\n",
              "      <td>1.053361</td>\n",
              "      <td>1.645816</td>\n",
              "    </tr>\n",
              "    <tr>\n",
              "      <th>2</th>\n",
              "      <td>0</td>\n",
              "      <td>0.000000</td>\n",
              "      <td>Reject</td>\n",
              "      <td>0</td>\n",
              "      <td>0</td>\n",
              "      <td>0</td>\n",
              "      <td>0</td>\n",
              "      <td>0</td>\n",
              "      <td>0</td>\n",
              "      <td>1</td>\n",
              "      <td>0</td>\n",
              "      <td>1</td>\n",
              "      <td>0</td>\n",
              "      <td>0</td>\n",
              "      <td>0</td>\n",
              "      <td>1.053361</td>\n",
              "      <td>1.645816</td>\n",
              "    </tr>\n",
              "    <tr>\n",
              "      <th>3</th>\n",
              "      <td>0</td>\n",
              "      <td>-0.591559</td>\n",
              "      <td>Reject</td>\n",
              "      <td>0</td>\n",
              "      <td>0</td>\n",
              "      <td>0</td>\n",
              "      <td>0</td>\n",
              "      <td>0</td>\n",
              "      <td>0</td>\n",
              "      <td>1</td>\n",
              "      <td>0</td>\n",
              "      <td>1</td>\n",
              "      <td>0</td>\n",
              "      <td>0</td>\n",
              "      <td>0</td>\n",
              "      <td>1.053361</td>\n",
              "      <td>-0.208879</td>\n",
              "    </tr>\n",
              "    <tr>\n",
              "      <th>4</th>\n",
              "      <td>0</td>\n",
              "      <td>-0.591559</td>\n",
              "      <td>Reject</td>\n",
              "      <td>0</td>\n",
              "      <td>0</td>\n",
              "      <td>0</td>\n",
              "      <td>0</td>\n",
              "      <td>0</td>\n",
              "      <td>0</td>\n",
              "      <td>1</td>\n",
              "      <td>0</td>\n",
              "      <td>1</td>\n",
              "      <td>0</td>\n",
              "      <td>0</td>\n",
              "      <td>0</td>\n",
              "      <td>1.053361</td>\n",
              "      <td>1.645816</td>\n",
              "    </tr>\n",
              "    <tr>\n",
              "      <th>...</th>\n",
              "      <td>...</td>\n",
              "      <td>...</td>\n",
              "      <td>...</td>\n",
              "      <td>...</td>\n",
              "      <td>...</td>\n",
              "      <td>...</td>\n",
              "      <td>...</td>\n",
              "      <td>...</td>\n",
              "      <td>...</td>\n",
              "      <td>...</td>\n",
              "      <td>...</td>\n",
              "      <td>...</td>\n",
              "      <td>...</td>\n",
              "      <td>...</td>\n",
              "      <td>...</td>\n",
              "      <td>...</td>\n",
              "      <td>...</td>\n",
              "    </tr>\n",
              "    <tr>\n",
              "      <th>1543</th>\n",
              "      <td>0</td>\n",
              "      <td>-0.972696</td>\n",
              "      <td>Accept</td>\n",
              "      <td>0</td>\n",
              "      <td>0</td>\n",
              "      <td>0</td>\n",
              "      <td>1</td>\n",
              "      <td>0</td>\n",
              "      <td>0</td>\n",
              "      <td>1</td>\n",
              "      <td>0</td>\n",
              "      <td>1</td>\n",
              "      <td>0</td>\n",
              "      <td>0</td>\n",
              "      <td>0</td>\n",
              "      <td>1.053361</td>\n",
              "      <td>-0.208879</td>\n",
              "    </tr>\n",
              "    <tr>\n",
              "      <th>1544</th>\n",
              "      <td>0</td>\n",
              "      <td>-1.384324</td>\n",
              "      <td>Accept</td>\n",
              "      <td>0</td>\n",
              "      <td>0</td>\n",
              "      <td>0</td>\n",
              "      <td>0</td>\n",
              "      <td>0</td>\n",
              "      <td>1</td>\n",
              "      <td>0</td>\n",
              "      <td>0</td>\n",
              "      <td>0</td>\n",
              "      <td>0</td>\n",
              "      <td>0</td>\n",
              "      <td>0</td>\n",
              "      <td>1.000000</td>\n",
              "      <td>0.521759</td>\n",
              "    </tr>\n",
              "    <tr>\n",
              "      <th>1545</th>\n",
              "      <td>2</td>\n",
              "      <td>-0.682793</td>\n",
              "      <td>Accept</td>\n",
              "      <td>0</td>\n",
              "      <td>0</td>\n",
              "      <td>1</td>\n",
              "      <td>1</td>\n",
              "      <td>0</td>\n",
              "      <td>0</td>\n",
              "      <td>1</td>\n",
              "      <td>0</td>\n",
              "      <td>1</td>\n",
              "      <td>0</td>\n",
              "      <td>0</td>\n",
              "      <td>0</td>\n",
              "      <td>1.109569</td>\n",
              "      <td>-0.040270</td>\n",
              "    </tr>\n",
              "    <tr>\n",
              "      <th>1546</th>\n",
              "      <td>0</td>\n",
              "      <td>-0.178263</td>\n",
              "      <td>Accept</td>\n",
              "      <td>0</td>\n",
              "      <td>0</td>\n",
              "      <td>1</td>\n",
              "      <td>0</td>\n",
              "      <td>1</td>\n",
              "      <td>0</td>\n",
              "      <td>0</td>\n",
              "      <td>0</td>\n",
              "      <td>0</td>\n",
              "      <td>1</td>\n",
              "      <td>0</td>\n",
              "      <td>0</td>\n",
              "      <td>1.053361</td>\n",
              "      <td>1.083787</td>\n",
              "    </tr>\n",
              "    <tr>\n",
              "      <th>1547</th>\n",
              "      <td>0</td>\n",
              "      <td>0.133555</td>\n",
              "      <td>Accept</td>\n",
              "      <td>0</td>\n",
              "      <td>0</td>\n",
              "      <td>1</td>\n",
              "      <td>1</td>\n",
              "      <td>0</td>\n",
              "      <td>0</td>\n",
              "      <td>1</td>\n",
              "      <td>0</td>\n",
              "      <td>1</td>\n",
              "      <td>0</td>\n",
              "      <td>0</td>\n",
              "      <td>0</td>\n",
              "      <td>1.053361</td>\n",
              "      <td>0.521759</td>\n",
              "    </tr>\n",
              "  </tbody>\n",
              "</table>\n",
              "<p>1548 rows × 17 columns</p>\n",
              "</div>\n",
              "    <div class=\"colab-df-buttons\">\n",
              "\n",
              "  <div class=\"colab-df-container\">\n",
              "    <button class=\"colab-df-convert\" onclick=\"convertToInteractive('df-431aa5fa-2cbc-468c-b55b-3c4bcaf57866')\"\n",
              "            title=\"Convert this dataframe to an interactive table.\"\n",
              "            style=\"display:none;\">\n",
              "\n",
              "  <svg xmlns=\"http://www.w3.org/2000/svg\" height=\"24px\" viewBox=\"0 -960 960 960\">\n",
              "    <path d=\"M120-120v-720h720v720H120Zm60-500h600v-160H180v160Zm220 220h160v-160H400v160Zm0 220h160v-160H400v160ZM180-400h160v-160H180v160Zm440 0h160v-160H620v160ZM180-180h160v-160H180v160Zm440 0h160v-160H620v160Z\"/>\n",
              "  </svg>\n",
              "    </button>\n",
              "\n",
              "  <style>\n",
              "    .colab-df-container {\n",
              "      display:flex;\n",
              "      gap: 12px;\n",
              "    }\n",
              "\n",
              "    .colab-df-convert {\n",
              "      background-color: #E8F0FE;\n",
              "      border: none;\n",
              "      border-radius: 50%;\n",
              "      cursor: pointer;\n",
              "      display: none;\n",
              "      fill: #1967D2;\n",
              "      height: 32px;\n",
              "      padding: 0 0 0 0;\n",
              "      width: 32px;\n",
              "    }\n",
              "\n",
              "    .colab-df-convert:hover {\n",
              "      background-color: #E2EBFA;\n",
              "      box-shadow: 0px 1px 2px rgba(60, 64, 67, 0.3), 0px 1px 3px 1px rgba(60, 64, 67, 0.15);\n",
              "      fill: #174EA6;\n",
              "    }\n",
              "\n",
              "    .colab-df-buttons div {\n",
              "      margin-bottom: 4px;\n",
              "    }\n",
              "\n",
              "    [theme=dark] .colab-df-convert {\n",
              "      background-color: #3B4455;\n",
              "      fill: #D2E3FC;\n",
              "    }\n",
              "\n",
              "    [theme=dark] .colab-df-convert:hover {\n",
              "      background-color: #434B5C;\n",
              "      box-shadow: 0px 1px 3px 1px rgba(0, 0, 0, 0.15);\n",
              "      filter: drop-shadow(0px 1px 2px rgba(0, 0, 0, 0.3));\n",
              "      fill: #FFFFFF;\n",
              "    }\n",
              "  </style>\n",
              "\n",
              "    <script>\n",
              "      const buttonEl =\n",
              "        document.querySelector('#df-431aa5fa-2cbc-468c-b55b-3c4bcaf57866 button.colab-df-convert');\n",
              "      buttonEl.style.display =\n",
              "        google.colab.kernel.accessAllowed ? 'block' : 'none';\n",
              "\n",
              "      async function convertToInteractive(key) {\n",
              "        const element = document.querySelector('#df-431aa5fa-2cbc-468c-b55b-3c4bcaf57866');\n",
              "        const dataTable =\n",
              "          await google.colab.kernel.invokeFunction('convertToInteractive',\n",
              "                                                    [key], {});\n",
              "        if (!dataTable) return;\n",
              "\n",
              "        const docLinkHtml = 'Like what you see? Visit the ' +\n",
              "          '<a target=\"_blank\" href=https://colab.research.google.com/notebooks/data_table.ipynb>data table notebook</a>'\n",
              "          + ' to learn more about interactive tables.';\n",
              "        element.innerHTML = '';\n",
              "        dataTable['output_type'] = 'display_data';\n",
              "        await google.colab.output.renderOutput(dataTable, element);\n",
              "        const docLink = document.createElement('div');\n",
              "        docLink.innerHTML = docLinkHtml;\n",
              "        element.appendChild(docLink);\n",
              "      }\n",
              "    </script>\n",
              "  </div>\n",
              "\n",
              "\n",
              "<div id=\"df-97d01b94-b13a-439e-9266-8243f740a560\">\n",
              "  <button class=\"colab-df-quickchart\" onclick=\"quickchart('df-97d01b94-b13a-439e-9266-8243f740a560')\"\n",
              "            title=\"Suggest charts\"\n",
              "            style=\"display:none;\">\n",
              "\n",
              "<svg xmlns=\"http://www.w3.org/2000/svg\" height=\"24px\"viewBox=\"0 0 24 24\"\n",
              "     width=\"24px\">\n",
              "    <g>\n",
              "        <path d=\"M19 3H5c-1.1 0-2 .9-2 2v14c0 1.1.9 2 2 2h14c1.1 0 2-.9 2-2V5c0-1.1-.9-2-2-2zM9 17H7v-7h2v7zm4 0h-2V7h2v10zm4 0h-2v-4h2v4z\"/>\n",
              "    </g>\n",
              "</svg>\n",
              "  </button>\n",
              "\n",
              "<style>\n",
              "  .colab-df-quickchart {\n",
              "      --bg-color: #E8F0FE;\n",
              "      --fill-color: #1967D2;\n",
              "      --hover-bg-color: #E2EBFA;\n",
              "      --hover-fill-color: #174EA6;\n",
              "      --disabled-fill-color: #AAA;\n",
              "      --disabled-bg-color: #DDD;\n",
              "  }\n",
              "\n",
              "  [theme=dark] .colab-df-quickchart {\n",
              "      --bg-color: #3B4455;\n",
              "      --fill-color: #D2E3FC;\n",
              "      --hover-bg-color: #434B5C;\n",
              "      --hover-fill-color: #FFFFFF;\n",
              "      --disabled-bg-color: #3B4455;\n",
              "      --disabled-fill-color: #666;\n",
              "  }\n",
              "\n",
              "  .colab-df-quickchart {\n",
              "    background-color: var(--bg-color);\n",
              "    border: none;\n",
              "    border-radius: 50%;\n",
              "    cursor: pointer;\n",
              "    display: none;\n",
              "    fill: var(--fill-color);\n",
              "    height: 32px;\n",
              "    padding: 0;\n",
              "    width: 32px;\n",
              "  }\n",
              "\n",
              "  .colab-df-quickchart:hover {\n",
              "    background-color: var(--hover-bg-color);\n",
              "    box-shadow: 0 1px 2px rgba(60, 64, 67, 0.3), 0 1px 3px 1px rgba(60, 64, 67, 0.15);\n",
              "    fill: var(--button-hover-fill-color);\n",
              "  }\n",
              "\n",
              "  .colab-df-quickchart-complete:disabled,\n",
              "  .colab-df-quickchart-complete:disabled:hover {\n",
              "    background-color: var(--disabled-bg-color);\n",
              "    fill: var(--disabled-fill-color);\n",
              "    box-shadow: none;\n",
              "  }\n",
              "\n",
              "  .colab-df-spinner {\n",
              "    border: 2px solid var(--fill-color);\n",
              "    border-color: transparent;\n",
              "    border-bottom-color: var(--fill-color);\n",
              "    animation:\n",
              "      spin 1s steps(1) infinite;\n",
              "  }\n",
              "\n",
              "  @keyframes spin {\n",
              "    0% {\n",
              "      border-color: transparent;\n",
              "      border-bottom-color: var(--fill-color);\n",
              "      border-left-color: var(--fill-color);\n",
              "    }\n",
              "    20% {\n",
              "      border-color: transparent;\n",
              "      border-left-color: var(--fill-color);\n",
              "      border-top-color: var(--fill-color);\n",
              "    }\n",
              "    30% {\n",
              "      border-color: transparent;\n",
              "      border-left-color: var(--fill-color);\n",
              "      border-top-color: var(--fill-color);\n",
              "      border-right-color: var(--fill-color);\n",
              "    }\n",
              "    40% {\n",
              "      border-color: transparent;\n",
              "      border-right-color: var(--fill-color);\n",
              "      border-top-color: var(--fill-color);\n",
              "    }\n",
              "    60% {\n",
              "      border-color: transparent;\n",
              "      border-right-color: var(--fill-color);\n",
              "    }\n",
              "    80% {\n",
              "      border-color: transparent;\n",
              "      border-right-color: var(--fill-color);\n",
              "      border-bottom-color: var(--fill-color);\n",
              "    }\n",
              "    90% {\n",
              "      border-color: transparent;\n",
              "      border-bottom-color: var(--fill-color);\n",
              "    }\n",
              "  }\n",
              "</style>\n",
              "\n",
              "  <script>\n",
              "    async function quickchart(key) {\n",
              "      const quickchartButtonEl =\n",
              "        document.querySelector('#' + key + ' button');\n",
              "      quickchartButtonEl.disabled = true;  // To prevent multiple clicks.\n",
              "      quickchartButtonEl.classList.add('colab-df-spinner');\n",
              "      try {\n",
              "        const charts = await google.colab.kernel.invokeFunction(\n",
              "            'suggestCharts', [key], {});\n",
              "      } catch (error) {\n",
              "        console.error('Error during call to suggestCharts:', error);\n",
              "      }\n",
              "      quickchartButtonEl.classList.remove('colab-df-spinner');\n",
              "      quickchartButtonEl.classList.add('colab-df-quickchart-complete');\n",
              "    }\n",
              "    (() => {\n",
              "      let quickchartButtonEl =\n",
              "        document.querySelector('#df-97d01b94-b13a-439e-9266-8243f740a560 button');\n",
              "      quickchartButtonEl.style.display =\n",
              "        google.colab.kernel.accessAllowed ? 'block' : 'none';\n",
              "    })();\n",
              "  </script>\n",
              "</div>\n",
              "    </div>\n",
              "  </div>\n"
            ]
          },
          "metadata": {},
          "execution_count": 70
        }
      ]
    },
    {
      "cell_type": "code",
      "source": [
        "dfn['label'] = dfn['label'].replace({'Reject':'1' , 'Accept': '0'})"
      ],
      "metadata": {
        "id": "gWrWIlQpaZhN"
      },
      "execution_count": 71,
      "outputs": []
    },
    {
      "cell_type": "code",
      "source": [
        "#seprating the label column\n",
        "dfl=dfn['label']\n",
        "dfn=dfn.drop('label',axis=1)\n"
      ],
      "metadata": {
        "id": "mQy3Ndak6Mo3"
      },
      "execution_count": 72,
      "outputs": []
    },
    {
      "cell_type": "code",
      "source": [
        "dfl"
      ],
      "metadata": {
        "colab": {
          "base_uri": "https://localhost:8080/"
        },
        "id": "R2DcdqVm6m8Y",
        "outputId": "ebe537e7-577c-43d3-caf1-eaceb5adff2c"
      },
      "execution_count": 73,
      "outputs": [
        {
          "output_type": "execute_result",
          "data": {
            "text/plain": [
              "0       1\n",
              "1       1\n",
              "2       1\n",
              "3       1\n",
              "4       1\n",
              "       ..\n",
              "1543    0\n",
              "1544    0\n",
              "1545    0\n",
              "1546    0\n",
              "1547    0\n",
              "Name: label, Length: 1548, dtype: object"
            ]
          },
          "metadata": {},
          "execution_count": 73
        }
      ]
    },
    {
      "cell_type": "markdown",
      "source": [
        "**Modelling**"
      ],
      "metadata": {
        "id": "cgI1Tk-g41ne"
      }
    },
    {
      "cell_type": "code",
      "source": [
        "x=dfn\n",
        "y=dfl"
      ],
      "metadata": {
        "id": "SdonPHdI6Ocb"
      },
      "execution_count": 74,
      "outputs": []
    },
    {
      "cell_type": "markdown",
      "source": [
        "Logistic Regression"
      ],
      "metadata": {
        "id": "DtHltTGr9Bcf"
      }
    },
    {
      "cell_type": "code",
      "source": [
        "from sklearn.model_selection import train_test_split\n",
        "\n",
        "xTrain, xTest, yTrain, yTest = train_test_split(x, y, test_size=0.2, random_state=42)"
      ],
      "metadata": {
        "id": "shePrP6WwnJt"
      },
      "execution_count": 75,
      "outputs": []
    },
    {
      "cell_type": "code",
      "source": [
        "# Import MinMaxScaler\n",
        "from sklearn.preprocessing import MinMaxScaler\n",
        "# Instantiate MinMaxScaler and use it to rescale X_train and X_test\n",
        "scaler = MinMaxScaler(feature_range=(0,1))\n",
        "rescaledxTrain = scaler.fit_transform(xTrain)\n",
        "rescaledxTest = scaler.fit_transform(xTest)\n",
        "\n",
        "# Import LogisticRegression\n",
        "from sklearn.linear_model import LogisticRegression\n",
        "# Instantiate a LogisticRegression classifier with default parameter values\n",
        "logreg = LogisticRegression()\n",
        "\n",
        "# Fit logreg to the train set\n",
        "logreg.fit(rescaledxTrain, yTrain)"
      ],
      "metadata": {
        "colab": {
          "base_uri": "https://localhost:8080/",
          "height": 74
        },
        "id": "Dz8SSm6N57V-",
        "outputId": "dfc459f6-fd8d-4e73-e9ff-a07ec88510cb"
      },
      "execution_count": 76,
      "outputs": [
        {
          "output_type": "execute_result",
          "data": {
            "text/plain": [
              "LogisticRegression()"
            ],
            "text/html": [
              "<style>#sk-container-id-1 {color: black;background-color: white;}#sk-container-id-1 pre{padding: 0;}#sk-container-id-1 div.sk-toggleable {background-color: white;}#sk-container-id-1 label.sk-toggleable__label {cursor: pointer;display: block;width: 100%;margin-bottom: 0;padding: 0.3em;box-sizing: border-box;text-align: center;}#sk-container-id-1 label.sk-toggleable__label-arrow:before {content: \"▸\";float: left;margin-right: 0.25em;color: #696969;}#sk-container-id-1 label.sk-toggleable__label-arrow:hover:before {color: black;}#sk-container-id-1 div.sk-estimator:hover label.sk-toggleable__label-arrow:before {color: black;}#sk-container-id-1 div.sk-toggleable__content {max-height: 0;max-width: 0;overflow: hidden;text-align: left;background-color: #f0f8ff;}#sk-container-id-1 div.sk-toggleable__content pre {margin: 0.2em;color: black;border-radius: 0.25em;background-color: #f0f8ff;}#sk-container-id-1 input.sk-toggleable__control:checked~div.sk-toggleable__content {max-height: 200px;max-width: 100%;overflow: auto;}#sk-container-id-1 input.sk-toggleable__control:checked~label.sk-toggleable__label-arrow:before {content: \"▾\";}#sk-container-id-1 div.sk-estimator input.sk-toggleable__control:checked~label.sk-toggleable__label {background-color: #d4ebff;}#sk-container-id-1 div.sk-label input.sk-toggleable__control:checked~label.sk-toggleable__label {background-color: #d4ebff;}#sk-container-id-1 input.sk-hidden--visually {border: 0;clip: rect(1px 1px 1px 1px);clip: rect(1px, 1px, 1px, 1px);height: 1px;margin: -1px;overflow: hidden;padding: 0;position: absolute;width: 1px;}#sk-container-id-1 div.sk-estimator {font-family: monospace;background-color: #f0f8ff;border: 1px dotted black;border-radius: 0.25em;box-sizing: border-box;margin-bottom: 0.5em;}#sk-container-id-1 div.sk-estimator:hover {background-color: #d4ebff;}#sk-container-id-1 div.sk-parallel-item::after {content: \"\";width: 100%;border-bottom: 1px solid gray;flex-grow: 1;}#sk-container-id-1 div.sk-label:hover label.sk-toggleable__label {background-color: #d4ebff;}#sk-container-id-1 div.sk-serial::before {content: \"\";position: absolute;border-left: 1px solid gray;box-sizing: border-box;top: 0;bottom: 0;left: 50%;z-index: 0;}#sk-container-id-1 div.sk-serial {display: flex;flex-direction: column;align-items: center;background-color: white;padding-right: 0.2em;padding-left: 0.2em;position: relative;}#sk-container-id-1 div.sk-item {position: relative;z-index: 1;}#sk-container-id-1 div.sk-parallel {display: flex;align-items: stretch;justify-content: center;background-color: white;position: relative;}#sk-container-id-1 div.sk-item::before, #sk-container-id-1 div.sk-parallel-item::before {content: \"\";position: absolute;border-left: 1px solid gray;box-sizing: border-box;top: 0;bottom: 0;left: 50%;z-index: -1;}#sk-container-id-1 div.sk-parallel-item {display: flex;flex-direction: column;z-index: 1;position: relative;background-color: white;}#sk-container-id-1 div.sk-parallel-item:first-child::after {align-self: flex-end;width: 50%;}#sk-container-id-1 div.sk-parallel-item:last-child::after {align-self: flex-start;width: 50%;}#sk-container-id-1 div.sk-parallel-item:only-child::after {width: 0;}#sk-container-id-1 div.sk-dashed-wrapped {border: 1px dashed gray;margin: 0 0.4em 0.5em 0.4em;box-sizing: border-box;padding-bottom: 0.4em;background-color: white;}#sk-container-id-1 div.sk-label label {font-family: monospace;font-weight: bold;display: inline-block;line-height: 1.2em;}#sk-container-id-1 div.sk-label-container {text-align: center;}#sk-container-id-1 div.sk-container {/* jupyter's `normalize.less` sets `[hidden] { display: none; }` but bootstrap.min.css set `[hidden] { display: none !important; }` so we also need the `!important` here to be able to override the default hidden behavior on the sphinx rendered scikit-learn.org. See: https://github.com/scikit-learn/scikit-learn/issues/21755 */display: inline-block !important;position: relative;}#sk-container-id-1 div.sk-text-repr-fallback {display: none;}</style><div id=\"sk-container-id-1\" class=\"sk-top-container\"><div class=\"sk-text-repr-fallback\"><pre>LogisticRegression()</pre><b>In a Jupyter environment, please rerun this cell to show the HTML representation or trust the notebook. <br />On GitHub, the HTML representation is unable to render, please try loading this page with nbviewer.org.</b></div><div class=\"sk-container\" hidden><div class=\"sk-item\"><div class=\"sk-estimator sk-toggleable\"><input class=\"sk-toggleable__control sk-hidden--visually\" id=\"sk-estimator-id-1\" type=\"checkbox\" checked><label for=\"sk-estimator-id-1\" class=\"sk-toggleable__label sk-toggleable__label-arrow\">LogisticRegression</label><div class=\"sk-toggleable__content\"><pre>LogisticRegression()</pre></div></div></div></div></div>"
            ]
          },
          "metadata": {},
          "execution_count": 76
        }
      ]
    },
    {
      "cell_type": "code",
      "source": [
        "# Import confusion_matrix\n",
        "from sklearn.metrics import confusion_matrix\n",
        "# Use logreg to predict instances from the test set and store it\n",
        "y_pred = logreg.predict(rescaledxTest)\n",
        "y_pred1 = logreg.predict(rescaledxTrain)\n",
        "\n",
        "# Get the accuracy score of logreg model and print it\n",
        "print(\"Test: Accuracy = \", logreg.score(rescaledxTest,yTest))\n",
        "print(\"Train: Accuracy = \", logreg.score(rescaledxTrain,yTrain))\n",
        "\n",
        "# Print the confusion matrix of the logreg model\n",
        "confusion_matrix(yTest,y_pred)"
      ],
      "metadata": {
        "colab": {
          "base_uri": "https://localhost:8080/"
        },
        "id": "22AOaN4H6Bqk",
        "outputId": "6a2abc97-894d-4fe4-8d71-f726e4263acf"
      },
      "execution_count": 77,
      "outputs": [
        {
          "output_type": "stream",
          "name": "stdout",
          "text": [
            "Test: Accuracy =  0.9032258064516129\n",
            "Train: Accuracy =  0.882875605815832\n"
          ]
        },
        {
          "output_type": "execute_result",
          "data": {
            "text/plain": [
              "array([[280,   0],\n",
              "       [ 30,   0]])"
            ]
          },
          "metadata": {},
          "execution_count": 77
        }
      ]
    },
    {
      "cell_type": "markdown",
      "source": [
        "Decision Tree"
      ],
      "metadata": {
        "id": "Nt-lo-hc9RaX"
      }
    },
    {
      "cell_type": "code",
      "source": [
        "from sklearn.tree import DecisionTreeClassifier\n",
        "from sklearn.metrics import accuracy_score"
      ],
      "metadata": {
        "id": "1ifTUvwe-X7o"
      },
      "execution_count": 78,
      "outputs": []
    },
    {
      "cell_type": "code",
      "source": [
        "x=dfn\n",
        "y=dfl\n",
        "\n",
        "\n",
        "#spliting the data into training and testing sets\n",
        "from sklearn.model_selection import train_test_split\n",
        "x_train, x_test, y_train, y_test = train_test_split(x,y, test_size=0.2, random_state=42)\n",
        "\n",
        "#initialize a decision tree classifier\n",
        "model=DecisionTreeClassifier(max_depth=10)##max_depth=10 because of over fitting issue\n",
        "model.fit(x_train, y_train)\n"
      ],
      "metadata": {
        "colab": {
          "base_uri": "https://localhost:8080/",
          "height": 74
        },
        "id": "WycDtXLfOVBC",
        "outputId": "5af39242-0c98-41ee-d6e7-38af767a6260"
      },
      "execution_count": 79,
      "outputs": [
        {
          "output_type": "execute_result",
          "data": {
            "text/plain": [
              "DecisionTreeClassifier(max_depth=10)"
            ],
            "text/html": [
              "<style>#sk-container-id-2 {color: black;background-color: white;}#sk-container-id-2 pre{padding: 0;}#sk-container-id-2 div.sk-toggleable {background-color: white;}#sk-container-id-2 label.sk-toggleable__label {cursor: pointer;display: block;width: 100%;margin-bottom: 0;padding: 0.3em;box-sizing: border-box;text-align: center;}#sk-container-id-2 label.sk-toggleable__label-arrow:before {content: \"▸\";float: left;margin-right: 0.25em;color: #696969;}#sk-container-id-2 label.sk-toggleable__label-arrow:hover:before {color: black;}#sk-container-id-2 div.sk-estimator:hover label.sk-toggleable__label-arrow:before {color: black;}#sk-container-id-2 div.sk-toggleable__content {max-height: 0;max-width: 0;overflow: hidden;text-align: left;background-color: #f0f8ff;}#sk-container-id-2 div.sk-toggleable__content pre {margin: 0.2em;color: black;border-radius: 0.25em;background-color: #f0f8ff;}#sk-container-id-2 input.sk-toggleable__control:checked~div.sk-toggleable__content {max-height: 200px;max-width: 100%;overflow: auto;}#sk-container-id-2 input.sk-toggleable__control:checked~label.sk-toggleable__label-arrow:before {content: \"▾\";}#sk-container-id-2 div.sk-estimator input.sk-toggleable__control:checked~label.sk-toggleable__label {background-color: #d4ebff;}#sk-container-id-2 div.sk-label input.sk-toggleable__control:checked~label.sk-toggleable__label {background-color: #d4ebff;}#sk-container-id-2 input.sk-hidden--visually {border: 0;clip: rect(1px 1px 1px 1px);clip: rect(1px, 1px, 1px, 1px);height: 1px;margin: -1px;overflow: hidden;padding: 0;position: absolute;width: 1px;}#sk-container-id-2 div.sk-estimator {font-family: monospace;background-color: #f0f8ff;border: 1px dotted black;border-radius: 0.25em;box-sizing: border-box;margin-bottom: 0.5em;}#sk-container-id-2 div.sk-estimator:hover {background-color: #d4ebff;}#sk-container-id-2 div.sk-parallel-item::after {content: \"\";width: 100%;border-bottom: 1px solid gray;flex-grow: 1;}#sk-container-id-2 div.sk-label:hover label.sk-toggleable__label {background-color: #d4ebff;}#sk-container-id-2 div.sk-serial::before {content: \"\";position: absolute;border-left: 1px solid gray;box-sizing: border-box;top: 0;bottom: 0;left: 50%;z-index: 0;}#sk-container-id-2 div.sk-serial {display: flex;flex-direction: column;align-items: center;background-color: white;padding-right: 0.2em;padding-left: 0.2em;position: relative;}#sk-container-id-2 div.sk-item {position: relative;z-index: 1;}#sk-container-id-2 div.sk-parallel {display: flex;align-items: stretch;justify-content: center;background-color: white;position: relative;}#sk-container-id-2 div.sk-item::before, #sk-container-id-2 div.sk-parallel-item::before {content: \"\";position: absolute;border-left: 1px solid gray;box-sizing: border-box;top: 0;bottom: 0;left: 50%;z-index: -1;}#sk-container-id-2 div.sk-parallel-item {display: flex;flex-direction: column;z-index: 1;position: relative;background-color: white;}#sk-container-id-2 div.sk-parallel-item:first-child::after {align-self: flex-end;width: 50%;}#sk-container-id-2 div.sk-parallel-item:last-child::after {align-self: flex-start;width: 50%;}#sk-container-id-2 div.sk-parallel-item:only-child::after {width: 0;}#sk-container-id-2 div.sk-dashed-wrapped {border: 1px dashed gray;margin: 0 0.4em 0.5em 0.4em;box-sizing: border-box;padding-bottom: 0.4em;background-color: white;}#sk-container-id-2 div.sk-label label {font-family: monospace;font-weight: bold;display: inline-block;line-height: 1.2em;}#sk-container-id-2 div.sk-label-container {text-align: center;}#sk-container-id-2 div.sk-container {/* jupyter's `normalize.less` sets `[hidden] { display: none; }` but bootstrap.min.css set `[hidden] { display: none !important; }` so we also need the `!important` here to be able to override the default hidden behavior on the sphinx rendered scikit-learn.org. See: https://github.com/scikit-learn/scikit-learn/issues/21755 */display: inline-block !important;position: relative;}#sk-container-id-2 div.sk-text-repr-fallback {display: none;}</style><div id=\"sk-container-id-2\" class=\"sk-top-container\"><div class=\"sk-text-repr-fallback\"><pre>DecisionTreeClassifier(max_depth=10)</pre><b>In a Jupyter environment, please rerun this cell to show the HTML representation or trust the notebook. <br />On GitHub, the HTML representation is unable to render, please try loading this page with nbviewer.org.</b></div><div class=\"sk-container\" hidden><div class=\"sk-item\"><div class=\"sk-estimator sk-toggleable\"><input class=\"sk-toggleable__control sk-hidden--visually\" id=\"sk-estimator-id-2\" type=\"checkbox\" checked><label for=\"sk-estimator-id-2\" class=\"sk-toggleable__label sk-toggleable__label-arrow\">DecisionTreeClassifier</label><div class=\"sk-toggleable__content\"><pre>DecisionTreeClassifier(max_depth=10)</pre></div></div></div></div></div>"
            ]
          },
          "metadata": {},
          "execution_count": 79
        }
      ]
    },
    {
      "cell_type": "code",
      "source": [],
      "metadata": {
        "id": "4pFqofIEoC--"
      },
      "execution_count": 79,
      "outputs": []
    },
    {
      "cell_type": "code",
      "source": [
        "#predict on test data\n",
        "from sklearn.metrics import accuracy_score\n",
        "ypred_test=model.predict(x_test)\n",
        "accuracy = accuracy_score(y_test, y_pred)\n",
        "print(\"Test accuracy:\",accuracy)"
      ],
      "metadata": {
        "colab": {
          "base_uri": "https://localhost:8080/"
        },
        "id": "KkiG_Jv_dYAP",
        "outputId": "07d84c00-975b-49aa-8639-b3a8699de46f"
      },
      "execution_count": 96,
      "outputs": [
        {
          "output_type": "stream",
          "name": "stdout",
          "text": [
            "Test accuracy: 0.9032258064516129\n"
          ]
        }
      ]
    },
    {
      "cell_type": "code",
      "source": [
        "#predict on traim data\n",
        "ypred_train=model.predict(x_train)\n",
        "accuracy = accuracy_score(y_train, ypred_train)\n",
        "print(\"Train accuracy:\",accuracy)\n"
      ],
      "metadata": {
        "colab": {
          "base_uri": "https://localhost:8080/"
        },
        "id": "ZbXsjCxFeghT",
        "outputId": "70f5d005-94bc-4afd-8099-ab99f04a9d6c"
      },
      "execution_count": 97,
      "outputs": [
        {
          "output_type": "stream",
          "name": "stdout",
          "text": [
            "Train accuracy: 0.9361873990306947\n"
          ]
        }
      ]
    },
    {
      "cell_type": "markdown",
      "source": [
        "Random Forest"
      ],
      "metadata": {
        "id": "WLGEBc-8NS7u"
      }
    },
    {
      "cell_type": "code",
      "source": [
        "from sklearn.ensemble import RandomForestClassifier\n",
        "from sklearn.metrics import accuracy_score\n",
        "\n",
        "#spliting the data into training and testing sets\n",
        "from sklearn.model_selection import train_test_split\n",
        "x_train, x_test, y_train, y_test = train_test_split(x,y, test_size=0.2, random_state=42)\n",
        "\n",
        "#initialize a decision tree classifier\n",
        "model=RandomForestClassifier(n_estimators=1)\n",
        "model.fit(x_train, y_train)\n",
        "\n",
        "#predict on test data\n",
        "from sklearn.metrics import accuracy_score\n",
        "ypred_test=model.predict(x_test)\n",
        "accuracy = accuracy_score(y_test, y_pred)\n",
        "print(\"Test accuracy:\",accuracy)\n",
        "\n",
        "#predict on train data\n",
        "ypred_train=model.predict(x_train)\n",
        "accuracy = accuracy_score(y_train, ypred_train)\n",
        "print(\"train accuracy:\",accuracy)\n",
        "\n"
      ],
      "metadata": {
        "colab": {
          "base_uri": "https://localhost:8080/"
        },
        "id": "TEkCEK3zNPqe",
        "outputId": "9346d0b0-6051-44e5-cef1-088b98818c3c"
      },
      "execution_count": 95,
      "outputs": [
        {
          "output_type": "stream",
          "name": "stdout",
          "text": [
            "Test accuracy: 0.9032258064516129\n",
            "train accuracy: 0.9361873990306947\n"
          ]
        }
      ]
    },
    {
      "cell_type": "markdown",
      "source": [
        "Gradient Boost"
      ],
      "metadata": {
        "id": "CnwsDmVdJHmO"
      }
    },
    {
      "cell_type": "code",
      "source": [
        "from sklearn.ensemble import GradientBoostingClassifier\n",
        "\n",
        "clf = GradientBoostingClassifier(random_state=0)\n",
        "clf.fit(xTrain, yTrain)\n",
        "\n",
        "train_predict = clf.predict(xTrain)\n",
        "test_predict = clf.predict(xTest)\n",
        "\n",
        "\n",
        "test_acc = accuracy_score(yTest, test_predict)\n",
        "train_acc = accuracy_score(yTrain, train_predict)\n",
        "print('Train score:',train_acc,'Test score:',test_acc)"
      ],
      "metadata": {
        "colab": {
          "base_uri": "https://localhost:8080/"
        },
        "id": "uXGc5Sr7kikH",
        "outputId": "38e8afa3-722b-4f97-9b1e-fe77f250337c"
      },
      "execution_count": 83,
      "outputs": [
        {
          "output_type": "stream",
          "name": "stdout",
          "text": [
            "Train score: 0.9103392568659128 Test score: 0.9096774193548387\n"
          ]
        }
      ]
    },
    {
      "cell_type": "markdown",
      "source": [
        "KNN"
      ],
      "metadata": {
        "id": "fCcxtRIlQRkf"
      }
    },
    {
      "cell_type": "code",
      "source": [
        "from sklearn.neighbors import KNeighborsClassifier\n",
        "\n",
        "train_acc=[]\n",
        "test_acc=[]\n",
        "list_score=[]\n",
        "\n",
        "knn = KNeighborsClassifier(n_neighbors=i)\n",
        "knn.fit(xTrain,yTrain)\n",
        "\n",
        "train_predict = knn.predict(xTrain)\n",
        "test_predict = knn.predict(xTest)\n",
        "\n",
        "test_acc = accuracy_score(yTest, test_predict)\n",
        "train_acc = accuracy_score(yTrain, train_predict)\n",
        "print('Train score:',train_acc,'Test score:',test_acc)\n",
        "\n"
      ],
      "metadata": {
        "colab": {
          "base_uri": "https://localhost:8080/"
        },
        "id": "VuLk4wxLVXG3",
        "outputId": "7d9c7ac9-98c4-4de8-d51b-7161288ef5e1"
      },
      "execution_count": 104,
      "outputs": [
        {
          "output_type": "stream",
          "name": "stdout",
          "text": [
            "Train score: 0.8844911147011308 Test score: 0.9032258064516129\n"
          ]
        }
      ]
    },
    {
      "cell_type": "markdown",
      "source": [
        "printing the result of all the algorithms"
      ],
      "metadata": {
        "id": "--VkWBDuWUgF"
      }
    },
    {
      "cell_type": "code",
      "source": [
        "from prettytable import PrettyTable\n",
        "\n",
        "# Create a PrettyTable instance\n",
        "table = PrettyTable()\n",
        "\n",
        "# Define the column names\n",
        "table.field_names = [\"Model\", \"Train Accuracy\", \"Test Accuracy\"]\n",
        "\n",
        "# Add data to the table\n",
        "table.add_row([\"Logistic Regression\", 0.90, 0.88])\n",
        "table.add_row([\"Decision Tree\", 0.93, 0.90])\n",
        "table.add_row([\"Random Forest\", 0.93, 0.90])\n",
        "table.add_row([\"Gradient Boost\", 0.91, 0.90])\n",
        "table.add_row([\"KNN\", 0.88, 0.90])\n",
        "\n",
        "# Print the table\n",
        "print(table)\n"
      ],
      "metadata": {
        "colab": {
          "base_uri": "https://localhost:8080/"
        },
        "id": "cJKagJz6-jeN",
        "outputId": "dd144e69-f904-4276-d772-8a3a1befa5c0"
      },
      "execution_count": 2,
      "outputs": [
        {
          "output_type": "stream",
          "name": "stdout",
          "text": [
            "+---------------------+----------------+---------------+\n",
            "|        Model        | Train Accuracy | Test Accuracy |\n",
            "+---------------------+----------------+---------------+\n",
            "| Logistic Regression |      0.9       |      0.88     |\n",
            "|    Decision Tree    |      0.93      |      0.9      |\n",
            "|    Random Forest    |      0.93      |      0.9      |\n",
            "|    Gradient Boost   |      0.91      |      0.9      |\n",
            "|         KNN         |      0.88      |      0.9      |\n",
            "+---------------------+----------------+---------------+\n"
          ]
        }
      ]
    }
  ]
}